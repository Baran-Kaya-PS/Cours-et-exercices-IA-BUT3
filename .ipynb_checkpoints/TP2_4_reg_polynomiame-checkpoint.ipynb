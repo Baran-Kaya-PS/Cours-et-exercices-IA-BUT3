{
 "cells": [
  {
   "cell_type": "markdown",
   "id": "ffe3c1f1",
   "metadata": {
    "pycharm": {
     "name": "#%% md\n"
    }
   },
   "source": [
    "#  TP2- Régression linéaire \"from scratch\" \n",
    "## TP2.4  Régression polynomiale\n"
   ]
  },
  {
   "cell_type": "code",
   "execution_count": 1,
   "id": "1065063b",
   "metadata": {
    "ExecuteTime": {
     "end_time": "2023-09-20T07:20:35.902349100Z",
     "start_time": "2023-09-20T07:20:34.478106700Z"
    },
    "pycharm": {
     "name": "#%%\n"
    },
    "tags": []
   },
   "outputs": [
    {
     "ename": "ModuleNotFoundError",
     "evalue": "No module named 'lab_utils_multi'",
     "output_type": "error",
     "traceback": [
      "\u001b[1;31m---------------------------------------------------------------------------\u001b[0m",
      "\u001b[1;31mModuleNotFoundError\u001b[0m                       Traceback (most recent call last)",
      "\u001b[1;32m~\\AppData\\Local\\Temp\\ipykernel_14412\\3151646346.py\u001b[0m in \u001b[0;36m<module>\u001b[1;34m\u001b[0m\n\u001b[0;32m      1\u001b[0m \u001b[1;32mimport\u001b[0m \u001b[0mnumpy\u001b[0m \u001b[1;32mas\u001b[0m \u001b[0mnp\u001b[0m\u001b[1;33m\u001b[0m\u001b[1;33m\u001b[0m\u001b[0m\n\u001b[0;32m      2\u001b[0m \u001b[1;32mimport\u001b[0m \u001b[0mmatplotlib\u001b[0m\u001b[1;33m.\u001b[0m\u001b[0mpyplot\u001b[0m \u001b[1;32mas\u001b[0m \u001b[0mplt\u001b[0m\u001b[1;33m\u001b[0m\u001b[1;33m\u001b[0m\u001b[0m\n\u001b[1;32m----> 3\u001b[1;33m \u001b[1;32mfrom\u001b[0m \u001b[0mlab_utils_multi\u001b[0m \u001b[1;32mimport\u001b[0m \u001b[0mrun_gradient_descent_ng\u001b[0m\u001b[1;33m,\u001b[0m \u001b[0mzscore_normalize_features\u001b[0m\u001b[1;33m\u001b[0m\u001b[1;33m\u001b[0m\u001b[0m\n\u001b[0m\u001b[0;32m      4\u001b[0m \u001b[1;31m#np.set_printoptions(precision=2)  # reduced display precision on numpy arrays\u001b[0m\u001b[1;33m\u001b[0m\u001b[1;33m\u001b[0m\u001b[0m\n",
      "\u001b[1;31mModuleNotFoundError\u001b[0m: No module named 'lab_utils_multi'"
     ]
    }
   ],
   "source": [
    "import numpy as np\n",
    "import matplotlib.pyplot as plt\n",
    "from lab_utils_multi import run_gradient_descent_ng, zscore_normalize_features\n",
    "#np.set_printoptions(precision=2)  # reduced display precision on numpy arrays"
   ]
  },
  {
   "cell_type": "markdown",
   "id": "82e1f9f4",
   "metadata": {
    "pycharm": {
     "name": "#%% md\n"
    }
   },
   "source": [
    "<a name='FeatureEng'></a>\n",
    "\n",
    "La régression linéaire permet de construire des modèles de la forme :\n",
    "$$f_{\\mathbf{w},b} = w_0x_0 + w_1x_1+ ... + w_{n-1}x_{n-1} + b \\tag{1}$$\n",
    " Que se passe-t-il si vos caractéristiques/données ne sont pas linéaires ou sont des combinaisons de caractéristiques? Par exemple, les prix des logements n'ont pas tendance à être linéaires par rapport à la surface habitable, mais pénalisent les maisons très petites ou très grandes? Comment pouvons-nous utiliser les mécanismes de régression linéaire pour ajuster cette courbe ? <br>\n",
    "**PS** : Rappelons que le \"mécanisme\" dont nous disposons est la capacité de modifier les paramètres $\\mathbf{w}$, $\\mathbf{b}$ dans (1) pour \"ajuster\" l'équation aux données d'apprentissage. Cependant, aucun ajustement de $\\mathbf{w}$, $\\mathbf{b}$ dans (1) ne permettra d'ajuster une courbe non linéaire.\n"
   ]
  },
  {
   "cell_type": "markdown",
   "id": "bf19b263",
   "metadata": {
    "pycharm": {
     "name": "#%% md\n"
    }
   },
   "source": [
    "<a name='PolynomialFeatures'></a>\n",
    "## Feature Engineering - Variables (features) Polynomiales \n",
    "\n",
    "On part sur des données X, y suivantes (à une variable)\n",
    "- x = np.arange(0, 20, 1)\n",
    "- y = 1 + x**2\n",
    "\n",
    "On essaie de trouver le modèle linéaire $f_{\\mathbf{w},b} = w_0x_0 +b$ qui \"colle\" aux données.\n"
   ]
  },
  {
   "cell_type": "code",
   "execution_count": null,
   "id": "b47050bb",
   "metadata": {
    "pycharm": {
     "name": "#%%\n"
    },
    "tags": []
   },
   "outputs": [],
   "source": [
    "# create target data\n",
    "x = np.arange(0, 20, 1)\n",
    "y = 1 + x**2\n",
    "X = x.reshape(-1, 1)\n",
    " \n",
    "# C'est la fonction qui regroupe les fonctions vues dans le TP 3\n",
    "model_w,model_b = run_gradient_descent_ng(X,y,iterations=1000, alpha = 1e-2)\n",
    "\n",
    "plt.scatter(x, y, marker='x', c='r', label=\"Vraies Valeurs\"); plt.title(\"Simple régression linéaire\")\n",
    "plt.plot(x,X@model_w + model_b, label=\"Valeurs prédites\");  plt.xlabel(\"X\"); plt.ylabel(\"y\"); plt.legend(); plt.show()"
   ]
  },
  {
   "cell_type": "markdown",
   "id": "8ab2e33d",
   "metadata": {
    "pycharm": {
     "name": "#%% md\n"
    }
   },
   "source": [
    "Comme on pouvait s'y attendre, l'ajustement n'est pas  bon. Ce qu'il faut, c'est quelque chose comme $y= w_0x_0^2 + b$, ou une **caractéristique polynomiale**.\n",
    "Pour ce faire, on peut modifier les *données d'entrée* pour *élaborer* les caractéristiques appropriées. Si on remplace les données d'origine par une version qui élève la valeur $x$ au carré, on peut obtenir $y= w_0x_0^2 + b$. Essayons-le. Remplacez `X` par `X**2` ci-dessous :\n",
    "\n"
   ]
  },
  {
   "cell_type": "code",
   "execution_count": null,
   "id": "fca959d3",
   "metadata": {
    "pycharm": {
     "name": "#%%\n"
    },
    "tags": []
   },
   "outputs": [],
   "source": [
    "# create target data\n",
    "x = np.arange(0, 20, 1)\n",
    "y = 1 + x**2\n",
    "\n",
    "# Engineered features \n",
    "X = x**2      #<-- added engineered feature"
   ]
  },
  {
   "cell_type": "code",
   "execution_count": null,
   "id": "a9b9f5f2",
   "metadata": {
    "pycharm": {
     "name": "#%%\n"
    },
    "tags": []
   },
   "outputs": [],
   "source": [
    "X = X.reshape(-1, 1)  #X should be a 2-D Matrix\n",
    "model_w,model_b = run_gradient_descent_ng(X, y, iterations=10000, alpha = 1e-5)\n",
    "\n",
    "plt.scatter(x, y, marker='x', c='r', label=\"Y désiriées\"); plt.title(\"Régr. Non linéaire\")\n",
    "plt.plot(x, np.dot(X,model_w) + model_b, label=\"Valeur prédite\"); plt.xlabel(\"x\"); plt.ylabel(\"y\"); plt.legend(); plt.show()"
   ]
  },
  {
   "cell_type": "markdown",
   "id": "3eee945d",
   "metadata": {
    "pycharm": {
     "name": "#%% md\n"
    }
   },
   "source": [
    "L'ajustement est presque parfait. Remarquez les valeurs de $\\mathbf{w}$ et de b imprimées juste au-dessus du graphique : `w,b found by gradient descent : w : [1.], b : 0.0490`. La descente de gradient a modifié nos valeurs initiales de $\\mathbf{w},b $ pour qu'elles soient (1.0,0.049) ou un modèle de $y=1*x_0^2+0.049$, très proche de notre objectif de $y=1*x_0^2+1$. Si on l'exécute plus longtemps, la correspondance pourrait être meilleure. "
   ]
  },
  {
   "cell_type": "markdown",
   "id": "4880e1ea",
   "metadata": {
    "pycharm": {
     "name": "#%% md\n"
    }
   },
   "source": [
    "### Sélection des caractéristiques (Featue selection)\n",
    "Ci-dessus, nous savions qu'un terme $x^2$ était nécessaire. Il n'est pas toujours évident de déterminer les caractéristiques nécessaires. Nous pouvons ajouter une variété de caractéristiques potentielles pour essayer de trouver la plus utile. Par exemple, que se passerait-il si nous essayions : $y=w_0x_0 + w_1x_1^2 + w_2x_2^3+b$ ? \n",
    "\n",
    "Testons ci dessous."
   ]
  },
  {
   "cell_type": "code",
   "execution_count": null,
   "id": "bd7af7cd",
   "metadata": {
    "pycharm": {
     "name": "#%%\n"
    },
    "tags": []
   },
   "outputs": [],
   "source": [
    "# create target data\n",
    "x = np.arange(0, 20, 1)\n",
    "y = x**2\n",
    "\n",
    "# engineer features .\n",
    "# on a donc trois features, x, x2 et x3.\n",
    "X = np.c_[x, x**2, x**3]   #<-- added engineered feature"
   ]
  },
  {
   "cell_type": "code",
   "execution_count": null,
   "id": "73e66e92",
   "metadata": {
    "pycharm": {
     "name": "#%%\n"
    },
    "tags": []
   },
   "outputs": [],
   "source": [
    "model_w,model_b = run_gradient_descent_ng(X, y, iterations=10000, alpha=1e-7)\n",
    "\n",
    "plt.scatter(x, y, marker='x', c='r', label=\"Vraies sories\"); plt.title(\"x, x**2, x**3 features\")\n",
    "plt.plot(x, X@model_w + model_b, label=\"Valeurs prédittes\"); plt.xlabel(\"x\"); plt.ylabel(\"y\"); plt.legend(); plt.show()"
   ]
  },
  {
   "cell_type": "markdown",
   "id": "cd35358c",
   "metadata": {
    "pycharm": {
     "name": "#%% md\n"
    }
   },
   "source": [
    "Notez la valeur de $\\mathbf{w}$, `[0.08 0.54 0.03]` et b est `0.0106`.Cela implique que le modèle après ajustement/entraînement est :\n",
    "$$ 0.08x + 0.54x^2 + 0.03x^3 + 0.0106 $$\n",
    "La descente de gradient a mis l'accent sur les données qui correspondent le mieux aux données $x^2$ en augmentant le terme $w_1$ par rapport aux autres.  Si vous exécutez le programme pendant très longtemps, il continuera à réduire l'impact des autres termes. \n",
    ">La descente de gradient sélectionne les caractéristiques \"correctes\" pour nous en mettant l'accent sur le paramètre associé.\n",
    "\n",
    "Examinons cette idée :\n",
    "- Au départ, les caractéristiques ont été redimensionnées de manière à ce qu'elles soient comparables les unes aux autres.\n",
    "- Une valeur de poids inférieure implique une caractéristique moins importante/correcte et, à l'extrême, lorsque le poids devient nul ou très proche de zéro, la caractéristique associée est utile pour ajuster le modèle aux données.\n",
    "- ci-dessus, après l'ajustement, le poids associé à la caractéristique $x^2$ est beaucoup plus important que les poids pour $x$ ou $x^3$, car c'est la caractéristique la plus utile pour l'ajustement aux données. \n"
   ]
  },
  {
   "cell_type": "markdown",
   "id": "a702f0cd",
   "metadata": {
    "pycharm": {
     "name": "#%% md\n"
    }
   },
   "source": [
    "### Fonctions plus complexes\n",
    "On peut iutiliser des fonctions plus complexes : \n",
    "$$f_w,b(x)=w_0x_0 + w_1x_1^2 + w_2x_2^3+w_3x_3^4+...+w_{12}x_{12}^{13}+b$$"
   ]
  },
  {
   "cell_type": "code",
   "execution_count": 3,
   "id": "5e18e4aa",
   "metadata": {
    "pycharm": {
     "name": "#%%\n"
    },
    "tags": []
   },
   "outputs": [
    {
     "name": "stdout",
     "output_type": "stream",
     "text": [
      "Iteration         0, Cost: 2.20188e-01\n",
      "Iteration    100000, Cost: 1.70074e-02\n",
      "Iteration    200000, Cost: 1.27603e-02\n",
      "Iteration    300000, Cost: 9.73032e-03\n",
      "Iteration    400000, Cost: 7.56440e-03\n",
      "Iteration    500000, Cost: 6.01412e-03\n",
      "Iteration    600000, Cost: 4.90251e-03\n",
      "Iteration    700000, Cost: 4.10351e-03\n",
      "Iteration    800000, Cost: 3.52730e-03\n",
      "Iteration    900000, Cost: 3.10989e-03\n",
      "####################################\n",
      "w,b found by gradient descent: w: [ -1.33565562 -10.00231728  24.77799625   5.96170981 -12.48587921\n",
      " -16.26275994  -9.50807133   0.59194813   8.70295901  11.9412625\n",
      "   9.27097351   0.78896901 -12.81745188], b: -0.0073\n"
     ]
    },
    {
     "data": {
      "image/png": "[encoded data removed]",
      "text/plain": [
       "<Figure size 640x480 with 1 Axes>"
      ]
     },
     "metadata": {},
     "output_type": "display_data"
    }
   ],
   "source": [
    "x = np.arange(0,20,1)\n",
    "y = np.cos(x/2)\n",
    "\n",
    "X = np.c_[x, x**2, x**3,x**4, x**5, x**6, x**7, x**8, x**9, x**10, x**11, x**12, x**13]\n",
    "\n",
    "## Fonction de normalisation des données TRES IMPORTANTES EN Machine Learning\n",
    "## Tester avecx et sans cette fonction.\n",
    "\n",
    "X = zscore_normalize_features(X) \n",
    "\n",
    "model_w,model_b = run_gradient_descent_ng(X, y, iterations=1000000, alpha = 1e-1)\n",
    "\n",
    "plt.scatter(x, y, marker='x', c='r', label=\"Actual Value\"); plt.title(\"Normalized x x**2, x**3 feature\")\n",
    "plt.plot(x,X@model_w + model_b, label=\"Predicted Value\"); plt.xlabel(\"x\"); plt.ylabel(\"y\"); plt.legend(); plt.show()\n"
   ]
  },
  {
   "cell_type": "code",
   "execution_count": null,
   "id": "329bfbcd",
   "metadata": {
    "pycharm": {
     "name": "#%%\n"
    }
   },
   "outputs": [],
   "source": []
  }
 ],
 "metadata": {
  "kernelspec": {
   "display_name": "Python 3 (ipykernel)",
   "language": "python",
   "name": "python3"
  },
  "language_info": {
   "codemirror_mode": {
    "name": "ipython",
    "version": 3
   },
   "file_extension": ".py",
   "mimetype": "text/x-python",
   "name": "python",
   "nbconvert_exporter": "python",
   "pygments_lexer": "ipython3",
   "version": "3.9.13"
  },
  "toc-autonumbering": false
 },
 "nbformat": 4,
 "nbformat_minor": 5
}
