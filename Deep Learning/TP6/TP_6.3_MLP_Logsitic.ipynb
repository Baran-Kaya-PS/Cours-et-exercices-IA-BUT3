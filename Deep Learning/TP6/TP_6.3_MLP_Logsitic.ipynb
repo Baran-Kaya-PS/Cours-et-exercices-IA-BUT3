{
 "cells": [
  {
   "cell_type": "markdown",
   "metadata": {
    "tags": []
   },
   "source": [
    " # TP6: Apprentissage profond(Deep learning)\n",
    " ## TP6.3 Un réseau MLP  : Régression logistique  \n",
    " Dans ce TP, on reprendra les mêmes notions que les TP 6.1 et 6.2 que nous appliquerons à un problème de classification.\n"
   ]
  },
  {
   "cell_type": "code",
   "execution_count": 15,
   "metadata": {
    "tags": [],
    "ExecuteTime": {
     "end_time": "2023-12-07T07:28:28.183717800Z",
     "start_time": "2023-12-07T07:28:27.907610300Z"
    }
   },
   "outputs": [],
   "source": [
    "import numpy as np\n",
    "import matplotlib.pyplot as plt\n",
    "import tensorflow as tf\n",
    "\n",
    "from sklearn.preprocessing import RobustScaler\n",
    "from sklearn.model_selection import train_test_split    \n",
    "\n"
   ]
  },
  {
   "cell_type": "code",
   "execution_count": 16,
   "metadata": {
    "tags": [],
    "ExecuteTime": {
     "end_time": "2023-12-07T07:28:28.360747300Z",
     "start_time": "2023-12-07T07:28:27.927064300Z"
    }
   },
   "outputs": [],
   "source": [
    "from tensorflow.keras import backend as K\n",
    "\n",
    "def f1_score(y_true, y_pred):\n",
    "    # Define the true positives, false positives and false negatives\n",
    "    tp = K.sum(K.round(K.clip(y_true * y_pred, 0, 1)))\n",
    "    fp = K.sum(K.round(K.clip(y_pred - y_true, 0, 1)))\n",
    "    fn = K.sum(K.round(K.clip(y_true - y_pred, 0, 1)))\n",
    "\n",
    "    # Calculate the precision and recall\n",
    "    precision = tp / (tp + fp + K.epsilon())\n",
    "    recall = tp / (tp + fn + K.epsilon())\n",
    "\n",
    "    # Calculate the F1 score\n",
    "    f1_score = 2 * ((precision * recall) / (precision + recall + K.epsilon()))\n",
    "\n",
    "    return f1_score"
   ]
  },
  {
   "cell_type": "markdown",
   "metadata": {},
   "source": [
    "## Réseau de neurones avec une sortie sigmoide  sigmoïde\n",
    "La fonction implémentée par un neurone/unité avec une activation sigmoïde est la même que dans le chapitre 3, la régression logistique :\n",
    "$$ f_{\\mathbf{w},b}(x^{(i)}) = g(\\mathbf{w}x^{(i)} + b) \\tag{2}$$\n",
    "où $$ f_{\\mathbf{g(x) = sigmoïde(x) }$$ \n"
   ]
  },
  {
   "cell_type": "markdown",
   "metadata": {
    "tags": []
   },
   "source": [
    "### 1 Le DataSet\n",
    "On utilisera le Dataset titanic, on fera de la classification"
   ]
  },
  {
   "cell_type": "code",
   "execution_count": 17,
   "metadata": {
    "tags": [],
    "ExecuteTime": {
     "end_time": "2023-12-07T07:28:28.419945800Z",
     "start_time": "2023-12-07T07:28:27.941066300Z"
    }
   },
   "outputs": [],
   "source": [
    "# le dataset titanic \n",
    "import pandas as pd \n",
    "titanic = pd.read_csv('../../data/titanic.csv')\n",
    "\n",
    "# On prend juste une partie du fichier.\n",
    "titanic = titanic[['Survived', 'Pclass', 'Sex', 'Age']]\n",
    "#  on regrade les chance de Survived  en fonction des autres features.\n",
    "X_features=['Pclass', 'Sex', 'Age']\n",
    "titanic.dropna(axis=0, inplace=True)\n",
    "titanic['Sex'].replace(['male', 'female'], [0, 1], inplace=True)\n",
    "titanic.head()\n",
    "\n",
    "y = titanic['Survived'] # récupérer la colonne survived et la mettre dans y\n",
    "\n",
    "# récuperer le reste des données dans X utiliser la fonction titanic.drop ???, ??? )\n",
    "X = titanic.drop('Survived', axis=1)\n",
    "\n"
   ]
  },
  {
   "cell_type": "markdown",
   "metadata": {
    "tags": []
   },
   "source": [
    "## 2 Préparation des données"
   ]
  },
  {
   "cell_type": "markdown",
   "metadata": {
    "tags": []
   },
   "source": [
    "#### 2.1. Split des données (on fait du 80%, 20%)"
   ]
  },
  {
   "cell_type": "code",
   "execution_count": 18,
   "metadata": {
    "tags": [],
    "ExecuteTime": {
     "end_time": "2023-12-07T07:28:28.420947500Z",
     "start_time": "2023-12-07T07:28:27.955536500Z"
    }
   },
   "outputs": [],
   "source": [
    "\n",
    "X_train, X_test, y_train, y_test = train_test_split(X, y, test_size=0.2, random_state=42)\n"
   ]
  },
  {
   "cell_type": "markdown",
   "metadata": {},
   "source": [
    "#### 2.2  Normalisation des données"
   ]
  },
  {
   "cell_type": "code",
   "execution_count": 19,
   "metadata": {
    "tags": [],
    "ExecuteTime": {
     "end_time": "2023-12-07T07:28:28.498733300Z",
     "start_time": "2023-12-07T07:28:27.970960500Z"
    }
   },
   "outputs": [
    {
     "data": {
      "text/plain": "<pandas.io.formats.style.Styler at 0x182b8f116d0>",
      "text/html": "<style type=\"text/css\">\n</style>\n<table id=\"T_17891\">\n  <caption>Few lines of the dataset :</caption>\n  <thead>\n    <tr>\n      <th class=\"blank level0\" >&nbsp;</th>\n      <th id=\"T_17891_level0_col0\" class=\"col_heading level0 col0\" >Pclass</th>\n      <th id=\"T_17891_level0_col1\" class=\"col_heading level0 col1\" >Sex</th>\n      <th id=\"T_17891_level0_col2\" class=\"col_heading level0 col2\" >Age</th>\n    </tr>\n  </thead>\n  <tbody>\n    <tr>\n      <th id=\"T_17891_level0_row0\" class=\"row_heading level0 row0\" >149</th>\n      <td id=\"T_17891_row0_col0\" class=\"data row0 col0\" >-0.27</td>\n      <td id=\"T_17891_row0_col1\" class=\"data row0 col1\" >-0.75</td>\n      <td id=\"T_17891_row0_col2\" class=\"data row0 col2\" >0.81</td>\n    </tr>\n    <tr>\n      <th id=\"T_17891_level0_row1\" class=\"row_heading level0 row1\" >407</th>\n      <td id=\"T_17891_row1_col0\" class=\"data row1 col0\" >-0.27</td>\n      <td id=\"T_17891_row1_col1\" class=\"data row1 col1\" >-0.75</td>\n      <td id=\"T_17891_row1_col2\" class=\"data row1 col2\" >-1.83</td>\n    </tr>\n    <tr>\n      <th id=\"T_17891_level0_row2\" class=\"row_heading level0 row2\" >53</th>\n      <td id=\"T_17891_row2_col0\" class=\"data row2 col0\" >-0.27</td>\n      <td id=\"T_17891_row2_col1\" class=\"data row2 col1\" >1.32</td>\n      <td id=\"T_17891_row2_col2\" class=\"data row2 col2\" >-0.07</td>\n    </tr>\n    <tr>\n      <th id=\"T_17891_level0_row3\" class=\"row_heading level0 row3\" >369</th>\n      <td id=\"T_17891_row3_col0\" class=\"data row3 col0\" >-1.46</td>\n      <td id=\"T_17891_row3_col1\" class=\"data row3 col1\" >1.32</td>\n      <td id=\"T_17891_row3_col2\" class=\"data row3 col2\" >-0.41</td>\n    </tr>\n    <tr>\n      <th id=\"T_17891_level0_row4\" class=\"row_heading level0 row4\" >818</th>\n      <td id=\"T_17891_row4_col0\" class=\"data row4 col0\" >0.93</td>\n      <td id=\"T_17891_row4_col1\" class=\"data row4 col1\" >-0.75</td>\n      <td id=\"T_17891_row4_col2\" class=\"data row4 col2\" >0.88</td>\n    </tr>\n  </tbody>\n</table>\n"
     },
     "metadata": {},
     "output_type": "display_data"
    }
   ],
   "source": [
    "## On peut utuliser une simple normalisation (x-mu)/ecart type)\n",
    "mean = X_train.mean()\n",
    "std  = X_train.std()\n",
    "X_train = (X_train - mean) / std\n",
    "X_test  = (X_test  - mean) / std\n",
    "\n",
    "#display(X_train.describe().style.format(\"{0:.2f}\").set_caption(\"After normalization :\"))\n",
    "display(X_test.head(5).style.format(\"{0:.2f}\").set_caption(\"Few lines of the dataset :\"))\n",
    " "
   ]
  },
  {
   "cell_type": "markdown",
   "metadata": {},
   "source": [
    "### 3. Définition du modèle de régression linaire\n",
    "La fonction mise en œuvre par un neurone sans activation est la même que la régression logistique du chapire 3.:\n",
    "$$ f_{\\mathbf{w},b}(x^{(i)}) = g(\\mathbf{w}x^{(i)} + b) \\tag{2}$$\n",
    "où $$  g(x) = sigmoïd(x) $$\n"
   ]
  },
  {
   "cell_type": "markdown",
   "metadata": {},
   "source": [
    "Choix des fonctions du modèles \n",
    "- [Optimizer:](https://www.tensorflow.org/api_docs/python/tf/keras/optimizers )\n",
    "- [Activation:](https://www.tensorflow.org/api_docs/python/tf/keras/activations)\n",
    "- [Loss :](https://www.tensorflow.org/api_docs/python/tf/keras/losses)\n",
    "- [Metrics :](https://www.tensorflow.org/api_docs/python/tf/keras/metrics)\n",
    "    \n"
   ]
  },
  {
   "cell_type": "markdown",
   "metadata": {},
   "source": [
    "`model.summary()` indique les couches et le nombre de paramètres du modèle. "
   ]
  },
  {
   "cell_type": "markdown",
   "metadata": {},
   "source": [
    "### 3.1 Un réseau  à 1 neurone. \n",
    "\n",
    "Un réseau à un neurone, la sortie dans ce cas est une sigmoïde car o est dans un problème de classification"
   ]
  },
  {
   "cell_type": "code",
   "execution_count": 20,
   "metadata": {
    "tags": [],
    "ExecuteTime": {
     "end_time": "2023-12-07T07:28:28.545259900Z",
     "start_time": "2023-12-07T07:28:27.988472100Z"
    }
   },
   "outputs": [],
   "source": [
    "# Option 1 \n",
    "m = X_train.shape[1]\n",
    "model = tf.keras.Sequential ([\n",
    "        tf.keras.layers.Input(m, name=\"InputLayer\"),\n",
    "        tf.keras.layers.Dense(units=1, activation = 'sigmoid',name='output')\n",
    "])\n"
   ]
  },
  {
   "cell_type": "code",
   "execution_count": 21,
   "metadata": {
    "ExecuteTime": {
     "end_time": "2023-12-07T07:28:28.623819400Z",
     "start_time": "2023-12-07T07:28:28.033704900Z"
    }
   },
   "outputs": [
    {
     "name": "stdout",
     "output_type": "stream",
     "text": [
      "Model: \"sequential_1\"\n",
      "_________________________________________________________________\n",
      " Layer (type)                Output Shape              Param #   \n",
      "=================================================================\n",
      " output (Dense)              (None, 1)                 4         \n",
      "                                                                 \n",
      "=================================================================\n",
      "Total params: 4 (16.00 Byte)\n",
      "Trainable params: 4 (16.00 Byte)\n",
      "Non-trainable params: 0 (0.00 Byte)\n",
      "_________________________________________________________________\n"
     ]
    }
   ],
   "source": [
    "#Compiler le modèle\n",
    "model.compile(optimizer='adam',\n",
    "              loss= 'BinaryCrossentropy',\n",
    "              metrics=['accuracy'])\n",
    "model.summary()"
   ]
  },
  {
   "cell_type": "markdown",
   "metadata": {},
   "source": [
    "### 3.2 Un modèle plus complexe \n",
    "#### Question : construire un modèle ayant l'architecture suivante ?\n",
    "- une couche d'entrée\n",
    "- une couche cachée à 32 neuronesavec une activation relu\n",
    "- une couche de sortie "
   ]
  },
  {
   "cell_type": "code",
   "execution_count": 22,
   "metadata": {
    "tags": [],
    "ExecuteTime": {
     "end_time": "2023-12-07T07:28:28.680367900Z",
     "start_time": "2023-12-07T07:28:28.065488200Z"
    }
   },
   "outputs": [],
   "source": [
    "# Option 1 : Une autre façon de construire un réseau\n",
    "\n"
   ]
  },
  {
   "cell_type": "code",
   "execution_count": 23,
   "metadata": {
    "ExecuteTime": {
     "end_time": "2023-12-07T07:28:28.763494300Z",
     "start_time": "2023-12-07T07:28:28.079691Z"
    }
   },
   "outputs": [],
   "source": [
    "#Compiler le modèle\n",
    "\n"
   ]
  },
  {
   "cell_type": "markdown",
   "metadata": {},
   "source": [
    "#### On peut visualiser les paramètres du réseau les W1 et b."
   ]
  },
  {
   "cell_type": "code",
   "execution_count": 24,
   "metadata": {
    "tags": [],
    "ExecuteTime": {
     "end_time": "2023-12-07T07:28:28.780700500Z",
     "start_time": "2023-12-07T07:28:28.094623500Z"
    }
   },
   "outputs": [
    {
     "name": "stdout",
     "output_type": "stream",
     "text": [
      "W1(3, 1):\n",
      " [[-1.0648855 ]\n",
      " [ 0.17737365]\n",
      " [ 1.0887128 ]] \n",
      "b1(1,): [0.]\n"
     ]
    }
   ],
   "source": [
    "W1, b1 = model.get_layer(\"output\").get_weights()\n",
    "print(f\"W1{W1.shape}:\\n\", W1, f\"\\nb1{b1.shape}:\", b1)\n"
   ]
  },
  {
   "cell_type": "markdown",
   "metadata": {},
   "source": [
    "### 4. Entrainement du modèle (Model training)"
   ]
  },
  {
   "cell_type": "code",
   "execution_count": 25,
   "metadata": {
    "tags": [],
    "ExecuteTime": {
     "end_time": "2023-12-07T07:28:28.782720600Z",
     "start_time": "2023-12-07T07:28:28.110630200Z"
    }
   },
   "outputs": [],
   "source": [
    "# Entrainement du modele\n",
    "\n"
   ]
  },
  {
   "cell_type": "markdown",
   "metadata": {},
   "source": [
    "#### Vislauliser les métriques utilisées lors de l'apprentissage"
   ]
  },
  {
   "cell_type": "code",
   "execution_count": 25,
   "metadata": {
    "ExecuteTime": {
     "end_time": "2023-12-07T07:28:28.782720600Z",
     "start_time": "2023-12-07T07:28:28.125427300Z"
    }
   },
   "outputs": [],
   "source": [
    "\n"
   ]
  },
  {
   "cell_type": "markdown",
   "metadata": {},
   "source": [
    "#### Visualiser les patramètres appris"
   ]
  },
  {
   "cell_type": "code",
   "execution_count": 25,
   "metadata": {
    "tags": [],
    "ExecuteTime": {
     "end_time": "2023-12-07T07:28:28.782720600Z",
     "start_time": "2023-12-07T07:28:28.144803100Z"
    }
   },
   "outputs": [],
   "source": []
  },
  {
   "cell_type": "markdown",
   "metadata": {},
   "source": [
    "### 5. Evaluation des performances du modèle \n"
   ]
  },
  {
   "cell_type": "code",
   "execution_count": 25,
   "metadata": {
    "tags": [],
    "ExecuteTime": {
     "end_time": "2023-12-07T07:28:28.782720600Z",
     "start_time": "2023-12-07T07:28:28.156831300Z"
    }
   },
   "outputs": [],
   "source": [
    "\n"
   ]
  },
  {
   "cell_type": "markdown",
   "metadata": {},
   "source": [
    "### Historique du Training (training history)\n",
    "Quel était le meilleur résultat prendant l'entrainement"
   ]
  },
  {
   "cell_type": "code",
   "execution_count": 25,
   "metadata": {
    "tags": [],
    "ExecuteTime": {
     "end_time": "2023-12-07T07:28:28.798650Z",
     "start_time": "2023-12-07T07:28:28.172721Z"
    }
   },
   "outputs": [],
   "source": []
  },
  {
   "cell_type": "code",
   "execution_count": 26,
   "metadata": {
    "tags": [],
    "ExecuteTime": {
     "end_time": "2023-12-07T07:28:28.800158300Z",
     "start_time": "2023-12-07T07:28:28.189912600Z"
    }
   },
   "outputs": [
    {
     "ename": "NameError",
     "evalue": "name 'history' is not defined",
     "output_type": "error",
     "traceback": [
      "\u001B[1;31m---------------------------------------------------------------------------\u001B[0m",
      "\u001B[1;31mNameError\u001B[0m                                 Traceback (most recent call last)",
      "\u001B[1;32m~\\AppData\\Local\\Temp\\ipykernel_7060\\4140790387.py\u001B[0m in \u001B[0;36m<module>\u001B[1;34m\u001B[0m\n\u001B[0;32m      1\u001B[0m \u001B[1;32mimport\u001B[0m \u001B[0mpandas\u001B[0m \u001B[1;32mas\u001B[0m \u001B[0mpd\u001B[0m\u001B[1;33m\u001B[0m\u001B[1;33m\u001B[0m\u001B[0m\n\u001B[1;32m----> 2\u001B[1;33m \u001B[0mdf\u001B[0m\u001B[1;33m=\u001B[0m\u001B[0mpd\u001B[0m\u001B[1;33m.\u001B[0m\u001B[0mDataFrame\u001B[0m\u001B[1;33m(\u001B[0m\u001B[0mdata\u001B[0m\u001B[1;33m=\u001B[0m\u001B[0mhistory\u001B[0m\u001B[1;33m.\u001B[0m\u001B[0mhistory\u001B[0m\u001B[1;33m)\u001B[0m\u001B[1;33m\u001B[0m\u001B[1;33m\u001B[0m\u001B[0m\n\u001B[0m\u001B[0;32m      3\u001B[0m \u001B[0mdisplay\u001B[0m\u001B[1;33m(\u001B[0m\u001B[0mdf\u001B[0m\u001B[1;33m)\u001B[0m\u001B[1;33m\u001B[0m\u001B[1;33m\u001B[0m\u001B[0m\n",
      "\u001B[1;31mNameError\u001B[0m: name 'history' is not defined"
     ]
    }
   ],
   "source": [
    "import pandas as pd \n",
    "df=pd.DataFrame(data=history.history)\n",
    "display(df)"
   ]
  },
  {
   "cell_type": "markdown",
   "metadata": {},
   "source": [
    "#### Visaliser les performances du modèle "
   ]
  },
  {
   "cell_type": "code",
   "execution_count": null,
   "metadata": {
    "tags": [],
    "ExecuteTime": {
     "start_time": "2023-12-07T07:28:28.218315600Z"
    }
   },
   "outputs": [],
   "source": []
  },
  {
   "cell_type": "markdown",
   "metadata": {},
   "source": [
    "#### Prédiction\n",
    "Les valeurs sorties par le modèle sont des réels compris entre 0 et 1 (si vous utilisez la sigmoide). Or nous sohhatons avoir une valeur 1 ou 0 ?"
   ]
  },
  {
   "cell_type": "code",
   "execution_count": null,
   "metadata": {
    "tags": [],
    "ExecuteTime": {
     "start_time": "2023-12-07T07:28:28.220316600Z"
    }
   },
   "outputs": [],
   "source": [
    "from sklearn.metrics import ConfusionMatrixDisplay\n",
    "from sklearn.metrics import confusion_matrix\n",
    "import seaborn as sns\n",
    "y_pred = model.predict(X_test)\n",
    "\n",
    "# Predict probabilities\n",
    "y_pred = model.predict(X_test)\n",
    "\n",
    "# Get class labels\n",
    "#y_classes = np.argmax(y_pred, axis=-1)\n",
    "y_classes = np.where(predictions > 0.5, 1, 0)\n",
    "\n",
    "cm = confusion_matrix(y_test, y_classes)\n",
    "\n",
    "sns.heatmap(cm, annot=True, annot_kws={\"size\": 12}) # font size\n",
    "plt.show()\n"
   ]
  },
  {
   "cell_type": "markdown",
   "metadata": {},
   "source": [
    "### Save History and model"
   ]
  },
  {
   "cell_type": "code",
   "execution_count": null,
   "metadata": {
    "ExecuteTime": {
     "start_time": "2023-12-07T07:28:28.222768500Z"
    }
   },
   "outputs": [],
   "source": [
    "#Saving:\n",
    "\n"
   ]
  },
  {
   "cell_type": "code",
   "execution_count": null,
   "metadata": {
    "ExecuteTime": {
     "start_time": "2023-12-07T07:28:28.224989900Z"
    }
   },
   "outputs": [],
   "source": [
    "#Loading:\n",
    "\n"
   ]
  },
  {
   "cell_type": "markdown",
   "metadata": {
    "ExecuteTime": {
     "end_time": "2023-12-06T09:45:03.094325100Z",
     "start_time": "2023-12-06T09:45:03.004279300Z"
    }
   },
   "source": [
    "### 6. Faire des prédictions"
   ]
  },
  {
   "cell_type": "code",
   "execution_count": null,
   "metadata": {
    "tags": [],
    "ExecuteTime": {
     "start_time": "2023-12-07T07:28:28.227186Z"
    }
   },
   "outputs": [],
   "source": [
    "#Small Sata set\n"
   ]
  },
  {
   "cell_type": "code",
   "execution_count": null,
   "metadata": {
    "tags": [],
    "ExecuteTime": {
     "start_time": "2023-12-07T07:28:28.229416600Z"
    }
   },
   "outputs": [],
   "source": [
    "predictions = model.predict( my_data )\n",
    "print(\"Prediction : {:.2f} K$\".format(predictions[0][0]))\n",
    "print(\"Reality    : {:.2f} K$\".format(survived))\n"
   ]
  },
  {
   "cell_type": "markdown",
   "metadata": {
    "ExecuteTime": {
     "end_time": "2023-12-06T09:45:22.400867200Z",
     "start_time": "2023-12-06T09:45:22.199119Z"
    }
   },
   "source": [
    "## Questions:\n",
    "La suite du TP porte sur les données train.csv le fichier ci-dessous).\n",
    "- Définir le modèle qui permet de trouver les meilleures Prédictions.\n",
    "\n",
    "Je rappelle que la définition du modèle dépend :\n",
    "- 1- l'architecture\n",
    "- 2- l'optimiseur\n",
    "- 3- l'entrainement\n",
    "\n",
    "Faire varier ces différents paramètres. \n",
    "\n",
    "<span style=\"color:green\"> <strong>Le meilleur modèle sera récompensé.  \n",
    "    <strong></span>\n"
   ]
  },
  {
   "cell_type": "markdown",
   "metadata": {},
   "source": [
    "#### Saisir Ici la valeur de l'accuracy. \n",
    "<span style=\"color:green\"> Accuracy :  .....\n",
    "  <strong></span>"
   ]
  },
  {
   "cell_type": "code",
   "execution_count": 27,
   "metadata": {
    "ExecuteTime": {
     "end_time": "2023-12-07T07:28:53.003155200Z",
     "start_time": "2023-12-07T07:28:52.621890700Z"
    }
   },
   "outputs": [],
   "source": [
    "# Lecture du dataset n permet de limiter le nombre de lignes à lire\n",
    "# Pour faciliter les tests\n",
    "import pandas as pd \n",
    "def load_data(n):\n",
    "    data = pd.read_csv('../../data/train.csv')\n",
    "    return data[0:n]\n",
    "\n",
    "# le -1 du load_data(-1) veut dire on prend toutes les lignes \n",
    "data=load_data(-1)\n",
    "data.dropna(axis=0, inplace=True)\n",
    "y = data['smoking'] # récupérer la colonne survived et la mettre dans y\n",
    "# récuperer le reste des données dans X utiliser la fonction titanic.drop ???, ??? )\n",
    "X = data.drop('smoking', axis=1)"
   ]
  },
  {
   "cell_type": "code",
   "execution_count": 28,
   "outputs": [],
   "source": [
    "# Normalisation des données\n",
    "mean = X.mean()\n",
    "std  = X.std()\n",
    "X = (X - mean) / std"
   ],
   "metadata": {
    "collapsed": false,
    "ExecuteTime": {
     "end_time": "2023-12-07T07:28:53.267479200Z",
     "start_time": "2023-12-07T07:28:53.184082100Z"
    }
   }
  },
  {
   "cell_type": "code",
   "execution_count": 29,
   "outputs": [],
   "source": [
    "# Split des données\n",
    "X_train, X_test, y_train, y_test = train_test_split(X, y, test_size=0.2, random_state=42)"
   ],
   "metadata": {
    "collapsed": false,
    "ExecuteTime": {
     "end_time": "2023-12-07T07:28:53.826400Z",
     "start_time": "2023-12-07T07:28:53.725076Z"
    }
   }
  },
  {
   "cell_type": "code",
   "execution_count": 30,
   "outputs": [],
   "source": [
    "# Définition du modèle\n",
    "m = X_train.shape[1]\n",
    "model = tf.keras.Sequential ([\n",
    "        tf.keras.layers.Input(m, name=\"InputLayer\"),\n",
    "        tf.keras.layers.Dense(units=1, activation = 'sigmoid',name='output')\n",
    "])"
   ],
   "metadata": {
    "collapsed": false,
    "ExecuteTime": {
     "end_time": "2023-12-07T07:28:54.210338400Z",
     "start_time": "2023-12-07T07:28:54.146826300Z"
    }
   }
  },
  {
   "cell_type": "code",
   "execution_count": 31,
   "outputs": [
    {
     "name": "stdout",
     "output_type": "stream",
     "text": [
      "Model: \"sequential_2\"\n",
      "_________________________________________________________________\n",
      " Layer (type)                Output Shape              Param #   \n",
      "=================================================================\n",
      " output (Dense)              (None, 1)                 24        \n",
      "                                                                 \n",
      "=================================================================\n",
      "Total params: 24 (96.00 Byte)\n",
      "Trainable params: 24 (96.00 Byte)\n",
      "Non-trainable params: 0 (0.00 Byte)\n",
      "_________________________________________________________________\n"
     ]
    }
   ],
   "source": [
    "# Compiler le modèle\n",
    "model.compile(optimizer='adam',\n",
    "              loss= 'BinaryCrossentropy',\n",
    "              metrics=['accuracy'])\n",
    "model.summary()"
   ],
   "metadata": {
    "collapsed": false,
    "ExecuteTime": {
     "end_time": "2023-12-07T07:28:55.099476200Z",
     "start_time": "2023-12-07T07:28:54.912262100Z"
    }
   }
  },
  {
   "cell_type": "code",
   "execution_count": 32,
   "outputs": [
    {
     "name": "stdout",
     "output_type": "stream",
     "text": [
      "Epoch 1/100\n",
      "WARNING:tensorflow:From C:\\Users\\Baran\\anaconda3\\lib\\site-packages\\keras\\src\\utils\\tf_utils.py:492: The name tf.ragged.RaggedTensorValue is deprecated. Please use tf.compat.v1.ragged.RaggedTensorValue instead.\n",
      "WARNING:tensorflow:From C:\\Users\\Baran\\anaconda3\\lib\\site-packages\\keras\\src\\engine\\base_layer_utils.py:384: The name tf.executing_eagerly_outside_functions is deprecated. Please use tf.compat.v1.executing_eagerly_outside_functions instead.\n",
      "3186/3186 [==============================] - 7s 2ms/step - loss: 0.5153 - accuracy: 0.7357 - val_loss: 0.4895 - val_accuracy: 0.7478\n",
      "Epoch 2/100\n",
      "3186/3186 [==============================] - 4s 1ms/step - loss: 0.4924 - accuracy: 0.7484 - val_loss: 0.4896 - val_accuracy: 0.7495\n",
      "Epoch 3/100\n",
      "3186/3186 [==============================] - 4s 1ms/step - loss: 0.4924 - accuracy: 0.7490 - val_loss: 0.4892 - val_accuracy: 0.7481\n",
      "Epoch 4/100\n",
      "3186/3186 [==============================] - 4s 1ms/step - loss: 0.4922 - accuracy: 0.7488 - val_loss: 0.4899 - val_accuracy: 0.7473\n",
      "Epoch 5/100\n",
      "3186/3186 [==============================] - 4s 1ms/step - loss: 0.4923 - accuracy: 0.7481 - val_loss: 0.4889 - val_accuracy: 0.7496\n",
      "Epoch 6/100\n",
      "3186/3186 [==============================] - 4s 1ms/step - loss: 0.4923 - accuracy: 0.7486 - val_loss: 0.4892 - val_accuracy: 0.7495\n",
      "Epoch 7/100\n",
      "3186/3186 [==============================] - 4s 1ms/step - loss: 0.4922 - accuracy: 0.7483 - val_loss: 0.4891 - val_accuracy: 0.7492\n",
      "Epoch 8/100\n",
      "3186/3186 [==============================] - 5s 2ms/step - loss: 0.4923 - accuracy: 0.7480 - val_loss: 0.4889 - val_accuracy: 0.7499\n",
      "Epoch 9/100\n",
      "3186/3186 [==============================] - 5s 2ms/step - loss: 0.4921 - accuracy: 0.7487 - val_loss: 0.4893 - val_accuracy: 0.7505\n",
      "Epoch 10/100\n",
      "3186/3186 [==============================] - 5s 2ms/step - loss: 0.4922 - accuracy: 0.7485 - val_loss: 0.4891 - val_accuracy: 0.7508\n",
      "Epoch 11/100\n",
      "3186/3186 [==============================] - 5s 2ms/step - loss: 0.4922 - accuracy: 0.7490 - val_loss: 0.4894 - val_accuracy: 0.7486\n",
      "Epoch 12/100\n",
      "3186/3186 [==============================] - 5s 1ms/step - loss: 0.4922 - accuracy: 0.7483 - val_loss: 0.4889 - val_accuracy: 0.7508\n",
      "Epoch 13/100\n",
      "3186/3186 [==============================] - 5s 2ms/step - loss: 0.4922 - accuracy: 0.7485 - val_loss: 0.4887 - val_accuracy: 0.7496\n",
      "Epoch 14/100\n",
      "3186/3186 [==============================] - 5s 2ms/step - loss: 0.4921 - accuracy: 0.7485 - val_loss: 0.4887 - val_accuracy: 0.7491\n",
      "Epoch 15/100\n",
      "3186/3186 [==============================] - 5s 2ms/step - loss: 0.4921 - accuracy: 0.7489 - val_loss: 0.4893 - val_accuracy: 0.7492\n",
      "Epoch 16/100\n",
      "3186/3186 [==============================] - 5s 2ms/step - loss: 0.4922 - accuracy: 0.7482 - val_loss: 0.4887 - val_accuracy: 0.7493\n",
      "Epoch 17/100\n",
      "3186/3186 [==============================] - 5s 1ms/step - loss: 0.4921 - accuracy: 0.7489 - val_loss: 0.4891 - val_accuracy: 0.7488\n",
      "Epoch 18/100\n",
      "3186/3186 [==============================] - 5s 2ms/step - loss: 0.4921 - accuracy: 0.7484 - val_loss: 0.4889 - val_accuracy: 0.7484\n",
      "Epoch 19/100\n",
      "3186/3186 [==============================] - 5s 2ms/step - loss: 0.4920 - accuracy: 0.7483 - val_loss: 0.4892 - val_accuracy: 0.7500\n",
      "Epoch 20/100\n",
      "3186/3186 [==============================] - 4s 1ms/step - loss: 0.4921 - accuracy: 0.7489 - val_loss: 0.4892 - val_accuracy: 0.7491\n",
      "Epoch 21/100\n",
      "3186/3186 [==============================] - 5s 2ms/step - loss: 0.4921 - accuracy: 0.7489 - val_loss: 0.4891 - val_accuracy: 0.7490\n",
      "Epoch 22/100\n",
      "3186/3186 [==============================] - 4s 1ms/step - loss: 0.4921 - accuracy: 0.7479 - val_loss: 0.4886 - val_accuracy: 0.7497\n",
      "Epoch 23/100\n",
      "3186/3186 [==============================] - 5s 2ms/step - loss: 0.4921 - accuracy: 0.7493 - val_loss: 0.4888 - val_accuracy: 0.7499\n",
      "Epoch 24/100\n",
      "3186/3186 [==============================] - 5s 2ms/step - loss: 0.4921 - accuracy: 0.7484 - val_loss: 0.4892 - val_accuracy: 0.7487\n",
      "Epoch 25/100\n",
      "3186/3186 [==============================] - 6s 2ms/step - loss: 0.4920 - accuracy: 0.7483 - val_loss: 0.4887 - val_accuracy: 0.7504\n",
      "Epoch 26/100\n",
      "3186/3186 [==============================] - 6s 2ms/step - loss: 0.4921 - accuracy: 0.7487 - val_loss: 0.4886 - val_accuracy: 0.7496\n",
      "Epoch 27/100\n",
      "3186/3186 [==============================] - 5s 2ms/step - loss: 0.4921 - accuracy: 0.7484 - val_loss: 0.4888 - val_accuracy: 0.7493\n",
      "Epoch 28/100\n",
      "3186/3186 [==============================] - 6s 2ms/step - loss: 0.4920 - accuracy: 0.7483 - val_loss: 0.4890 - val_accuracy: 0.7488\n",
      "Epoch 29/100\n",
      "3186/3186 [==============================] - 6s 2ms/step - loss: 0.4920 - accuracy: 0.7486 - val_loss: 0.4888 - val_accuracy: 0.7490\n",
      "Epoch 30/100\n",
      "3186/3186 [==============================] - 5s 1ms/step - loss: 0.4920 - accuracy: 0.7483 - val_loss: 0.4888 - val_accuracy: 0.7504\n",
      "Epoch 31/100\n",
      "3186/3186 [==============================] - 4s 1ms/step - loss: 0.4921 - accuracy: 0.7484 - val_loss: 0.4891 - val_accuracy: 0.7504\n",
      "Epoch 32/100\n",
      "3186/3186 [==============================] - 4s 1ms/step - loss: 0.4921 - accuracy: 0.7485 - val_loss: 0.4889 - val_accuracy: 0.7485\n",
      "Epoch 33/100\n",
      "3186/3186 [==============================] - 4s 1ms/step - loss: 0.4920 - accuracy: 0.7480 - val_loss: 0.4891 - val_accuracy: 0.7495\n",
      "Epoch 34/100\n",
      "3186/3186 [==============================] - 5s 2ms/step - loss: 0.4921 - accuracy: 0.7481 - val_loss: 0.4888 - val_accuracy: 0.7485\n",
      "Epoch 35/100\n",
      "3186/3186 [==============================] - 4s 1ms/step - loss: 0.4921 - accuracy: 0.7479 - val_loss: 0.4887 - val_accuracy: 0.7487\n",
      "Epoch 36/100\n",
      "3186/3186 [==============================] - 5s 2ms/step - loss: 0.4920 - accuracy: 0.7487 - val_loss: 0.4889 - val_accuracy: 0.7501\n",
      "Epoch 37/100\n",
      "3186/3186 [==============================] - 5s 2ms/step - loss: 0.4921 - accuracy: 0.7485 - val_loss: 0.4886 - val_accuracy: 0.7493\n",
      "Epoch 38/100\n",
      "3186/3186 [==============================] - 5s 2ms/step - loss: 0.4921 - accuracy: 0.7486 - val_loss: 0.4889 - val_accuracy: 0.7484\n",
      "Epoch 39/100\n",
      "3186/3186 [==============================] - 5s 2ms/step - loss: 0.4921 - accuracy: 0.7484 - val_loss: 0.4892 - val_accuracy: 0.7498\n",
      "Epoch 40/100\n",
      "3186/3186 [==============================] - 5s 2ms/step - loss: 0.4921 - accuracy: 0.7489 - val_loss: 0.4886 - val_accuracy: 0.7499\n",
      "Epoch 41/100\n",
      "3186/3186 [==============================] - 4s 1ms/step - loss: 0.4921 - accuracy: 0.7484 - val_loss: 0.4886 - val_accuracy: 0.7493\n",
      "Epoch 42/100\n",
      "3186/3186 [==============================] - 5s 2ms/step - loss: 0.4921 - accuracy: 0.7482 - val_loss: 0.4887 - val_accuracy: 0.7497\n",
      "Epoch 43/100\n",
      "3186/3186 [==============================] - 5s 1ms/step - loss: 0.4920 - accuracy: 0.7486 - val_loss: 0.4885 - val_accuracy: 0.7495\n",
      "Epoch 44/100\n",
      "3186/3186 [==============================] - 6s 2ms/step - loss: 0.4921 - accuracy: 0.7488 - val_loss: 0.4888 - val_accuracy: 0.7495\n",
      "Epoch 45/100\n",
      "3186/3186 [==============================] - 5s 2ms/step - loss: 0.4920 - accuracy: 0.7488 - val_loss: 0.4887 - val_accuracy: 0.7502\n",
      "Epoch 46/100\n",
      "3186/3186 [==============================] - 5s 2ms/step - loss: 0.4920 - accuracy: 0.7488 - val_loss: 0.4886 - val_accuracy: 0.7493\n",
      "Epoch 47/100\n",
      "3186/3186 [==============================] - 5s 2ms/step - loss: 0.4921 - accuracy: 0.7484 - val_loss: 0.4886 - val_accuracy: 0.7501\n",
      "Epoch 48/100\n",
      "3186/3186 [==============================] - 4s 1ms/step - loss: 0.4920 - accuracy: 0.7484 - val_loss: 0.4885 - val_accuracy: 0.7491\n",
      "Epoch 49/100\n",
      "3186/3186 [==============================] - 5s 2ms/step - loss: 0.4920 - accuracy: 0.7484 - val_loss: 0.4887 - val_accuracy: 0.7510\n",
      "Epoch 50/100\n",
      "3186/3186 [==============================] - 4s 1ms/step - loss: 0.4921 - accuracy: 0.7486 - val_loss: 0.4886 - val_accuracy: 0.7501\n",
      "Epoch 51/100\n",
      "3186/3186 [==============================] - 4s 1ms/step - loss: 0.4921 - accuracy: 0.7486 - val_loss: 0.4887 - val_accuracy: 0.7488\n",
      "Epoch 52/100\n",
      "3186/3186 [==============================] - 5s 2ms/step - loss: 0.4921 - accuracy: 0.7484 - val_loss: 0.4885 - val_accuracy: 0.7505\n",
      "Epoch 53/100\n",
      "3186/3186 [==============================] - 5s 1ms/step - loss: 0.4920 - accuracy: 0.7487 - val_loss: 0.4888 - val_accuracy: 0.7502\n",
      "Epoch 54/100\n",
      "3186/3186 [==============================] - 5s 1ms/step - loss: 0.4920 - accuracy: 0.7485 - val_loss: 0.4885 - val_accuracy: 0.7504\n",
      "Epoch 55/100\n",
      "3186/3186 [==============================] - 4s 1ms/step - loss: 0.4920 - accuracy: 0.7478 - val_loss: 0.4889 - val_accuracy: 0.7500\n",
      "Epoch 56/100\n",
      "3186/3186 [==============================] - 4s 1ms/step - loss: 0.4920 - accuracy: 0.7484 - val_loss: 0.4891 - val_accuracy: 0.7495\n",
      "Epoch 57/100\n",
      "3186/3186 [==============================] - 5s 1ms/step - loss: 0.4921 - accuracy: 0.7486 - val_loss: 0.4890 - val_accuracy: 0.7502\n",
      "Epoch 58/100\n",
      "3186/3186 [==============================] - 4s 1ms/step - loss: 0.4920 - accuracy: 0.7482 - val_loss: 0.4887 - val_accuracy: 0.7497\n",
      "Epoch 59/100\n",
      "3186/3186 [==============================] - 4s 1ms/step - loss: 0.4920 - accuracy: 0.7486 - val_loss: 0.4887 - val_accuracy: 0.7491\n",
      "Epoch 60/100\n",
      "3186/3186 [==============================] - 5s 2ms/step - loss: 0.4920 - accuracy: 0.7485 - val_loss: 0.4890 - val_accuracy: 0.7497\n",
      "Epoch 61/100\n",
      "3186/3186 [==============================] - 6s 2ms/step - loss: 0.4921 - accuracy: 0.7483 - val_loss: 0.4887 - val_accuracy: 0.7502\n",
      "Epoch 62/100\n",
      "3186/3186 [==============================] - 6s 2ms/step - loss: 0.4921 - accuracy: 0.7488 - val_loss: 0.4887 - val_accuracy: 0.7495\n",
      "Epoch 63/100\n",
      "3186/3186 [==============================] - 6s 2ms/step - loss: 0.4920 - accuracy: 0.7487 - val_loss: 0.4892 - val_accuracy: 0.7486\n",
      "Epoch 64/100\n",
      "3186/3186 [==============================] - 5s 2ms/step - loss: 0.4920 - accuracy: 0.7479 - val_loss: 0.4885 - val_accuracy: 0.7500\n",
      "Epoch 65/100\n",
      "3186/3186 [==============================] - 4s 1ms/step - loss: 0.4920 - accuracy: 0.7484 - val_loss: 0.4886 - val_accuracy: 0.7496\n",
      "Epoch 66/100\n",
      "3186/3186 [==============================] - 5s 1ms/step - loss: 0.4920 - accuracy: 0.7484 - val_loss: 0.4891 - val_accuracy: 0.7486\n",
      "Epoch 67/100\n",
      "3186/3186 [==============================] - 5s 2ms/step - loss: 0.4921 - accuracy: 0.7482 - val_loss: 0.4888 - val_accuracy: 0.7490\n",
      "Epoch 68/100\n",
      "3186/3186 [==============================] - 4s 1ms/step - loss: 0.4921 - accuracy: 0.7486 - val_loss: 0.4883 - val_accuracy: 0.7490\n",
      "Epoch 69/100\n",
      "3186/3186 [==============================] - 6s 2ms/step - loss: 0.4921 - accuracy: 0.7486 - val_loss: 0.4895 - val_accuracy: 0.7480\n",
      "Epoch 70/100\n",
      "3186/3186 [==============================] - 5s 1ms/step - loss: 0.4920 - accuracy: 0.7483 - val_loss: 0.4889 - val_accuracy: 0.7490\n",
      "Epoch 71/100\n",
      "3186/3186 [==============================] - 6s 2ms/step - loss: 0.4921 - accuracy: 0.7487 - val_loss: 0.4889 - val_accuracy: 0.7488\n",
      "Epoch 72/100\n",
      "3186/3186 [==============================] - 5s 2ms/step - loss: 0.4921 - accuracy: 0.7485 - val_loss: 0.4886 - val_accuracy: 0.7494\n",
      "Epoch 73/100\n",
      "3186/3186 [==============================] - 5s 2ms/step - loss: 0.4921 - accuracy: 0.7480 - val_loss: 0.4885 - val_accuracy: 0.7499\n",
      "Epoch 74/100\n",
      "3186/3186 [==============================] - 5s 2ms/step - loss: 0.4920 - accuracy: 0.7479 - val_loss: 0.4885 - val_accuracy: 0.7509\n",
      "Epoch 75/100\n",
      "3186/3186 [==============================] - 5s 2ms/step - loss: 0.4921 - accuracy: 0.7484 - val_loss: 0.4887 - val_accuracy: 0.7493\n",
      "Epoch 76/100\n",
      "3186/3186 [==============================] - 5s 2ms/step - loss: 0.4920 - accuracy: 0.7487 - val_loss: 0.4884 - val_accuracy: 0.7499\n",
      "Epoch 77/100\n",
      "3186/3186 [==============================] - 4s 1ms/step - loss: 0.4920 - accuracy: 0.7489 - val_loss: 0.4888 - val_accuracy: 0.7493\n",
      "Epoch 78/100\n",
      "3186/3186 [==============================] - 4s 1ms/step - loss: 0.4921 - accuracy: 0.7488 - val_loss: 0.4886 - val_accuracy: 0.7497\n",
      "Epoch 79/100\n",
      "3186/3186 [==============================] - 6s 2ms/step - loss: 0.4921 - accuracy: 0.7484 - val_loss: 0.4887 - val_accuracy: 0.7495\n",
      "Epoch 80/100\n",
      "3186/3186 [==============================] - 5s 2ms/step - loss: 0.4920 - accuracy: 0.7488 - val_loss: 0.4889 - val_accuracy: 0.7497\n",
      "Epoch 81/100\n",
      "3186/3186 [==============================] - 5s 2ms/step - loss: 0.4921 - accuracy: 0.7490 - val_loss: 0.4887 - val_accuracy: 0.7492\n",
      "Epoch 82/100\n",
      "3186/3186 [==============================] - 5s 2ms/step - loss: 0.4920 - accuracy: 0.7481 - val_loss: 0.4892 - val_accuracy: 0.7495\n",
      "Epoch 83/100\n",
      "3186/3186 [==============================] - 5s 1ms/step - loss: 0.4921 - accuracy: 0.7485 - val_loss: 0.4886 - val_accuracy: 0.7495\n",
      "Epoch 84/100\n",
      "3186/3186 [==============================] - 5s 1ms/step - loss: 0.4920 - accuracy: 0.7486 - val_loss: 0.4885 - val_accuracy: 0.7496\n",
      "Epoch 85/100\n",
      "3186/3186 [==============================] - 5s 2ms/step - loss: 0.4921 - accuracy: 0.7482 - val_loss: 0.4888 - val_accuracy: 0.7496\n",
      "Epoch 86/100\n",
      "3186/3186 [==============================] - 5s 2ms/step - loss: 0.4920 - accuracy: 0.7489 - val_loss: 0.4887 - val_accuracy: 0.7495\n",
      "Epoch 87/100\n",
      "3186/3186 [==============================] - 5s 2ms/step - loss: 0.4921 - accuracy: 0.7483 - val_loss: 0.4886 - val_accuracy: 0.7499\n",
      "Epoch 88/100\n",
      "3186/3186 [==============================] - 5s 2ms/step - loss: 0.4921 - accuracy: 0.7485 - val_loss: 0.4889 - val_accuracy: 0.7490\n",
      "Epoch 89/100\n",
      "3186/3186 [==============================] - 5s 1ms/step - loss: 0.4921 - accuracy: 0.7488 - val_loss: 0.4892 - val_accuracy: 0.7488\n",
      "Epoch 90/100\n",
      "3186/3186 [==============================] - 5s 1ms/step - loss: 0.4920 - accuracy: 0.7487 - val_loss: 0.4887 - val_accuracy: 0.7500\n",
      "Epoch 91/100\n",
      "3186/3186 [==============================] - 4s 1ms/step - loss: 0.4920 - accuracy: 0.7484 - val_loss: 0.4891 - val_accuracy: 0.7493\n",
      "Epoch 92/100\n",
      "3186/3186 [==============================] - 5s 2ms/step - loss: 0.4921 - accuracy: 0.7482 - val_loss: 0.4889 - val_accuracy: 0.7493\n",
      "Epoch 93/100\n",
      "3186/3186 [==============================] - 5s 2ms/step - loss: 0.4920 - accuracy: 0.7490 - val_loss: 0.4891 - val_accuracy: 0.7489\n",
      "Epoch 94/100\n",
      "3186/3186 [==============================] - 5s 1ms/step - loss: 0.4922 - accuracy: 0.7484 - val_loss: 0.4890 - val_accuracy: 0.7491\n",
      "Epoch 95/100\n",
      "3186/3186 [==============================] - 5s 1ms/step - loss: 0.4920 - accuracy: 0.7479 - val_loss: 0.4888 - val_accuracy: 0.7492\n",
      "Epoch 96/100\n",
      "3186/3186 [==============================] - 5s 1ms/step - loss: 0.4919 - accuracy: 0.7483 - val_loss: 0.4893 - val_accuracy: 0.7487\n",
      "Epoch 97/100\n",
      "3186/3186 [==============================] - 5s 2ms/step - loss: 0.4921 - accuracy: 0.7488 - val_loss: 0.4889 - val_accuracy: 0.7492\n",
      "Epoch 98/100\n",
      "3186/3186 [==============================] - 4s 1ms/step - loss: 0.4920 - accuracy: 0.7485 - val_loss: 0.4886 - val_accuracy: 0.7497\n",
      "Epoch 99/100\n",
      "3186/3186 [==============================] - 5s 1ms/step - loss: 0.4921 - accuracy: 0.7485 - val_loss: 0.4889 - val_accuracy: 0.7497\n",
      "Epoch 100/100\n",
      "3186/3186 [==============================] - 5s 2ms/step - loss: 0.4920 - accuracy: 0.7484 - val_loss: 0.4886 - val_accuracy: 0.7502\n"
     ]
    }
   ],
   "source": [
    "# Entrainement du modele\n",
    "history = model.fit(X_train, y_train, epochs=100, batch_size=32, validation_split=0.2)"
   ],
   "metadata": {
    "collapsed": false,
    "ExecuteTime": {
     "end_time": "2023-12-07T07:37:02.539645500Z",
     "start_time": "2023-12-07T07:28:55.249002800Z"
    }
   }
  },
  {
   "cell_type": "code",
   "execution_count": 33,
   "outputs": [
    {
     "name": "stdout",
     "output_type": "stream",
     "text": [
      "996/996 [==============================] - 1s 996us/step - loss: 0.4932 - accuracy: 0.7458\n"
     ]
    },
    {
     "data": {
      "text/plain": "[0.49317944049835205, 0.7458478808403015]"
     },
     "execution_count": 33,
     "metadata": {},
     "output_type": "execute_result"
    }
   ],
   "source": [
    "# Evaluation du modèle\n",
    "model.evaluate(X_test, y_test)"
   ],
   "metadata": {
    "collapsed": false,
    "ExecuteTime": {
     "end_time": "2023-12-07T07:37:03.655390200Z",
     "start_time": "2023-12-07T07:37:02.545177400Z"
    }
   }
  },
  {
   "cell_type": "code",
   "execution_count": 34,
   "outputs": [
    {
     "name": "stdout",
     "output_type": "stream",
     "text": [
      "996/996 [==============================] - 1s 985us/step\n"
     ]
    }
   ],
   "source": [
    "# Prédiction\n",
    "y_pred = model.predict(X_test)"
   ],
   "metadata": {
    "collapsed": false,
    "ExecuteTime": {
     "end_time": "2023-12-07T07:37:05.393071Z",
     "start_time": "2023-12-07T07:37:03.647331700Z"
    }
   }
  },
  {
   "cell_type": "code",
   "execution_count": 35,
   "outputs": [
    {
     "name": "stdout",
     "output_type": "stream",
     "text": [
      "996/996 [==============================] - 1s 1ms/step\n",
      "996/996 [==============================] - 1s 1ms/step\n"
     ]
    },
    {
     "data": {
      "text/plain": "<Figure size 640x480 with 2 Axes>",
      "image/png": "[encoded data removed]"
     },
     "metadata": {},
     "output_type": "display_data"
    }
   ],
   "source": [
    "# Visualisation des résultats\n",
    "from sklearn.metrics import ConfusionMatrixDisplay\n",
    "from sklearn.metrics import confusion_matrix\n",
    "import seaborn as sns\n",
    "y_pred = model.predict(X_test)\n",
    "\n",
    "# Predict probabilities\n",
    "y_pred = model.predict(X_test)\n",
    "\n",
    "# Get class labels\n",
    "#y_classes = np.argmax(y_pred, axis=-1)\n",
    "y_classes = np.where(y_pred > 0.5, 1, 0)\n",
    "\n",
    "cm = confusion_matrix(y_test, y_classes)\n",
    "\n",
    "sns.heatmap(cm, annot=True, annot_kws={\"size\": 12}) # font size\n",
    "plt.show()"
   ],
   "metadata": {
    "collapsed": false,
    "ExecuteTime": {
     "end_time": "2023-12-07T07:37:08.593373300Z",
     "start_time": "2023-12-07T07:37:05.398467400Z"
    }
   }
  },
  {
   "cell_type": "code",
   "execution_count": null,
   "outputs": [],
   "source": [],
   "metadata": {
    "collapsed": false,
    "ExecuteTime": {
     "start_time": "2023-12-07T07:28:28.246261100Z"
    }
   }
  }
 ],
 "metadata": {
  "kernelspec": {
   "display_name": "Python 3 (ipykernel)",
   "language": "python",
   "name": "python3"
  },
  "language_info": {
   "codemirror_mode": {
    "name": "ipython",
    "version": 3
   },
   "file_extension": ".py",
   "mimetype": "text/x-python",
   "name": "python",
   "nbconvert_exporter": "python",
   "pygments_lexer": "ipython3",
   "version": "3.11.4"
  }
 },
 "nbformat": 4,
 "nbformat_minor": 4
}
