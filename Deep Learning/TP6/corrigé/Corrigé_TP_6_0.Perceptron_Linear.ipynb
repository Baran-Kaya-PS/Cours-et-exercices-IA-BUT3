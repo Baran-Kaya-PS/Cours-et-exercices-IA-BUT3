{
 "cells": [
  {
   "cell_type": "markdown",
   "metadata": {
    "tags": []
   },
   "source": [
    " # TP6: Apprentissage profond(Deep learning)\n",
    " ## TP6.0 Le perceptron from scratch: Régression linéaire/logistique  \n",
    " Dans ce TP, nous explorerons le fonctionnement interne d'un neurone.\n"
   ]
  },
  {
   "cell_type": "markdown",
   "metadata": {},
   "source": [
    "#### Travail demandé :\n",
    "Objectif : démystifier la partie mathématiques dus réseaux de neurones\n",
    "- Définir un perceptron simple\n",
    "- Ecrire les fonctions qui permettet de faire tous les calculs \n",
    "\n",
    "On utilisera  deux datasets : le titanic et le housing. Un portant sur une classification l'aure sur une régression.\n",
    "Les programmes sont identifques seuls le calcul de l'activation, la loss et les dw et db \n",
    "qui changent légérement. \n",
    "<span style=\"color:green\">  L'architecture du réseau à un réel impact sur les résultats </span>"
   ]
  },
  {
   "cell_type": "code",
   "execution_count": null,
   "metadata": {
    "tags": []
   },
   "outputs": [],
   "source": [
    "import numpy as np\n",
    "import pandas as pd\n",
    "import matplotlib.pyplot as plt\n",
    "from sklearn.metrics import accuracy_score"
   ]
  },
  {
   "cell_type": "markdown",
   "metadata": {
    "tags": []
   },
   "source": [
    "## Neurone/ Perceptron  "
   ]
  },
  {
   "cell_type": "markdown",
   "metadata": {
    "tags": []
   },
   "source": [
    "### 1. Sélection des données "
   ]
  },
  {
   "cell_type": "markdown",
   "metadata": {},
   "source": [
    "### Dataset pour la classification"
   ]
  },
  {
   "cell_type": "code",
   "execution_count": null,
   "metadata": {
    "tags": []
   },
   "outputs": [],
   "source": [
    "# le dataset titanic \n",
    "import pandas as pd \n",
    "titanic = pd.read_csv('../../data/titanic.csv')\n",
    "\n",
    "# On prend juste une partie du fichier.\n",
    "titanic = titanic[['Survived', 'Pclass', 'Sex', 'Age']]\n",
    "#  on regrade les chance de Survived  en fonction des autres features.\n",
    "X_features=['Pclass', 'Sex', 'Age']\n",
    "titanic.dropna(axis=0, inplace=True)\n",
    "titanic['Sex'].replace(['male', 'female'], [0, 1], inplace=True)\n",
    "titanic.head()\n",
    "\n",
    "y = titanic['Survived'] # récupérer la colonne survived et la mettre dans y\n",
    "\n",
    "# récuperer le reste des données dans X utiliser la fonction titanic.drop ???, ??? )\n",
    "X = titanic.drop('Survived', axis=1)\n",
    "print(X.shape,y.shape)"
   ]
  },
  {
   "cell_type": "markdown",
   "metadata": {
    "tags": []
   },
   "source": [
    "### Dataset pour une régression A NE PS UTILISER"
   ]
  },
  {
   "cell_type": "code",
   "execution_count": null,
   "metadata": {
    "tags": []
   },
   "outputs": [],
   "source": [
    "# lecture du fichier texte.\n",
    "data=pd.read_csv(\"../data/houses.txt\", header=None)\n",
    "data = data.rename(columns={0: 'Surf', 1: 'Nbpieces', 2: 'nbEtage', 3: 'Age', 4:'Prix'})\n",
    "X= data.drop('Prix',  axis=1)\n",
    "y=data['Prix']\n",
    "data.head(3)\n"
   ]
  },
  {
   "cell_type": "code",
   "execution_count": null,
   "metadata": {
    "tags": []
   },
   "outputs": [],
   "source": [
    "# Lecture du dataset\n",
    "import pandas as pd \n",
    "def load_data(n):\n",
    "    data = pd.read_csv('../../data/train.csv')\n",
    "    return data[0:n]\n"
   ]
  },
  {
   "cell_type": "code",
   "execution_count": null,
   "metadata": {
    "tags": []
   },
   "outputs": [],
   "source": [
    "data=load_data(-1)\n",
    "data.dropna(axis=0, inplace=True)\n",
    "y = data['smoking'] # récupérer la colonne survived et la mettre dans y\n",
    "# récuperer le reste des données dans X utiliser la fonction titanic.drop ???, ??? )\n",
    "X = data.drop('smoking', axis=1)"
   ]
  },
  {
   "cell_type": "code",
   "execution_count": null,
   "metadata": {
    "tags": []
   },
   "outputs": [],
   "source": [
    "data.head(3)"
   ]
  },
  {
   "cell_type": "markdown",
   "metadata": {},
   "source": [
    "## 2. Préparation des données"
   ]
  },
  {
   "cell_type": "markdown",
   "metadata": {
    "tags": []
   },
   "source": [
    "#### Split des données "
   ]
  },
  {
   "cell_type": "code",
   "execution_count": null,
   "metadata": {
    "tags": []
   },
   "outputs": [],
   "source": [
    "from sklearn.model_selection import train_test_split\n",
    "X_train, X_test, y_train, y_test = train_test_split(X, y, test_size=0.3, random_state=42)\n",
    "y_train=np.reshape(y_train,(X_train.shape[0],1))"
   ]
  },
  {
   "cell_type": "code",
   "execution_count": null,
   "metadata": {
    "tags": []
   },
   "outputs": [],
   "source": [
    "print(X_train.shape,y_train.shape)"
   ]
  },
  {
   "cell_type": "markdown",
   "metadata": {},
   "source": [
    "###   Normalisation des données\n",
    "Rappel : Il est primordial de normaliser les données. Vous pourrez vérifier les performances de vos modèles avec et sans données normalisées"
   ]
  },
  {
   "cell_type": "code",
   "execution_count": null,
   "metadata": {
    "tags": []
   },
   "outputs": [],
   "source": [
    "## On peut utiliser une simple normalisation (X - moyenne)/ecart type)\n",
    "# C'est une standardisation la même que StandardScaler de scikit learn\n",
    " \n",
    "mean = X_train.mean()\n",
    "std  = X_train.std()\n",
    "X_train = (X_train - mean) / std\n",
    "\n",
    "# Normalisation des données de test\n",
    "X_test  = (X_test  - mean) / std\n",
    "\n",
    "#display(X_train.describe().style.format(\"{0:.2f}\").set_caption(\"After normalization :\"))\n",
    "display(X_train.head(3).style.format(\"{0:.2f}\").set_caption(\"Few lines of the dataset :\"))"
   ]
  },
  {
   "cell_type": "markdown",
   "metadata": {},
   "source": [
    "## 3. Construction (définition) du modèle \n",
    "On construit un modèle de régression linéaire. \n",
    "<figure>\n",
    "    <img src=\"../../images/perceptron.png\"  style=\"width:440px;height:200px;\" >\n",
    "</figure>\n",
    "\n",
    "$$ f_{\\mathbf{w},b}(x^{(i)}) = \\mathbf{w}\\cdot x^{(i)} + b \\tag{1}$$\n",
    "\n",
    "\n"
   ]
  },
  {
   "cell_type": "markdown",
   "metadata": {},
   "source": [
    "### 3.1. Fonctions du modele\n",
    "#### Petit rappel : on manipule directement les matrices et les vecteurs. Pas besoin de faire des boucles sur l'ensemble des valeurs, .... \n",
    "#### Cette question a déjà été traitée dans un des TP précédents (vectorisation)."
   ]
  },
  {
   "cell_type": "markdown",
   "metadata": {
    "tags": []
   },
   "source": [
    "### Initialisation des paramètres"
   ]
  },
  {
   "cell_type": "code",
   "execution_count": null,
   "metadata": {
    "tags": []
   },
   "outputs": [],
   "source": [
    "# Combien de paramètres \n",
    "def initialisation(X):\n",
    "    W = np.random.randn(X.shape[1], 1)\n",
    "    b = np.random.randn(1)\n",
    "    return (W, b)"
   ]
  },
  {
   "cell_type": "markdown",
   "metadata": {},
   "source": [
    "### Calcul activation du modèle (Z et A)"
   ]
  },
  {
   "cell_type": "code",
   "execution_count": null,
   "metadata": {
    "tags": []
   },
   "outputs": [],
   "source": [
    "# Calcul activation du modèle Z et A \n",
    "def model(X, W, b):\n",
    "    Z = X @ W + b\n",
    "    # sigmoide pour la classification\n",
    "    A = 1 / (1 + np.exp(-Z))\n",
    "    \n",
    "    # identité pour la régression \n",
    "    #A = Z\n",
    "    return A"
   ]
  },
  {
   "cell_type": "markdown",
   "metadata": {},
   "source": [
    "### Calcul de la Loss"
   ]
  },
  {
   "cell_type": "code",
   "execution_count": null,
   "metadata": {
    "tags": []
   },
   "outputs": [],
   "source": [
    "# Calcler la Loss (la MSE\n",
    "def log_loss(A, y):\n",
    "    # MSE (régression)\n",
    "    #return 1/2*len(y) * np.sum((y - A)**2)\n",
    "  \n",
    "    #log logistic (classification\n",
    "    return 1/len(y) * np.sum(-y * np.log(A) - (1 - y) * np.log(1 - A)) \n",
    "    "
   ]
  },
  {
   "cell_type": "markdown",
   "metadata": {},
   "source": [
    "### Calcul des gradients"
   ]
  },
  {
   "cell_type": "code",
   "execution_count": null,
   "metadata": {
    "tags": []
   },
   "outputs": [],
   "source": [
    "def gradients(A, X, y):\n",
    "    lambda_ = 0.5\n",
    "    e   = A - y     \n",
    "    dW = 1 / len(y) * (X.T @ e) \n",
    "    db = 1 / len(y) * np.sum(e)\n",
    "    \n",
    "    # régularisation\n",
    "    #dW = dW + (lambda_/len(y)) * W\n",
    "    return dW, db"
   ]
  },
  {
   "cell_type": "markdown",
   "metadata": {},
   "source": [
    "### Modifier w et b"
   ]
  },
  {
   "cell_type": "code",
   "execution_count": null,
   "metadata": {
    "tags": []
   },
   "outputs": [],
   "source": [
    "def update(dW, db, W, b, learning_rate):\n",
    "    W = W - learning_rate * dW\n",
    "    b = b - learning_rate * db\n",
    "    return (W, b)"
   ]
  },
  {
   "cell_type": "markdown",
   "metadata": {},
   "source": [
    "### Prediction "
   ]
  },
  {
   "cell_type": "code",
   "execution_count": null,
   "metadata": {
    "tags": []
   },
   "outputs": [],
   "source": [
    "def predict(X, W, b):\n",
    "    A = model(X, W, b)\n",
    "    return A >= 0.5 # classification\n",
    "    #return A # regression"
   ]
  },
  {
   "cell_type": "markdown",
   "metadata": {
    "tags": []
   },
   "source": [
    "### Définition du neurone et de ses fonctions : mettre tout dans une même fonction\n",
    "- initialiser les paramètres du modèle\n",
    "- définir les hyperparamètres : learning_rate, nombre_d'itérations\n",
    "- commencer les traitements (dans une boucle) \n",
    "    - appel da la fonction qui calcule l'activation\n",
    "    - caculer l'erreur (pour la visualiser) \n",
    "    - calculer les gradients\n",
    "    - effectuer les modification des paramètres w et b\n",
    "    - réitérer\n",
    "- une fois le modèle appris\n",
    "    - commencer la prédiction\n",
    "    - visualiser la Loss et les performances\n"
   ]
  },
  {
   "cell_type": "code",
   "execution_count": 165,
   "metadata": {
    "tags": []
   },
   "outputs": [],
   "source": [
    "def perceptron(X, y, learning_rate, n_iter):\n",
    "    # initialisation W, b\n",
    "    W, b = initialisation(X)\n",
    "    Loss = []\n",
    "    # itérer l'apprentissage \n",
    "    for i in range(n_iter):\n",
    "        A = model(X, W, b)\n",
    "        Loss.append(log_loss(A, y))\n",
    "        dW, db = gradients(A, X, y)      \n",
    "        W, b = update(dW, db, W, b, learning_rate)\n",
    "        # Pour l question relative au learning_rate,\n",
    "        if i%100==0:\n",
    "            learning_rate =(learning_rate/np.sqrt(i+1))\n",
    "    return (W, b, Loss)\n",
    "    "
   ]
  },
  {
   "cell_type": "code",
   "execution_count": 166,
   "metadata": {
    "tags": []
   },
   "outputs": [],
   "source": [
    "learning_rate = 0.1  # loss dynamique commencer à 1\n",
    "n_iter = 1000\n",
    "err=0.1\n",
    "#W, b , Loss = perceptron(X_train, y_train, learning_rate,n_iter )\n",
    "W, b , Loss_dy = perceptron(X_train, y_train, learning_rate,n_iter )"
   ]
  },
  {
   "cell_type": "markdown",
   "metadata": {},
   "source": [
    "#### Calcul des prédictions et les performances appropriées (Accuracy ou r2_score)"
   ]
  },
  {
   "cell_type": "code",
   "execution_count": 167,
   "metadata": {
    "tags": []
   },
   "outputs": [
    {
     "name": "stdout",
     "output_type": "stream",
     "text": [
      "Accuracy train 0.7875751503006012 Accuracy Test 0.7627906976744186\n"
     ]
    }
   ],
   "source": [
    "from sklearn.metrics import accuracy_score,  f1_score, r2_score\n",
    "## Accuracy pour la classification\n",
    "y_pred_train=predict(X_train, W, b)\n",
    "y_pred = predict(X_test, W, b)\n",
    "print(\"Accuracy train\", accuracy_score(y_train, y_pred_train), \"Accuracy Test\", accuracy_score(y_test, y_pred))\n"
   ]
  },
  {
   "cell_type": "markdown",
   "metadata": {},
   "source": [
    "### Visualiser la Loss"
   ]
  },
  {
   "cell_type": "code",
   "execution_count": 168,
   "metadata": {
    "tags": []
   },
   "outputs": [
    {
     "data": {
      "image/png": "[encoded data removed]",
      "text/plain": [
       "<Figure size 640x480 with 1 Axes>"
      ]
     },
     "metadata": {},
     "output_type": "display_data"
    }
   ],
   "source": [
    "plt.plot(Loss, label=\"Tx learning constant\")\n",
    "plt.plot(Loss_dy, label=\"x learning dynamique\")\n",
    "plt.legend()\n",
    "plt.show()"
   ]
  },
  {
   "cell_type": "code",
   "execution_count": null,
   "metadata": {},
   "outputs": [],
   "source": []
  },
  {
   "cell_type": "markdown",
   "metadata": {
    "tags": []
   },
   "source": [
    "## Questions\n",
    "L'objectif dec cette partie est d'évaluer l'impact du taux d'apprentissage (learning_rate). \n",
    "- 1. Reprendre l'algorithme d'apprentissage, mettre en place un learning_rate dynamique, qui est mis à jour chaque fois que l'iteration, $t$ (qui correspond à l'indice $i$ dans le programme principal) prend une valeur multiple de $10$, $100$, vous pourrez utiliser la forme suivante : $\\alpha=\\frac{\\alpha}{\\sqrt(t+1)}$, t étant l'itération. \n",
    "- 2. Comparer les courbes des Loss obtenues pour chacun de ces cas (learning_rate constant et learning_rate dynamique avec $t$ aleur multiple de $10$, $100$).\n",
    "- 3. On souhaite arrêter l'apprentissage soit quand l'erreur est inférieure à 0.1 ou quand on atteint le nombre diitérations max, rajouter cette contrainte à l'algortime   \n",
    "- 4. Refaire l'exercice en prenant les données du fichier smoking (du contôle). Le dataset est dans la cellule ci dessous. \n"
   ]
  },
  {
   "cell_type": "code",
   "execution_count": null,
   "metadata": {
    "tags": []
   },
   "outputs": [],
   "source": [
    "# Lecture du dataset n permet de limiter le nombre de lignes à lire\n",
    "# Pour faciliter les tests\n",
    "import pandas as pd \n",
    "def load_data(n):\n",
    "    data = pd.read_csv('../../data/train.csv')\n",
    "    return data[0:n]\n",
    "\n",
    "# le -1 du load_data(-1) veut dire on prend toutes les lignes \n",
    "data=load_data(-1)\n",
    "data.dropna(axis=0, inplace=True)\n",
    "y = data['smoking'] # récupérer la colonne survived et la mettre dans y\n",
    "# récuperer le reste des données dans X utiliser la fonction titanic.drop ???, ??? )\n",
    "X = data.drop('smoking', axis=1)"
   ]
  },
  {
   "cell_type": "code",
   "execution_count": 169,
   "metadata": {},
   "outputs": [],
   "source": [
    "## rajouter ces deux lignes à la fonction Perceptro\n",
    "#if i%100==0:\n",
    "#            learning_rate =(learning_rate/np.sqrt(i+1))\n",
    "\n",
    "# elles sont déjà rajoutées dans le programme"
   ]
  },
  {
   "cell_type": "code",
   "execution_count": null,
   "metadata": {},
   "outputs": [],
   "source": []
  }
 ],
 "metadata": {
  "kernelspec": {
   "display_name": "Python 3 (ipykernel)",
   "language": "python",
   "name": "python3"
  },
  "language_info": {
   "codemirror_mode": {
    "name": "ipython",
    "version": 3
   },
   "file_extension": ".py",
   "mimetype": "text/x-python",
   "name": "python",
   "nbconvert_exporter": "python",
   "pygments_lexer": "ipython3",
   "version": "3.11.4"
  }
 },
 "nbformat": 4,
 "nbformat_minor": 4
}
