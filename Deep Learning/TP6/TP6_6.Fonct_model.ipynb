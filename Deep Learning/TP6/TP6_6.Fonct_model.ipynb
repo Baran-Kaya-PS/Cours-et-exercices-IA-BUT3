{
 "cells": [
  {
   "cell_type": "markdown",
   "id": "7b7e3248-72b9-4ee7-8984-3a202c4525dd",
   "metadata": {},
   "source": [
    "# TP6.6 - Construire des modèles complexes (Approche fonctionnelle)\n",
    "\n",
    "Keras propose une API qui permet de construire des modèles de DNN complexe en se basant sur une modélisation fonctionnelle.</br>\n",
    "Le modèle fonctionnelle est assez simple à appréhender, on l'écrit comme une fonction mathématique:\n",
    "\n",
    "$ x=tf.keras.layers.Input(10), y=f(x); z=(g(y); u=concat(f(x),g(y))$</br>\n",
    "Prenons par exemple le modèle: la couche de normalisation est concaténée avec la couche hidden 2.\n",
    "<figure>\n",
    "    <img src=\"../images/functionalModel.jpg\"  style=\"width:240px;height:300px;\" >\n",
    "</figure>\n",
    "\n",
    "input_ = tf.keras.layers.Input(X_train.shape[1])</br>\n",
    "normalized_input = tf.keras.layers.Normalization()(input_)</br>\n",
    "hidden1 = tf.keras.layers.Dense(????, activation=\"???\")(normalized_input)</br>\n",
    "hidden2 = tf.keras.layers.Dense(????, activation=\"????\")(hidden1)</br>\n",
    "concat = tf.keras.layers.Concatenate()([normalized_input, hidden2])</br>\n",
    "output = tf.keras.layers.Dense(1, activation=\"sigmoid\")(concat)</br>\n",
    "\n",
    "\n",
    "\n",
    "model = tf.keras.Model(inputs=[input_], outputs=[output])</br></br>\n",
    "\n",
    "\n",
    "\n",
    "On peut construire aisément des architectures sophistiquées. \n",
    "- On peut imaginer par exemple que les hidden couches 1 et 2 sont concaténées. \n",
    "- la Hidden 1 est remise à la sortie de hidden 1. "
   ]
  },
  {
   "cell_type": "code",
   "execution_count": 7,
   "id": "6dfa1670-5e84-4178-9a15-32e1dc4341b3",
   "metadata": {
    "tags": [],
    "ExecuteTime": {
     "end_time": "2023-12-14T07:50:02.703017200Z",
     "start_time": "2023-12-14T07:50:02.634224600Z"
    }
   },
   "outputs": [],
   "source": [
    "import numpy as np\n",
    "import matplotlib.pyplot as plt\n",
    "import tensorflow as tf\n",
    "from tensorflow.keras.layers import Dense, Input\n",
    "from tensorflow.keras import Sequential\n",
    "\n",
    "from sklearn.preprocessing import RobustScaler\n",
    "from sklearn.model_selection import train_test_split"
   ]
  },
  {
   "cell_type": "code",
   "execution_count": 8,
   "id": "b4a280f9-6d79-487e-ab3e-c549caeaf4a1",
   "metadata": {
    "tags": [],
    "ExecuteTime": {
     "end_time": "2023-12-14T07:50:02.750754900Z",
     "start_time": "2023-12-14T07:50:02.653434Z"
    }
   },
   "outputs": [],
   "source": [
    "from tensorflow.keras import backend as K\n",
    "\n",
    "def f1_score(y_true, y_pred):\n",
    "    # Define the true positives, false positives and false negatives\n",
    "    tp = K.sum(K.round(K.clip(y_true * y_pred, 0, 1)))\n",
    "    fp = K.sum(K.round(K.clip(y_pred - y_true, 0, 1)))\n",
    "    fn = K.sum(K.round(K.clip(y_true - y_pred, 0, 1)))\n",
    "\n",
    "    # Calculate the precision and recall\n",
    "    precision = tp / (tp + fp + K.epsilon())\n",
    "    recall = tp / (tp + fn + K.epsilon())\n",
    "\n",
    "    # Calculate the F1 score\n",
    "    f1_score = 2 * ((precision * recall) / (precision + recall + K.epsilon()))\n",
    "\n",
    "    return f1_score"
   ]
  },
  {
   "cell_type": "markdown",
   "id": "4f201101-ccf6-4cfb-9dd7-420c7f597656",
   "metadata": {},
   "source": [
    "## Réseaux de neurones avec une sortie sigmoide  sigmoïde\n"
   ]
  },
  {
   "cell_type": "markdown",
   "id": "638e88d0-b028-4a0f-9163-e9eb8d2721cd",
   "metadata": {
    "tags": []
   },
   "source": [
    "### 1 Le DataSet\n",
    "On utilisera le Dataset smoking, "
   ]
  },
  {
   "cell_type": "code",
   "execution_count": 9,
   "id": "224f9c20-7d25-4a60-b62b-d79a260992bc",
   "metadata": {
    "tags": [],
    "ExecuteTime": {
     "end_time": "2023-12-14T07:50:02.768694300Z",
     "start_time": "2023-12-14T07:50:02.662216Z"
    }
   },
   "outputs": [],
   "source": [
    "# Lecture du dataset n permet de limiter le nombre de lignes à lire\n",
    "# Pour faciliter les tests\n",
    "import pandas as pd\n",
    "def load_data(n):\n",
    "    data = pd.read_csv('../../data/train.csv')\n",
    "    return data[0:n]\n",
    "\n",
    "def select_variables(data):\n",
    "    data.dropna(axis=0, inplace=True)\n",
    "    y = data['smoking'] # récupérer la colonne survived et la mettre dans y\n",
    "    # récuperer le reste des données dans X utiliser la fonction titanic.drop ???, ??? )\n",
    "    X = data.drop('smoking', axis=1)\n",
    "    return X,y\n",
    "\n"
   ]
  },
  {
   "cell_type": "markdown",
   "id": "4e0d49ef-0c17-4f4f-a9ab-d110920b02ca",
   "metadata": {
    "tags": []
   },
   "source": [
    "## 2 Préparation des données"
   ]
  },
  {
   "cell_type": "markdown",
   "id": "bc688811-54db-4df7-b3a8-0312f1d94a39",
   "metadata": {
    "tags": []
   },
   "source": [
    "#### 2.1. Split des données "
   ]
  },
  {
   "cell_type": "code",
   "execution_count": 10,
   "id": "54ac974c-218e-485e-a851-933f72c32248",
   "metadata": {
    "tags": [],
    "ExecuteTime": {
     "end_time": "2023-12-14T07:50:02.787120Z",
     "start_time": "2023-12-14T07:50:02.677428600Z"
    }
   },
   "outputs": [],
   "source": [
    "def split_data(X,y):\n",
    "    X_train, X_test, y_train, y_test = train_test_split(X, y, test_size=0.2, random_state=42)\n",
    "    return X_train, X_test, y_train, y_test  "
   ]
  },
  {
   "cell_type": "code",
   "execution_count": 11,
   "id": "1a688bc3-4ccd-49bc-8a33-935a90024994",
   "metadata": {
    "tags": [],
    "ExecuteTime": {
     "end_time": "2023-12-14T07:50:02.788125200Z",
     "start_time": "2023-12-14T07:50:02.696476Z"
    }
   },
   "outputs": [],
   "source": [
    "## On peut utiliser une simple normalisation (x-mu)/ecart type)\n",
    "def normaliser(X_train, X_test):\n",
    "    mean = X_train.mean()\n",
    "    std  = X_train.std()\n",
    "    X_train = (X_train - mean) / std\n",
    "    X_test  = (X_test  - mean) / std\n",
    "\n",
    "    return X_train, X_test "
   ]
  },
  {
   "cell_type": "code",
   "execution_count": 12,
   "id": "996ca125-9fa5-4ac3-8729-732d84a75f02",
   "metadata": {
    "tags": [],
    "ExecuteTime": {
     "end_time": "2023-12-14T07:50:02.988316400Z",
     "start_time": "2023-12-14T07:50:02.710478700Z"
    }
   },
   "outputs": [
    {
     "name": "stdout",
     "output_type": "stream",
     "text": [
      "X_train.shape (127404, 23) X_test.shape (31851, 23)\n"
     ]
    }
   ],
   "source": [
    "# Préparation ds données\n",
    "# le -1 du load_data(-1) veut dire on prend toutes les lignes \n",
    "data=load_data(-1)\n",
    "# sélectionner les variables\n",
    "X,y = select_variables(data)\n",
    "X_train, X_test, y_train, y_test = split_data(X,y)\n",
    "X_train, X_test = normaliser(X_train, X_test)\n",
    "print(\"X_train.shape\", X_train.shape, \"X_test.shape\", X_test.shape)"
   ]
  },
  {
   "cell_type": "markdown",
   "id": "f4f62bd1-cb02-49a1-b0c8-b89e9b07cfd1",
   "metadata": {},
   "source": [
    "## 3. Définition du modèle de régression linaire\n",
    "\n",
    "On définit un modèle avec deux branches\n",
    "- une branche : une réseau à 2 couches  à 50 neurones avec un relu\n",
    "- une branche : un réseau "
   ]
  },
  {
   "cell_type": "markdown",
   "id": "0f3b81f3-ea81-4b56-814c-db9ba3591b11",
   "metadata": {},
   "source": [
    "#### 3.1 Un réseau de neurones complexe à plusieurs couches"
   ]
  },
  {
   "cell_type": "code",
   "execution_count": 14,
   "id": "ab508f00-2ff2-4012-a3b3-b3c78558ad5d",
   "metadata": {
    "tags": [],
    "ExecuteTime": {
     "end_time": "2023-12-14T07:51:09.224092800Z",
     "start_time": "2023-12-14T07:51:08.996097300Z"
    }
   },
   "outputs": [
    {
     "name": "stdout",
     "output_type": "stream",
     "text": [
      "WARNING:tensorflow:From C:\\Users\\Baran\\anaconda3\\lib\\site-packages\\keras\\src\\backend.py:1398: The name tf.executing_eagerly_outside_functions is deprecated. Please use tf.compat.v1.executing_eagerly_outside_functions instead.\n",
      "WARNING:tensorflow:From C:\\Users\\Baran\\anaconda3\\lib\\site-packages\\keras\\src\\optimizers\\__init__.py:309: The name tf.train.Optimizer is deprecated. Please use tf.compat.v1.train.Optimizer instead.\n",
      "\n",
      "Model: \"model\"\n",
      "__________________________________________________________________________________________________\n",
      " Layer (type)                Output Shape                 Param #   Connected to                  \n",
      "==================================================================================================\n",
      " input_1 (InputLayer)        [(None, 23)]                 0         []                            \n",
      "                                                                                                  \n",
      " normalization (Normalizati  (None, 23)                   47        ['input_1[0][0]']             \n",
      " on)                                                                                              \n",
      "                                                                                                  \n",
      " dense (Dense)               (None, 50)                   1200      ['normalization[0][0]']       \n",
      "                                                                                                  \n",
      " dense_1 (Dense)             (None, 50)                   2550      ['dense[0][0]']               \n",
      "                                                                                                  \n",
      " concatenate (Concatenate)   (None, 73)                   0         ['normalization[0][0]',       \n",
      "                                                                     'dense_1[0][0]']             \n",
      "                                                                                                  \n",
      " dense_2 (Dense)             (None, 1)                    74        ['concatenate[0][0]']         \n",
      "                                                                                                  \n",
      "==================================================================================================\n",
      "Total params: 3871 (15.12 KB)\n",
      "Trainable params: 3824 (14.94 KB)\n",
      "Non-trainable params: 47 (192.00 Byte)\n",
      "__________________________________________________________________________________________________\n"
     ]
    }
   ],
   "source": [
    "\n",
    "input_ = tf.keras.layers.Input(X_train.shape[1])\n",
    "normalized_input = tf.keras.layers.Normalization()(input_)\n",
    "hidden1 = tf.keras.layers.Dense(50, activation=\"relu\")(normalized_input) # on normalise les données\n",
    "hidden2 = tf.keras.layers.Dense(50, activation=\"relu\")(hidden1) # couche cachée avec 50 neurones\n",
    "concat = tf.keras.layers.Concatenate()([normalized_input, hidden2]) # on concatène les deux couches\n",
    "output = tf.keras.layers.Dense(1, activation=\"sigmoid\")(concat) # couche de sortie avec une sigmoide\n",
    "#Compiler le modèle\n",
    "model = tf.keras.Model(inputs=[input_], outputs=[output])\n",
    "model.compile(optimizer='adam',\n",
    "              loss= 'BinaryCrossentropy',\n",
    "              metrics=['accuracy'])\n",
    "model.summary()\n"
   ]
  },
  {
   "cell_type": "markdown",
   "id": "f2cbdee8-5bf3-4757-a4d3-2a25d5e3ab0e",
   "metadata": {},
   "source": [
    "### 4. Entrainement du modèle (Model training)"
   ]
  },
  {
   "cell_type": "code",
   "execution_count": 15,
   "id": "ade9aeb5-8e6e-4419-a7c9-5a1a7bfebd52",
   "metadata": {
    "tags": [],
    "ExecuteTime": {
     "end_time": "2023-12-14T07:53:08.160502400Z",
     "start_time": "2023-12-14T07:51:13.709669Z"
    }
   },
   "outputs": [
    {
     "name": "stdout",
     "output_type": "stream",
     "text": [
      "WARNING:tensorflow:From C:\\Users\\Baran\\anaconda3\\lib\\site-packages\\keras\\src\\utils\\tf_utils.py:492: The name tf.ragged.RaggedTensorValue is deprecated. Please use tf.compat.v1.ragged.RaggedTensorValue instead.\n",
      "WARNING:tensorflow:From C:\\Users\\Baran\\anaconda3\\lib\\site-packages\\keras\\src\\engine\\base_layer_utils.py:384: The name tf.executing_eagerly_outside_functions is deprecated. Please use tf.compat.v1.executing_eagerly_outside_functions instead.\n"
     ]
    }
   ],
   "source": [
    "# Entrainement du modele\n",
    "history  = model.fit(X_train, \n",
    "                     y_train, \n",
    "                     epochs=10, \n",
    "                     batch_size= 10, \n",
    "                     verbose=False,\n",
    "                     validation_data = (X_test, y_test))\n",
    "#model.metrics_names"
   ]
  },
  {
   "cell_type": "markdown",
   "id": "b7df71a8-3dd6-4f46-bff2-4afc1a2f228d",
   "metadata": {},
   "source": [
    "### 5. Evaluation des performances du modèle \n",
    "Utilisation de  MAE = Mean Absolute Error (between the labels and predictions), \n",
    "la loss, le R2 score \n"
   ]
  },
  {
   "cell_type": "code",
   "execution_count": 16,
   "id": "8494207c-f184-4c4a-b368-7569884f7605",
   "metadata": {
    "tags": [],
    "ExecuteTime": {
     "end_time": "2023-12-14T07:53:08.849074500Z",
     "start_time": "2023-12-14T07:53:08.163528Z"
    }
   },
   "outputs": [
    {
     "name": "stdout",
     "output_type": "stream",
     "text": [
      "Test loss     : 0.4597720801830292\n",
      "Test accuracy : 0.771561324596405\n"
     ]
    }
   ],
   "source": [
    "score = model.evaluate(X_test, y_test, verbose=0)\n",
    "print('Test loss     :', score[0])\n",
    "print('Test accuracy :', score[1])\n",
    "#print('Test f1 score :', score[2])"
   ]
  },
  {
   "cell_type": "markdown",
   "id": "73435425-e08a-4025-8853-133f33225f35",
   "metadata": {},
   "source": [
    "### Historique du Training (training history)\n",
    "Quel était le meilleur résultat prendant l'entrainement"
   ]
  },
  {
   "cell_type": "code",
   "execution_count": 17,
   "id": "36bff4d2-e606-43fd-92ac-7654528e85ed",
   "metadata": {
    "tags": [],
    "ExecuteTime": {
     "end_time": "2023-12-14T07:53:08.879643700Z",
     "start_time": "2023-12-14T07:53:08.837685600Z"
    }
   },
   "outputs": [
    {
     "name": "stdout",
     "output_type": "stream",
     "text": [
      "{'verbose': False, 'epochs': 10, 'steps': 12741}\n",
      "dict_keys(['loss', 'accuracy', 'val_loss', 'val_accuracy'])\n"
     ]
    }
   ],
   "source": [
    "print(history.params)\n",
    "print(history.history.keys())\n",
    "#print(history.history['loss'])"
   ]
  },
  {
   "cell_type": "code",
   "execution_count": 18,
   "id": "ebca131e-eba8-4add-966a-86339922bf12",
   "metadata": {
    "tags": [],
    "ExecuteTime": {
     "end_time": "2023-12-14T07:53:08.891835400Z",
     "start_time": "2023-12-14T07:53:08.853414400Z"
    }
   },
   "outputs": [
    {
     "data": {
      "text/plain": "       loss  accuracy  val_loss  val_accuracy\n0  0.466360  0.766569  0.462785      0.769144\n1  0.456404  0.772440  0.460063      0.769050\n2  0.453644  0.773838  0.464390      0.767888\n3  0.451551  0.775996  0.459018      0.770714\n4  0.450497  0.775855  0.459491      0.772346\n5  0.449826  0.776805  0.459940      0.771342\n6  0.448620  0.777370  0.458441      0.772032\n7  0.447600  0.778594  0.456999      0.774230\n8  0.447028  0.779175  0.458167      0.772126\n9  0.446066  0.778735  0.459772      0.771561",
      "text/html": "<div>\n<style scoped>\n    .dataframe tbody tr th:only-of-type {\n        vertical-align: middle;\n    }\n\n    .dataframe tbody tr th {\n        vertical-align: top;\n    }\n\n    .dataframe thead th {\n        text-align: right;\n    }\n</style>\n<table border=\"1\" class=\"dataframe\">\n  <thead>\n    <tr style=\"text-align: right;\">\n      <th></th>\n      <th>loss</th>\n      <th>accuracy</th>\n      <th>val_loss</th>\n      <th>val_accuracy</th>\n    </tr>\n  </thead>\n  <tbody>\n    <tr>\n      <th>0</th>\n      <td>0.466360</td>\n      <td>0.766569</td>\n      <td>0.462785</td>\n      <td>0.769144</td>\n    </tr>\n    <tr>\n      <th>1</th>\n      <td>0.456404</td>\n      <td>0.772440</td>\n      <td>0.460063</td>\n      <td>0.769050</td>\n    </tr>\n    <tr>\n      <th>2</th>\n      <td>0.453644</td>\n      <td>0.773838</td>\n      <td>0.464390</td>\n      <td>0.767888</td>\n    </tr>\n    <tr>\n      <th>3</th>\n      <td>0.451551</td>\n      <td>0.775996</td>\n      <td>0.459018</td>\n      <td>0.770714</td>\n    </tr>\n    <tr>\n      <th>4</th>\n      <td>0.450497</td>\n      <td>0.775855</td>\n      <td>0.459491</td>\n      <td>0.772346</td>\n    </tr>\n    <tr>\n      <th>5</th>\n      <td>0.449826</td>\n      <td>0.776805</td>\n      <td>0.459940</td>\n      <td>0.771342</td>\n    </tr>\n    <tr>\n      <th>6</th>\n      <td>0.448620</td>\n      <td>0.777370</td>\n      <td>0.458441</td>\n      <td>0.772032</td>\n    </tr>\n    <tr>\n      <th>7</th>\n      <td>0.447600</td>\n      <td>0.778594</td>\n      <td>0.456999</td>\n      <td>0.774230</td>\n    </tr>\n    <tr>\n      <th>8</th>\n      <td>0.447028</td>\n      <td>0.779175</td>\n      <td>0.458167</td>\n      <td>0.772126</td>\n    </tr>\n    <tr>\n      <th>9</th>\n      <td>0.446066</td>\n      <td>0.778735</td>\n      <td>0.459772</td>\n      <td>0.771561</td>\n    </tr>\n  </tbody>\n</table>\n</div>"
     },
     "metadata": {},
     "output_type": "display_data"
    }
   ],
   "source": [
    "import pandas as pd \n",
    "df=pd.DataFrame(data=history.history)\n",
    "display(df)"
   ]
  },
  {
   "cell_type": "code",
   "execution_count": 23,
   "id": "038638bf-c390-4774-8252-5f7915482920",
   "metadata": {
    "tags": [],
    "ExecuteTime": {
     "end_time": "2023-12-14T08:17:01.146702800Z",
     "start_time": "2023-12-14T08:17:00.911829100Z"
    }
   },
   "outputs": [
    {
     "data": {
      "text/plain": "Text(0.5, 1.0, 'Accuracy ')"
     },
     "execution_count": 23,
     "metadata": {},
     "output_type": "execute_result"
    },
    {
     "data": {
      "text/plain": "<Figure size 600x400 with 1 Axes>",
      "image/png": "[encoded data removed]"
     },
     "metadata": {},
     "output_type": "display_data"
    },
    {
     "data": {
      "text/plain": "<Figure size 600x400 with 1 Axes>",
      "image/png": "[encoded data removed]"
     },
     "metadata": {},
     "output_type": "display_data"
    }
   ],
   "source": [
    "import matplotlib.pyplot as plt\n",
    "\n",
    "# Plotting the loss curve\n",
    "plt.figure(figsize=[6,4])\n",
    "plt.plot(history.history['loss'], 'black', linewidth=2.0)\n",
    "plt.plot(history.history['val_loss'], 'blue', linewidth=2.0)\n",
    "plt.legend(['Training Loss', 'Validation Loss'], fontsize=14)\n",
    "plt.xlabel('Epochs', fontsize=10)\n",
    "plt.ylabel('Loss', fontsize=10)\n",
    "plt.title('Loss Curves', fontsize=12)\n",
    "\n",
    "# Plotting the Accuracy curve\n",
    "plt.figure(figsize=[6,4])\n",
    "plt.plot(history.history['accuracy'], 'green', linewidth=2.0)\n",
    "plt.plot(history.history['val_accuracy'], 'blue', linewidth=2.0)\n",
    "plt.legend(['Training Accuracy', 'Validation Accuracy'], fontsize=14)\n",
    "plt.xlabel('Epochs', fontsize=10)\n",
    "plt.ylabel('Accuracy', fontsize=10)\n",
    "plt.title('Accuracy ', fontsize=12)\n"
   ]
  },
  {
   "cell_type": "code",
   "execution_count": 24,
   "id": "230c9d1b-5762-4b64-b7d8-9a916067c0aa",
   "metadata": {
    "tags": [],
    "ExecuteTime": {
     "end_time": "2023-12-14T08:17:08.120771400Z",
     "start_time": "2023-12-14T08:17:06.075274300Z"
    }
   },
   "outputs": [
    {
     "name": "stdout",
     "output_type": "stream",
     "text": [
      "996/996 [==============================] - 1s 694us/step\n",
      "996/996 [==============================] - 1s 671us/step\n"
     ]
    },
    {
     "data": {
      "text/plain": "<Figure size 640x480 with 2 Axes>",
      "image/png": "[encoded data removed]"
     },
     "metadata": {},
     "output_type": "display_data"
    }
   ],
   "source": [
    "from sklearn.metrics import ConfusionMatrixDisplay\n",
    "from sklearn.metrics import confusion_matrix\n",
    "import seaborn as sns\n",
    "y_pred = model.predict(X_test)\n",
    "\n",
    "# Predict probabilities\n",
    "y_pred = model.predict(X_test)\n",
    "\n",
    "# Get class labels\n",
    "y_classes = np.argmax(y_pred, axis=-1)\n",
    "#y_classes = np.where(predictions > 0.5, 1, 0)\n",
    "\n",
    "cm = confusion_matrix(y_test, y_classes)\n",
    "#disp= ConfusionMatrixDisplay(confusion_matrix=cm)\n",
    "\n",
    "sns.heatmap(cm, annot=True, annot_kws={\"size\": 12}) # font size\n",
    "plt.show()\n"
   ]
  },
  {
   "cell_type": "markdown",
   "id": "5970ea05-7b2a-4856-8261-3b1462310721",
   "metadata": {},
   "source": [
    "### Save History and model"
   ]
  },
  {
   "cell_type": "code",
   "execution_count": 27,
   "id": "f21edbfc-6808-4c6e-aa48-b4b82cc05c2d",
   "metadata": {
    "ExecuteTime": {
     "end_time": "2023-12-14T08:17:15.566723900Z",
     "start_time": "2023-12-14T08:17:15.554396700Z"
    }
   },
   "outputs": [],
   "source": [
    "#Saving:\n",
    "\n",
    "np.save('my_history_sd_1n.npy',history.history)\n",
    "#np.save('my_history_sd_MLP.npy',history.history)\n",
    "#np.save('my_history_Ld_1n.npy',history.history)\n",
    "#np.save('my_history_Ld_MLP.npy',history.history)"
   ]
  },
  {
   "cell_type": "code",
   "execution_count": 35,
   "id": "d65a58ab-7c9e-423c-a19e-cdd04dfc651b",
   "metadata": {
    "ExecuteTime": {
     "end_time": "2023-12-14T08:19:59.655504100Z",
     "start_time": "2023-12-14T08:19:59.628402400Z"
    }
   },
   "outputs": [
    {
     "ename": "FileNotFoundError",
     "evalue": "[Errno 2] No such file or directory: 'C:\\\\Users\\\\Baran\\\\OneDrive\\\\Bureau\\\\TP 3e année\\\\IA\\\\Deep Learning\\\\TP6\\\\my_history_sd_1n.npy.npy'",
     "output_type": "error",
     "traceback": [
      "\u001B[1;31m---------------------------------------------------------------------------\u001B[0m",
      "\u001B[1;31mFileNotFoundError\u001B[0m                         Traceback (most recent call last)",
      "\u001B[1;32m~\\AppData\\Local\\Temp\\ipykernel_8680\\3435635505.py\u001B[0m in \u001B[0;36m<module>\u001B[1;34m\u001B[0m\n\u001B[0;32m      7\u001B[0m \u001B[1;31m# comment faire pour que path soit le chemin du fichier my_history.npy\u001B[0m\u001B[1;33m\u001B[0m\u001B[1;33m\u001B[0m\u001B[0m\n\u001B[0;32m      8\u001B[0m \u001B[0mpath\u001B[0m \u001B[1;33m=\u001B[0m \u001B[0mos\u001B[0m\u001B[1;33m.\u001B[0m\u001B[0mpath\u001B[0m\u001B[1;33m.\u001B[0m\u001B[0mjoin\u001B[0m\u001B[1;33m(\u001B[0m\u001B[0mpath\u001B[0m\u001B[1;33m,\u001B[0m \u001B[1;34m'my_history_sd_1n.npy.npy'\u001B[0m\u001B[1;33m)\u001B[0m\u001B[1;33m\u001B[0m\u001B[1;33m\u001B[0m\u001B[0m\n\u001B[1;32m----> 9\u001B[1;33m \u001B[0mhistory\u001B[0m\u001B[1;33m=\u001B[0m\u001B[0mnp\u001B[0m\u001B[1;33m.\u001B[0m\u001B[0mload\u001B[0m\u001B[1;33m(\u001B[0m\u001B[0mpath\u001B[0m\u001B[1;33m,\u001B[0m\u001B[0mallow_pickle\u001B[0m\u001B[1;33m=\u001B[0m\u001B[1;34m'TRUE'\u001B[0m\u001B[1;33m)\u001B[0m\u001B[1;33m.\u001B[0m\u001B[0mitem\u001B[0m\u001B[1;33m(\u001B[0m\u001B[1;33m)\u001B[0m\u001B[1;33m\u001B[0m\u001B[1;33m\u001B[0m\u001B[0m\n\u001B[0m\u001B[0;32m     10\u001B[0m \u001B[1;33m\u001B[0m\u001B[0m\n",
      "\u001B[1;32m~\\anaconda3\\lib\\site-packages\\numpy\\lib\\npyio.py\u001B[0m in \u001B[0;36mload\u001B[1;34m(file, mmap_mode, allow_pickle, fix_imports, encoding, max_header_size)\u001B[0m\n\u001B[0;32m    425\u001B[0m             \u001B[0mown_fid\u001B[0m \u001B[1;33m=\u001B[0m \u001B[1;32mFalse\u001B[0m\u001B[1;33m\u001B[0m\u001B[1;33m\u001B[0m\u001B[0m\n\u001B[0;32m    426\u001B[0m         \u001B[1;32melse\u001B[0m\u001B[1;33m:\u001B[0m\u001B[1;33m\u001B[0m\u001B[1;33m\u001B[0m\u001B[0m\n\u001B[1;32m--> 427\u001B[1;33m             \u001B[0mfid\u001B[0m \u001B[1;33m=\u001B[0m \u001B[0mstack\u001B[0m\u001B[1;33m.\u001B[0m\u001B[0menter_context\u001B[0m\u001B[1;33m(\u001B[0m\u001B[0mopen\u001B[0m\u001B[1;33m(\u001B[0m\u001B[0mos_fspath\u001B[0m\u001B[1;33m(\u001B[0m\u001B[0mfile\u001B[0m\u001B[1;33m)\u001B[0m\u001B[1;33m,\u001B[0m \u001B[1;34m\"rb\"\u001B[0m\u001B[1;33m)\u001B[0m\u001B[1;33m)\u001B[0m\u001B[1;33m\u001B[0m\u001B[1;33m\u001B[0m\u001B[0m\n\u001B[0m\u001B[0;32m    428\u001B[0m             \u001B[0mown_fid\u001B[0m \u001B[1;33m=\u001B[0m \u001B[1;32mTrue\u001B[0m\u001B[1;33m\u001B[0m\u001B[1;33m\u001B[0m\u001B[0m\n\u001B[0;32m    429\u001B[0m \u001B[1;33m\u001B[0m\u001B[0m\n",
      "\u001B[1;31mFileNotFoundError\u001B[0m: [Errno 2] No such file or directory: 'C:\\\\Users\\\\Baran\\\\OneDrive\\\\Bureau\\\\TP 3e année\\\\IA\\\\Deep Learning\\\\TP6\\\\my_history_sd_1n.npy.npy'"
     ]
    }
   ],
   "source": [
    "#Loading:\n",
    "# utiliser les chemins absolus avec os\n",
    "import os\n",
    "os.getcwd()\n",
    "path = os.getcwd()\n",
    "# chemin du fichier my_history.npy = C:\\Users\\Baran\\OneDrive\\Bureau\\TP 3e année\\IA\\Deep Learning\\TP6\\my_history_sd_1n.npy\n",
    "# comment faire pour que path soit le chemin du fichier my_history.npy\n",
    "path = os.path.join(path, 'my_history_sd_1n.npy.npy')\n",
    "history=np.load(path,allow_pickle='TRUE').item()\n"
   ]
  },
  {
   "cell_type": "markdown",
   "id": "a51d3401-217c-43f9-b6e9-3e293b03fec7",
   "metadata": {},
   "source": [
    "### 6. Faire des prédictions"
   ]
  },
  {
   "cell_type": "code",
   "execution_count": null,
   "id": "5b239594-6ef1-4542-ab2d-56e4950e3dca",
   "metadata": {
    "tags": [],
    "ExecuteTime": {
     "end_time": "2023-12-14T07:50:03.016260900Z",
     "start_time": "2023-12-14T07:50:03.015127100Z"
    }
   },
   "outputs": [],
   "source": [
    "#Small Sata set\n",
    "my_data = [ -0.25, -0.75, 0.78]\n",
    "survived = 0\n",
    "my_data=np.array(my_data).reshape(1,3)\n"
   ]
  },
  {
   "cell_type": "code",
   "execution_count": null,
   "id": "edf27468-2363-4225-b994-487363d7d482",
   "metadata": {
    "tags": [],
    "ExecuteTime": {
     "start_time": "2023-12-14T07:50:03.015127100Z"
    }
   },
   "outputs": [],
   "source": [
    "predictions = model.predict( my_data )\n",
    "print(\"Prediction : {:.2f} K$\".format(predictions[0][0]))\n",
    "print(\"Reality    : {:.2f} K$\".format(survived))\n"
   ]
  },
  {
   "cell_type": "markdown",
   "id": "5c806bc2-088d-4aa1-8a0e-89c22064792a",
   "metadata": {},
   "source": [
    "## Question:\n",
    "- Comparer les deux modèles (simple versus complexe)"
   ]
  },
  {
   "cell_type": "code",
   "execution_count": null,
   "id": "c0d0d1ba-b4c4-4bdd-8ff5-fc8ed16539a6",
   "metadata": {
    "ExecuteTime": {
     "end_time": "2023-12-14T07:50:03.016260900Z",
     "start_time": "2023-12-14T07:50:03.016260900Z"
    }
   },
   "outputs": [],
   "source": []
  }
 ],
 "metadata": {
  "kernelspec": {
   "display_name": "Python 3 (ipykernel)",
   "language": "python",
   "name": "python3"
  },
  "language_info": {
   "codemirror_mode": {
    "name": "ipython",
    "version": 3
   },
   "file_extension": ".py",
   "mimetype": "text/x-python",
   "name": "python",
   "nbconvert_exporter": "python",
   "pygments_lexer": "ipython3",
   "version": "3.11.4"
  }
 },
 "nbformat": 4,
 "nbformat_minor": 5
}
