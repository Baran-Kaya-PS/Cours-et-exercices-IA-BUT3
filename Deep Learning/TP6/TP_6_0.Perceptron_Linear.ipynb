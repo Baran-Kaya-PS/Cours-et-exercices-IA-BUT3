{
 "cells": [
  {
   "cell_type": "markdown",
   "metadata": {
    "tags": []
   },
   "source": [
    " # TP6: Apprentissage profond(Deep learning)\n",
    " ## TP6.0 Le perceptron from scratch: Régression linéaire/logistique  \n",
    " Dans ce TP, nous explorerons le fonctionnement interne d'un neurone.\n"
   ]
  },
  {
   "cell_type": "markdown",
   "metadata": {},
   "source": [
    "#### Travail demandé :\n",
    "Objectif : démystifier la partie mathématiques dus réseaux de neurones\n",
    "- Définir un perceptron simple\n",
    "- Ecrire les fonctions qui permettet de faire tous les calculs \n",
    "\n",
    "On utilisera  deux datasets : le titanic et le housing. Un portant sur une classification l'aure sur une régression.\n",
    "Les programmes sont identifques seuls le calcul de l'activation, la loss et les dw et db \n",
    "qui changent légérement. \n",
    "<span style=\"color:green\">  L'architecture du réseau à un réel impact sur les résultats </span>"
   ]
  },
  {
   "cell_type": "code",
   "execution_count": 141,
   "metadata": {
    "tags": [],
    "ExecuteTime": {
     "end_time": "2023-11-30T08:43:41.889170100Z",
     "start_time": "2023-11-30T08:43:41.804566200Z"
    }
   },
   "outputs": [],
   "source": [
    "import numpy as np\n",
    "import pandas as pd\n",
    "import matplotlib.pyplot as plt\n",
    "from sklearn.metrics import accuracy_score, r2_score"
   ]
  },
  {
   "cell_type": "markdown",
   "metadata": {
    "tags": []
   },
   "source": [
    "## Neurone/ Perceptron  "
   ]
  },
  {
   "cell_type": "markdown",
   "metadata": {
    "tags": []
   },
   "source": [
    "### 1. Sélection des données "
   ]
  },
  {
   "cell_type": "markdown",
   "metadata": {},
   "source": [
    "### Dataset pour la classification"
   ]
  },
  {
   "cell_type": "code",
   "execution_count": 142,
   "metadata": {
    "tags": [],
    "ExecuteTime": {
     "end_time": "2023-11-30T08:43:41.953586700Z",
     "start_time": "2023-11-30T08:43:41.818210300Z"
    }
   },
   "outputs": [
    {
     "name": "stdout",
     "output_type": "stream",
     "text": [
      "(714, 3) (714,)\n"
     ]
    }
   ],
   "source": [
    "# le dataset titanic \n",
    "import pandas as pd \n",
    "titanic = pd.read_csv('../../data/titanic.csv')\n",
    "\n",
    "# On prend juste une partie du fichier.\n",
    "titanic = titanic[['Survived', 'Pclass', 'Sex', 'Age']]\n",
    "#  on regrade les chance de Survived  en fonction des autres features.\n",
    "X_features=['Pclass', 'Sex', 'Age']\n",
    "titanic.dropna(axis=0, inplace=True)\n",
    "titanic['Sex'].replace(['male', 'female'], [0, 1], inplace=True)\n",
    "titanic.head()\n",
    "\n",
    "y = titanic['Survived'] # récupérer la colonne survived et la mettre dans y\n",
    "\n",
    "# récuperer le reste des données dans X utiliser la fonction titanic.drop ???, ??? )\n",
    "X = titanic.drop('Survived', axis=1)\n",
    "print(X.shape,y.shape)"
   ]
  },
  {
   "cell_type": "markdown",
   "metadata": {
    "tags": []
   },
   "source": [
    "## 2. Préparation des données"
   ]
  },
  {
   "cell_type": "markdown",
   "metadata": {
    "tags": []
   },
   "source": [
    "#### Split des données "
   ]
  },
  {
   "cell_type": "code",
   "execution_count": 143,
   "metadata": {
    "tags": [],
    "ExecuteTime": {
     "end_time": "2023-11-30T08:43:41.957591300Z",
     "start_time": "2023-11-30T08:43:41.832168200Z"
    }
   },
   "outputs": [],
   "source": [
    "from sklearn.model_selection import train_test_split\n",
    "X_train, X_test, y_train, y_test = train_test_split(X, y, test_size=0.3, random_state=42)\n",
    "# reshape Y \n",
    "y_train = y_train.values.reshape(-1,1) # -1 toutes les lignes, 1 une colonne"
   ]
  },
  {
   "cell_type": "code",
   "execution_count": 144,
   "metadata": {
    "tags": [],
    "ExecuteTime": {
     "end_time": "2023-11-30T08:43:41.983024700Z",
     "start_time": "2023-11-30T08:43:41.847554800Z"
    }
   },
   "outputs": [
    {
     "name": "stdout",
     "output_type": "stream",
     "text": [
      "(499, 3) (499, 1)\n"
     ]
    }
   ],
   "source": [
    "print(X_train.shape,y_train.shape)"
   ]
  },
  {
   "cell_type": "markdown",
   "metadata": {},
   "source": [
    "###   Normalisation des données\n",
    "Rappel : Il est primordial de normaliser les données. Vous pourrez vérifier les performances de vos modèles avec et sans données normalisées"
   ]
  },
  {
   "cell_type": "code",
   "execution_count": 145,
   "metadata": {
    "tags": [],
    "ExecuteTime": {
     "end_time": "2023-11-30T08:43:42.001188700Z",
     "start_time": "2023-11-30T08:43:41.862746400Z"
    }
   },
   "outputs": [
    {
     "data": {
      "text/plain": "<pandas.io.formats.style.Styler at 0x1cb108261f0>",
      "text/html": "<style type=\"text/css\">\n</style>\n<table id=\"T_2c735\">\n  <caption>Few lines of the dataset :</caption>\n  <thead>\n    <tr>\n      <th class=\"blank level0\" >&nbsp;</th>\n      <th id=\"T_2c735_level0_col0\" class=\"col_heading level0 col0\" >Pclass</th>\n      <th id=\"T_2c735_level0_col1\" class=\"col_heading level0 col1\" >Sex</th>\n      <th id=\"T_2c735_level0_col2\" class=\"col_heading level0 col2\" >Age</th>\n    </tr>\n  </thead>\n  <tbody>\n    <tr>\n      <th id=\"T_2c735_level0_row0\" class=\"row_heading level0 row0\" >37</th>\n      <td id=\"T_2c735_row0_col0\" class=\"data row0 col0\" >0.93</td>\n      <td id=\"T_2c735_row0_col1\" class=\"data row0 col1\" >-0.75</td>\n      <td id=\"T_2c735_row0_col2\" class=\"data row0 col2\" >-0.63</td>\n    </tr>\n    <tr>\n      <th id=\"T_2c735_level0_row1\" class=\"row_heading level0 row1\" >58</th>\n      <td id=\"T_2c735_row1_col0\" class=\"data row1 col0\" >-0.25</td>\n      <td id=\"T_2c735_row1_col1\" class=\"data row1 col1\" >1.34</td>\n      <td id=\"T_2c735_row1_col2\" class=\"data row1 col2\" >-1.70</td>\n    </tr>\n    <tr>\n      <th id=\"T_2c735_level0_row2\" class=\"row_heading level0 row2\" >57</th>\n      <td id=\"T_2c735_row2_col0\" class=\"data row2 col0\" >0.93</td>\n      <td id=\"T_2c735_row2_col1\" class=\"data row2 col1\" >-0.75</td>\n      <td id=\"T_2c735_row2_col2\" class=\"data row2 col2\" >-0.12</td>\n    </tr>\n  </tbody>\n</table>\n"
     },
     "metadata": {},
     "output_type": "display_data"
    }
   ],
   "source": [
    "## On peut utiliser une simple normalisation (X - moyenne)/ecart type)\n",
    "# C'est une standardisation la même que StandardScaler de scikit learn\n",
    " \n",
    "mean = X_train.mean()\n",
    "std  = X_train.std()\n",
    "X_train = (X_train - mean) / std\n",
    "\n",
    "# Normalisation des données de test\n",
    "X_test  = (X_test  - mean) / std\n",
    "\n",
    "#display(X_train.describe().style.format(\"{0:.2f}\").set_caption(\"After normalization :\"))\n",
    "display(X_train.head(3).style.format(\"{0:.2f}\").set_caption(\"Few lines of the dataset :\"))"
   ]
  },
  {
   "cell_type": "markdown",
   "metadata": {},
   "source": [
    "## 3. Construction (définition) du modèle \n",
    "On construit un modèle de régression linéaire. \n",
    "<figure>\n",
    "    <img src=\"../images/perceptron.png\"  style=\"width:440px;height:200px;\" >\n",
    "</figure>\n",
    "\n",
    "$$ a=\\sigma(z) = \\frac{1}{1+\\exp(-z)}$$\n",
    "\n",
    "\n"
   ]
  },
  {
   "cell_type": "markdown",
   "metadata": {},
   "source": [
    "### 3.1. Fonctions du modele\n",
    "#### Petit rappel : on manipule directement les matrices et les vecteurs. Pas besoin de faire des boucles sur l'ensemble des valeurs, .... \n",
    "#### Cette question a déjà été traitée dans un des TP précédents (vectorisation, voir lab_utils_multi.py TP2)\n",
    "\n",
    "### Questions : \n",
    "Ecrire les fonctions ci-dessous"
   ]
  },
  {
   "cell_type": "markdown",
   "metadata": {
    "tags": []
   },
   "source": [
    "### Initialisation des paramètres W et b"
   ]
  },
  {
   "cell_type": "code",
   "execution_count": 146,
   "metadata": {
    "tags": [],
    "ExecuteTime": {
     "end_time": "2023-11-30T08:43:42.002188600Z",
     "start_time": "2023-11-30T08:43:41.879225300Z"
    }
   },
   "outputs": [],
   "source": [
    "# Combien de paramètres \n",
    "def initialisation(X): # initialise les paramètres W et b\n",
    "    W = np.random.randn(1,X.shape[1])   # X.shape[1] donne le nombre de paramètres, W = np.random.randn(1, X.shape[1]) car on a un seul neurone et X.shape[1] paramètres\n",
    "    b = np.random.randn(1) # b = np.random.randn(1) car on a un seul neurone\n",
    "    return (W, b)"
   ]
  },
  {
   "cell_type": "markdown",
   "metadata": {},
   "source": [
    "### Calcul activation du modèle (Z et A)"
   ]
  },
  {
   "cell_type": "code",
   "execution_count": 147,
   "metadata": {
    "tags": [],
    "ExecuteTime": {
     "end_time": "2023-11-30T08:43:42.003188400Z",
     "start_time": "2023-11-30T08:43:41.894401600Z"
    }
   },
   "outputs": [],
   "source": [
    "# Calcul activation du modèle Z et A \n",
    "def model(X, W, b): # X représente les données, W et b les paramètres du modèle\n",
    "    Z =  np.dot(X,W)+b# Z est égal a X*W+b\n",
    "    A = 1/(1+np.exp(-Z))# A est égal à la sigmoide de Z, la fonction sigmoide = 1 divisé par 1 + exp(-Z), Sigmoide = 1/(1+np.exp(-Z))\n",
    "    return A"
   ]
  },
  {
   "cell_type": "markdown",
   "metadata": {},
   "source": [
    "### Calcul de la Loss\n",
    "$$loss=1/m * \\sum (y * log(A) - (1 - y) * log(1 - A))$$"
   ]
  },
  {
   "cell_type": "code",
   "execution_count": 148,
   "metadata": {
    "tags": [],
    "ExecuteTime": {
     "end_time": "2023-11-30T08:43:42.003188400Z",
     "start_time": "2023-11-30T08:43:41.909786Z"
    }
   },
   "outputs": [],
   "source": [
    "# Calcler la Loss (la MSE\n",
    "def log_loss(A, y):  # A est l'activation du modèle, y les vraies valeurs\n",
    "    # Il faut calculer la loss, voici la fonction : loss=1/m * \\sum (y * log(A) - (1 - y) * log(1 - A))\n",
    "    # m = y.shape[0] # nombre d'exemples\n",
    "    # sum (y * log(a) représente la somme des y * log(a) pour chaque exemple\n",
    "    return 1/y.shape[0] * y*np.log(A) - (1-y) * np.log(1-A)\n",
    "    "
   ]
  },
  {
   "cell_type": "markdown",
   "metadata": {},
   "source": [
    "### Calcul des gradients"
   ]
  },
  {
   "cell_type": "code",
   "execution_count": 149,
   "metadata": {
    "tags": [],
    "ExecuteTime": {
     "end_time": "2023-11-30T08:43:42.003188400Z",
     "start_time": "2023-11-30T08:43:41.925196100Z"
    }
   },
   "outputs": [],
   "source": [
    "def gradients(A, X, y):\n",
    "    # pour calculer le gradient il faut : dw qui est égal a 1/m * X * (A - y) et db qui est égal a 1/m * (A - y)\n",
    "    # m = y.shape[0] # nombre d'exemples \n",
    "    dW = 1/y[0] * X * (A-y)\n",
    "    db = 1/y[0] * (A-y)\n",
    "    return dW, db"
   ]
  },
  {
   "cell_type": "markdown",
   "metadata": {},
   "source": [
    "### Modifier w et b"
   ]
  },
  {
   "cell_type": "code",
   "execution_count": 150,
   "metadata": {
    "tags": [],
    "ExecuteTime": {
     "end_time": "2023-11-30T08:43:42.003188400Z",
     "start_time": "2023-11-30T08:43:41.941918500Z"
    }
   },
   "outputs": [],
   "source": [
    "def update(dW, db, W, b, learning_rate): # learning_rate est le taux d'apprentissage\n",
    "    W = W - learning_rate*dW # W représente les paramètres du modèle et est égal à W - learning_rate * dW\n",
    "    b = b-learning_rate*db # b représente les paramètres du modèle et est égal à b - learning_rate * db\n",
    "    return (W, b)"
   ]
  },
  {
   "cell_type": "markdown",
   "metadata": {},
   "source": [
    "### Prediction "
   ]
  },
  {
   "cell_type": "code",
   "execution_count": 151,
   "metadata": {
    "tags": [],
    "ExecuteTime": {
     "end_time": "2023-11-30T08:43:42.004188400Z",
     "start_time": "2023-11-30T08:43:41.956590800Z"
    }
   },
   "outputs": [],
   "source": [
    "def predict(X, W, b): # prédict permet de prédire quelque chose en fonction de nouvelles données qui ne sont pas dans le dataset\n",
    "    A = model(X, W, b)\n",
    "    return A >= 0.5 # classification, retourne vrai si A est supérieur ou égal à 0.5, faux sinon\n",
    "    "
   ]
  },
  {
   "cell_type": "markdown",
   "metadata": {
    "tags": []
   },
   "source": [
    "### Définition du neurone et de ses fonctions : mettre tout dans une même fonction\n",
    "- initialiser les paramètres du modèle\n",
    "- définir les hyperparamètres : learning_rate, nombre_d'itérations\n",
    "- commencer les traitements (dans une boucle) \n",
    "    - appel da la fonction qui calcule l'activation\n",
    "    - caculer l'erreur (pour la visualiser) \n",
    "    - calculer les gradients\n",
    "    - effectuer les modification des paramètres w et b\n",
    "    - réitérer\n",
    "- une fois le modèle appris\n",
    "    - commencer la prédiction\n",
    "    - visualiser la Loss et les performances\n"
   ]
  },
  {
   "cell_type": "code",
   "execution_count": 152,
   "metadata": {
    "tags": [],
    "ExecuteTime": {
     "end_time": "2023-11-30T08:43:42.062722100Z",
     "start_time": "2023-11-30T08:43:41.973874800Z"
    }
   },
   "outputs": [],
   "source": [
    "def perceptron(X, y, learning_rate, n_iter):\n",
    "    # initialisation W, b\n",
    "    W, b = initialisation(X)\n",
    "    Loss = []\n",
    "    Les_W =[]\n",
    "    # itérer l'apprentissage \n",
    "    for i in range(n_iter):\n",
    "        #Calculer l'activation du neurone\n",
    "        A = model(X,W,b) # appel de la fonction model A = model(X, W, b)\n",
    "        #Calculer la Loss mettre dans une liste\n",
    "        Loss.append(log_loss(A, y))\n",
    "        # Calul des gradients\n",
    "        dW, db = gradients(A, X, y) # appel de la fonction gradients dW, db = gradients(A, X, y)\n",
    "        \n",
    "        # Modifier les paramètres\n",
    "        W, b = update(dW, db, W, b, learning_rate) # appel de la fonction update W, b = update(dW, db, W, b, learning_rate\n",
    "        \n",
    "    return (W, b, Loss)\n",
    "    "
   ]
  },
  {
   "cell_type": "code",
   "execution_count": 153,
   "metadata": {
    "tags": [],
    "ExecuteTime": {
     "end_time": "2023-11-30T08:43:55.465328500Z",
     "start_time": "2023-11-30T08:43:41.988187700Z"
    }
   },
   "outputs": [
    {
     "name": "stdout",
     "output_type": "stream",
     "text": [
      "iteration 0\n",
      "iteration 100\n",
      "iteration 200\n",
      "iteration 300\n",
      "iteration 400\n",
      "iteration 500\n",
      "iteration 600\n",
      "iteration 700\n",
      "iteration 800\n",
      "iteration 900\n",
      "iteration 1000\n",
      "iteration 1100\n",
      "iteration 1200\n",
      "iteration 1300\n",
      "iteration 1400\n",
      "iteration 1500\n",
      "iteration 1600\n",
      "iteration 1700\n",
      "iteration 1800\n",
      "iteration 1900\n",
      "iteration 2000\n",
      "iteration 2100\n",
      "iteration 2200\n",
      "iteration 2300\n",
      "iteration 2400\n",
      "iteration 2500\n",
      "iteration 2600\n",
      "iteration 2700\n",
      "iteration 2800\n",
      "iteration 2900\n",
      "iteration 3000\n",
      "iteration 3100\n",
      "iteration 3200\n",
      "iteration 3300\n",
      "iteration 3400\n",
      "iteration 3500\n",
      "iteration 3600\n",
      "iteration 3700\n",
      "iteration 3800\n",
      "iteration 3900\n",
      "iteration 4000\n",
      "iteration 4100\n",
      "iteration 4200\n",
      "iteration 4300\n",
      "iteration 4400\n",
      "iteration 4500\n",
      "iteration 4600\n",
      "iteration 4700\n",
      "iteration 4800\n",
      "iteration 4900\n",
      "iteration 5000\n",
      "iteration 5100\n",
      "iteration 5200\n",
      "iteration 5300\n",
      "iteration 5400\n",
      "iteration 5500\n",
      "iteration 5600\n",
      "iteration 5700\n",
      "iteration 5800\n",
      "iteration 5900\n",
      "iteration 6000\n",
      "iteration 6100\n",
      "iteration 6200\n",
      "iteration 6300\n",
      "iteration 6400\n",
      "iteration 6500\n",
      "iteration 6600\n",
      "iteration 6700\n",
      "iteration 6800\n",
      "iteration 6900\n",
      "iteration 7000\n",
      "iteration 7100\n",
      "iteration 7200\n",
      "iteration 7300\n",
      "iteration 7400\n",
      "iteration 7500\n",
      "iteration 7600\n",
      "iteration 7700\n",
      "iteration 7800\n",
      "iteration 7900\n",
      "iteration 8000\n",
      "iteration 8100\n",
      "iteration 8200\n",
      "iteration 8300\n",
      "iteration 8400\n",
      "iteration 8500\n",
      "iteration 8600\n",
      "iteration 8700\n",
      "iteration 8800\n",
      "iteration 8900\n",
      "iteration 9000\n",
      "iteration 9100\n",
      "iteration 9200\n",
      "iteration 9300\n",
      "iteration 9400\n",
      "iteration 9500\n",
      "iteration 9600\n",
      "iteration 9700\n",
      "iteration 9800\n",
      "iteration 9900\n"
     ]
    }
   ],
   "source": [
    "learning_rate = 0.5\n",
    "n_iter = 10000\n",
    "W, b , Loss = perceptron(X_train, y_train, learning_rate,n_iter )"
   ]
  },
  {
   "cell_type": "markdown",
   "metadata": {},
   "source": [
    "#### Calcul des prédictions et les performances appropriées (Accuracy ou r2_score)"
   ]
  },
  {
   "cell_type": "code",
   "execution_count": 154,
   "metadata": {
    "tags": [],
    "ExecuteTime": {
     "end_time": "2023-11-30T08:43:55.479588300Z",
     "start_time": "2023-11-30T08:43:55.464398800Z"
    }
   },
   "outputs": [
    {
     "name": "stdout",
     "output_type": "stream",
     "text": [
      "(499, 1) (499, 1)\n",
      "(215,) (215, 1)\n",
      "Accuracy train 0.7995991983967936 Accuracy Test 0.7674418604651163\n"
     ]
    }
   ],
   "source": [
    "## Accuracy pour la classification\n",
    "y_pred_train= predict(X_train,W,b)# y_pred_train est égal à predict(X_train, W, b) # on utilise x_train pour prédire y_train\n",
    "y_pred = (X_test,W,b)# y_pred est égal à predict(X_test, W, b)  # on utilise x_test pour prédire y_test\n",
    "\n",
    "# Calcul de l'accuracy \n",
    "print(\"Accuracy train\", accuracy_score(y_train, y_pred_train), \"Accuracy Test\", accuracy_score(y_test, y_pred))\n"
   ]
  },
  {
   "cell_type": "markdown",
   "metadata": {},
   "source": [
    "### Visualiser la Loss"
   ]
  },
  {
   "cell_type": "code",
   "execution_count": 158,
   "metadata": {
    "tags": [],
    "ExecuteTime": {
     "end_time": "2023-11-30T08:50:07.536770300Z",
     "start_time": "2023-11-30T08:49:22.721889700Z"
    }
   },
   "outputs": [
    {
     "ename": "KeyboardInterrupt",
     "evalue": "",
     "output_type": "error",
     "traceback": [
      "\u001B[1;31m---------------------------------------------------------------------------\u001B[0m",
      "\u001B[1;31mKeyboardInterrupt\u001B[0m                         Traceback (most recent call last)",
      "\u001B[1;32m~\\AppData\\Local\\Temp\\ipykernel_15156\\2872101344.py\u001B[0m in \u001B[0;36m<module>\u001B[1;34m\u001B[0m\n\u001B[0;32m      5\u001B[0m     \u001B[1;32mif\u001B[0m \u001B[0mi\u001B[0m \u001B[1;33m%\u001B[0m \u001B[1;36m100\u001B[0m \u001B[1;33m==\u001B[0m \u001B[1;36m0\u001B[0m\u001B[1;33m:\u001B[0m\u001B[1;33m\u001B[0m\u001B[1;33m\u001B[0m\u001B[0m\n\u001B[0;32m      6\u001B[0m         \u001B[0mlearning_rate\u001B[0m \u001B[1;33m=\u001B[0m \u001B[0mlearning_rate\u001B[0m \u001B[1;33m/\u001B[0m \u001B[0mnp\u001B[0m\u001B[1;33m.\u001B[0m\u001B[0msqrt\u001B[0m\u001B[1;33m(\u001B[0m\u001B[0mi\u001B[0m\u001B[1;33m+\u001B[0m\u001B[1;36m1\u001B[0m\u001B[1;33m)\u001B[0m\u001B[1;33m\u001B[0m\u001B[1;33m\u001B[0m\u001B[0m\n\u001B[1;32m----> 7\u001B[1;33m     \u001B[0mLoss_dy\u001B[0m\u001B[1;33m.\u001B[0m\u001B[0mappend\u001B[0m\u001B[1;33m(\u001B[0m\u001B[0mlog_loss\u001B[0m\u001B[1;33m(\u001B[0m\u001B[0mA\u001B[0m\u001B[1;33m,\u001B[0m \u001B[0my\u001B[0m\u001B[1;33m)\u001B[0m\u001B[1;33m)\u001B[0m\u001B[1;33m\u001B[0m\u001B[1;33m\u001B[0m\u001B[0m\n\u001B[0m\u001B[0;32m      8\u001B[0m \u001B[0mLoss\u001B[0m \u001B[1;33m=\u001B[0m \u001B[0mnp\u001B[0m\u001B[1;33m.\u001B[0m\u001B[0marray\u001B[0m\u001B[1;33m(\u001B[0m\u001B[0mLoss\u001B[0m\u001B[1;33m)\u001B[0m\u001B[1;33m\u001B[0m\u001B[1;33m\u001B[0m\u001B[0m\n\u001B[0;32m      9\u001B[0m \u001B[0mLoss_dy\u001B[0m \u001B[1;33m=\u001B[0m \u001B[0mnp\u001B[0m\u001B[1;33m.\u001B[0m\u001B[0marray\u001B[0m\u001B[1;33m(\u001B[0m\u001B[0mLoss_dy\u001B[0m\u001B[1;33m)\u001B[0m\u001B[1;33m\u001B[0m\u001B[1;33m\u001B[0m\u001B[0m\n",
      "\u001B[1;32m~\\AppData\\Local\\Temp\\ipykernel_15156\\3570002770.py\u001B[0m in \u001B[0;36mlog_loss\u001B[1;34m(A, y)\u001B[0m\n\u001B[0;32m      4\u001B[0m     \u001B[1;31m# m = y.shape[0] # nombre d'exemples\u001B[0m\u001B[1;33m\u001B[0m\u001B[1;33m\u001B[0m\u001B[0m\n\u001B[0;32m      5\u001B[0m     \u001B[1;31m# sum (y * log(a) représente la somme des y * log(a) pour chaque exemple\u001B[0m\u001B[1;33m\u001B[0m\u001B[1;33m\u001B[0m\u001B[0m\n\u001B[1;32m----> 6\u001B[1;33m     \u001B[1;32mreturn\u001B[0m \u001B[1;36m1\u001B[0m\u001B[1;33m/\u001B[0m\u001B[0my\u001B[0m\u001B[1;33m.\u001B[0m\u001B[0mshape\u001B[0m\u001B[1;33m[\u001B[0m\u001B[1;36m0\u001B[0m\u001B[1;33m]\u001B[0m \u001B[1;33m*\u001B[0m \u001B[0my\u001B[0m\u001B[1;33m*\u001B[0m\u001B[0mnp\u001B[0m\u001B[1;33m.\u001B[0m\u001B[0mlog\u001B[0m\u001B[1;33m(\u001B[0m\u001B[0mA\u001B[0m\u001B[1;33m)\u001B[0m \u001B[1;33m-\u001B[0m \u001B[1;33m(\u001B[0m\u001B[1;36m1\u001B[0m\u001B[1;33m-\u001B[0m\u001B[0my\u001B[0m\u001B[1;33m)\u001B[0m \u001B[1;33m*\u001B[0m \u001B[0mnp\u001B[0m\u001B[1;33m.\u001B[0m\u001B[0mlog\u001B[0m\u001B[1;33m(\u001B[0m\u001B[1;36m1\u001B[0m\u001B[1;33m-\u001B[0m\u001B[0mA\u001B[0m\u001B[1;33m)\u001B[0m\u001B[1;33m\u001B[0m\u001B[1;33m\u001B[0m\u001B[0m\n\u001B[0m\u001B[0;32m      7\u001B[0m \u001B[1;33m\u001B[0m\u001B[0m\n",
      "\u001B[1;32m~\\anaconda3\\lib\\site-packages\\pandas\\core\\ops\\common.py\u001B[0m in \u001B[0;36mnew_method\u001B[1;34m(self, other)\u001B[0m\n\u001B[0;32m     68\u001B[0m         \u001B[0mother\u001B[0m \u001B[1;33m=\u001B[0m \u001B[0mitem_from_zerodim\u001B[0m\u001B[1;33m(\u001B[0m\u001B[0mother\u001B[0m\u001B[1;33m)\u001B[0m\u001B[1;33m\u001B[0m\u001B[1;33m\u001B[0m\u001B[0m\n\u001B[0;32m     69\u001B[0m \u001B[1;33m\u001B[0m\u001B[0m\n\u001B[1;32m---> 70\u001B[1;33m         \u001B[1;32mreturn\u001B[0m \u001B[0mmethod\u001B[0m\u001B[1;33m(\u001B[0m\u001B[0mself\u001B[0m\u001B[1;33m,\u001B[0m \u001B[0mother\u001B[0m\u001B[1;33m)\u001B[0m\u001B[1;33m\u001B[0m\u001B[1;33m\u001B[0m\u001B[0m\n\u001B[0m\u001B[0;32m     71\u001B[0m \u001B[1;33m\u001B[0m\u001B[0m\n\u001B[0;32m     72\u001B[0m     \u001B[1;32mreturn\u001B[0m \u001B[0mnew_method\u001B[0m\u001B[1;33m\u001B[0m\u001B[1;33m\u001B[0m\u001B[0m\n",
      "\u001B[1;32m~\\anaconda3\\lib\\site-packages\\pandas\\core\\arraylike.py\u001B[0m in \u001B[0;36m__rmul__\u001B[1;34m(self, other)\u001B[0m\n\u001B[0;32m    118\u001B[0m     \u001B[1;33m@\u001B[0m\u001B[0munpack_zerodim_and_defer\u001B[0m\u001B[1;33m(\u001B[0m\u001B[1;34m\"__rmul__\"\u001B[0m\u001B[1;33m)\u001B[0m\u001B[1;33m\u001B[0m\u001B[1;33m\u001B[0m\u001B[0m\n\u001B[0;32m    119\u001B[0m     \u001B[1;32mdef\u001B[0m \u001B[0m__rmul__\u001B[0m\u001B[1;33m(\u001B[0m\u001B[0mself\u001B[0m\u001B[1;33m,\u001B[0m \u001B[0mother\u001B[0m\u001B[1;33m)\u001B[0m\u001B[1;33m:\u001B[0m\u001B[1;33m\u001B[0m\u001B[1;33m\u001B[0m\u001B[0m\n\u001B[1;32m--> 120\u001B[1;33m         \u001B[1;32mreturn\u001B[0m \u001B[0mself\u001B[0m\u001B[1;33m.\u001B[0m\u001B[0m_arith_method\u001B[0m\u001B[1;33m(\u001B[0m\u001B[0mother\u001B[0m\u001B[1;33m,\u001B[0m \u001B[0mroperator\u001B[0m\u001B[1;33m.\u001B[0m\u001B[0mrmul\u001B[0m\u001B[1;33m)\u001B[0m\u001B[1;33m\u001B[0m\u001B[1;33m\u001B[0m\u001B[0m\n\u001B[0m\u001B[0;32m    121\u001B[0m \u001B[1;33m\u001B[0m\u001B[0m\n\u001B[0;32m    122\u001B[0m     \u001B[1;33m@\u001B[0m\u001B[0munpack_zerodim_and_defer\u001B[0m\u001B[1;33m(\u001B[0m\u001B[1;34m\"__truediv__\"\u001B[0m\u001B[1;33m)\u001B[0m\u001B[1;33m\u001B[0m\u001B[1;33m\u001B[0m\u001B[0m\n",
      "\u001B[1;32m~\\anaconda3\\lib\\site-packages\\pandas\\core\\frame.py\u001B[0m in \u001B[0;36m_arith_method\u001B[1;34m(self, other, op)\u001B[0m\n\u001B[0;32m   6953\u001B[0m         \u001B[0mself\u001B[0m\u001B[1;33m,\u001B[0m \u001B[0mother\u001B[0m \u001B[1;33m=\u001B[0m \u001B[0mops\u001B[0m\u001B[1;33m.\u001B[0m\u001B[0malign_method_FRAME\u001B[0m\u001B[1;33m(\u001B[0m\u001B[0mself\u001B[0m\u001B[1;33m,\u001B[0m \u001B[0mother\u001B[0m\u001B[1;33m,\u001B[0m \u001B[0maxis\u001B[0m\u001B[1;33m,\u001B[0m \u001B[0mflex\u001B[0m\u001B[1;33m=\u001B[0m\u001B[1;32mTrue\u001B[0m\u001B[1;33m,\u001B[0m \u001B[0mlevel\u001B[0m\u001B[1;33m=\u001B[0m\u001B[1;32mNone\u001B[0m\u001B[1;33m)\u001B[0m\u001B[1;33m\u001B[0m\u001B[1;33m\u001B[0m\u001B[0m\n\u001B[0;32m   6954\u001B[0m \u001B[1;33m\u001B[0m\u001B[0m\n\u001B[1;32m-> 6955\u001B[1;33m         \u001B[0mnew_data\u001B[0m \u001B[1;33m=\u001B[0m \u001B[0mself\u001B[0m\u001B[1;33m.\u001B[0m\u001B[0m_dispatch_frame_op\u001B[0m\u001B[1;33m(\u001B[0m\u001B[0mother\u001B[0m\u001B[1;33m,\u001B[0m \u001B[0mop\u001B[0m\u001B[1;33m,\u001B[0m \u001B[0maxis\u001B[0m\u001B[1;33m=\u001B[0m\u001B[0maxis\u001B[0m\u001B[1;33m)\u001B[0m\u001B[1;33m\u001B[0m\u001B[1;33m\u001B[0m\u001B[0m\n\u001B[0m\u001B[0;32m   6956\u001B[0m         \u001B[1;32mreturn\u001B[0m \u001B[0mself\u001B[0m\u001B[1;33m.\u001B[0m\u001B[0m_construct_result\u001B[0m\u001B[1;33m(\u001B[0m\u001B[0mnew_data\u001B[0m\u001B[1;33m)\u001B[0m\u001B[1;33m\u001B[0m\u001B[1;33m\u001B[0m\u001B[0m\n\u001B[0;32m   6957\u001B[0m \u001B[1;33m\u001B[0m\u001B[0m\n",
      "\u001B[1;32m~\\anaconda3\\lib\\site-packages\\pandas\\core\\frame.py\u001B[0m in \u001B[0;36m_dispatch_frame_op\u001B[1;34m(self, right, func, axis)\u001B[0m\n\u001B[0;32m   6992\u001B[0m             \u001B[1;31m# TODO operate_blockwise expects a manager of the same type\u001B[0m\u001B[1;33m\u001B[0m\u001B[1;33m\u001B[0m\u001B[0m\n\u001B[0;32m   6993\u001B[0m             \u001B[1;32mwith\u001B[0m \u001B[0mnp\u001B[0m\u001B[1;33m.\u001B[0m\u001B[0merrstate\u001B[0m\u001B[1;33m(\u001B[0m\u001B[0mall\u001B[0m\u001B[1;33m=\u001B[0m\u001B[1;34m\"ignore\"\u001B[0m\u001B[1;33m)\u001B[0m\u001B[1;33m:\u001B[0m\u001B[1;33m\u001B[0m\u001B[1;33m\u001B[0m\u001B[0m\n\u001B[1;32m-> 6994\u001B[1;33m                 bm = self._mgr.operate_blockwise(\n\u001B[0m\u001B[0;32m   6995\u001B[0m                     \u001B[1;31m# error: Argument 1 to \"operate_blockwise\" of \"ArrayManager\" has\u001B[0m\u001B[1;33m\u001B[0m\u001B[1;33m\u001B[0m\u001B[0m\n\u001B[0;32m   6996\u001B[0m                     \u001B[1;31m# incompatible type \"Union[ArrayManager, BlockManager]\"; expected\u001B[0m\u001B[1;33m\u001B[0m\u001B[1;33m\u001B[0m\u001B[0m\n",
      "\u001B[1;32m~\\anaconda3\\lib\\site-packages\\pandas\\core\\internals\\managers.py\u001B[0m in \u001B[0;36moperate_blockwise\u001B[1;34m(self, other, array_op)\u001B[0m\n\u001B[0;32m   1417\u001B[0m         \u001B[0mApply\u001B[0m \u001B[0marray_op\u001B[0m \u001B[0mblockwise\u001B[0m \u001B[1;32mwith\u001B[0m \u001B[0manother\u001B[0m \u001B[1;33m(\u001B[0m\u001B[0maligned\u001B[0m\u001B[1;33m)\u001B[0m \u001B[0mBlockManager\u001B[0m\u001B[1;33m.\u001B[0m\u001B[1;33m\u001B[0m\u001B[1;33m\u001B[0m\u001B[0m\n\u001B[0;32m   1418\u001B[0m         \"\"\"\n\u001B[1;32m-> 1419\u001B[1;33m         \u001B[1;32mreturn\u001B[0m \u001B[0moperate_blockwise\u001B[0m\u001B[1;33m(\u001B[0m\u001B[0mself\u001B[0m\u001B[1;33m,\u001B[0m \u001B[0mother\u001B[0m\u001B[1;33m,\u001B[0m \u001B[0marray_op\u001B[0m\u001B[1;33m)\u001B[0m\u001B[1;33m\u001B[0m\u001B[1;33m\u001B[0m\u001B[0m\n\u001B[0m\u001B[0;32m   1420\u001B[0m \u001B[1;33m\u001B[0m\u001B[0m\n\u001B[0;32m   1421\u001B[0m     \u001B[1;32mdef\u001B[0m \u001B[0m_equal_values\u001B[0m\u001B[1;33m(\u001B[0m\u001B[0mself\u001B[0m\u001B[1;33m:\u001B[0m \u001B[0mBlockManager\u001B[0m\u001B[1;33m,\u001B[0m \u001B[0mother\u001B[0m\u001B[1;33m:\u001B[0m \u001B[0mBlockManager\u001B[0m\u001B[1;33m)\u001B[0m \u001B[1;33m->\u001B[0m \u001B[0mbool\u001B[0m\u001B[1;33m:\u001B[0m\u001B[1;33m\u001B[0m\u001B[1;33m\u001B[0m\u001B[0m\n",
      "\u001B[1;32m~\\anaconda3\\lib\\site-packages\\pandas\\core\\internals\\ops.py\u001B[0m in \u001B[0;36moperate_blockwise\u001B[1;34m(left, right, array_op)\u001B[0m\n\u001B[0;32m     61\u001B[0m     \u001B[0mres_blks\u001B[0m\u001B[1;33m:\u001B[0m \u001B[0mlist\u001B[0m\u001B[1;33m[\u001B[0m\u001B[0mBlock\u001B[0m\u001B[1;33m]\u001B[0m \u001B[1;33m=\u001B[0m \u001B[1;33m[\u001B[0m\u001B[1;33m]\u001B[0m\u001B[1;33m\u001B[0m\u001B[1;33m\u001B[0m\u001B[0m\n\u001B[0;32m     62\u001B[0m     \u001B[1;32mfor\u001B[0m \u001B[0mlvals\u001B[0m\u001B[1;33m,\u001B[0m \u001B[0mrvals\u001B[0m\u001B[1;33m,\u001B[0m \u001B[0mlocs\u001B[0m\u001B[1;33m,\u001B[0m \u001B[0mleft_ea\u001B[0m\u001B[1;33m,\u001B[0m \u001B[0mright_ea\u001B[0m\u001B[1;33m,\u001B[0m \u001B[0mrblk\u001B[0m \u001B[1;32min\u001B[0m \u001B[0m_iter_block_pairs\u001B[0m\u001B[1;33m(\u001B[0m\u001B[0mleft\u001B[0m\u001B[1;33m,\u001B[0m \u001B[0mright\u001B[0m\u001B[1;33m)\u001B[0m\u001B[1;33m:\u001B[0m\u001B[1;33m\u001B[0m\u001B[1;33m\u001B[0m\u001B[0m\n\u001B[1;32m---> 63\u001B[1;33m         \u001B[0mres_values\u001B[0m \u001B[1;33m=\u001B[0m \u001B[0marray_op\u001B[0m\u001B[1;33m(\u001B[0m\u001B[0mlvals\u001B[0m\u001B[1;33m,\u001B[0m \u001B[0mrvals\u001B[0m\u001B[1;33m)\u001B[0m\u001B[1;33m\u001B[0m\u001B[1;33m\u001B[0m\u001B[0m\n\u001B[0m\u001B[0;32m     64\u001B[0m         \u001B[1;32mif\u001B[0m \u001B[0mleft_ea\u001B[0m \u001B[1;32mand\u001B[0m \u001B[1;32mnot\u001B[0m \u001B[0mright_ea\u001B[0m \u001B[1;32mand\u001B[0m \u001B[0mhasattr\u001B[0m\u001B[1;33m(\u001B[0m\u001B[0mres_values\u001B[0m\u001B[1;33m,\u001B[0m \u001B[1;34m\"reshape\"\u001B[0m\u001B[1;33m)\u001B[0m\u001B[1;33m:\u001B[0m\u001B[1;33m\u001B[0m\u001B[1;33m\u001B[0m\u001B[0m\n\u001B[0;32m     65\u001B[0m             \u001B[0mres_values\u001B[0m \u001B[1;33m=\u001B[0m \u001B[0mres_values\u001B[0m\u001B[1;33m.\u001B[0m\u001B[0mreshape\u001B[0m\u001B[1;33m(\u001B[0m\u001B[1;36m1\u001B[0m\u001B[1;33m,\u001B[0m \u001B[1;33m-\u001B[0m\u001B[1;36m1\u001B[0m\u001B[1;33m)\u001B[0m\u001B[1;33m\u001B[0m\u001B[1;33m\u001B[0m\u001B[0m\n",
      "\u001B[1;32m~\\anaconda3\\lib\\site-packages\\pandas\\core\\ops\\array_ops.py\u001B[0m in \u001B[0;36marithmetic_op\u001B[1;34m(left, right, op)\u001B[0m\n\u001B[0;32m    220\u001B[0m         \u001B[0m_bool_arith_check\u001B[0m\u001B[1;33m(\u001B[0m\u001B[0mop\u001B[0m\u001B[1;33m,\u001B[0m \u001B[0mleft\u001B[0m\u001B[1;33m,\u001B[0m \u001B[0mright\u001B[0m\u001B[1;33m)\u001B[0m\u001B[1;33m\u001B[0m\u001B[1;33m\u001B[0m\u001B[0m\n\u001B[0;32m    221\u001B[0m \u001B[1;33m\u001B[0m\u001B[0m\n\u001B[1;32m--> 222\u001B[1;33m         \u001B[0mres_values\u001B[0m \u001B[1;33m=\u001B[0m \u001B[0m_na_arithmetic_op\u001B[0m\u001B[1;33m(\u001B[0m\u001B[0mleft\u001B[0m\u001B[1;33m,\u001B[0m \u001B[0mright\u001B[0m\u001B[1;33m,\u001B[0m \u001B[0mop\u001B[0m\u001B[1;33m)\u001B[0m\u001B[1;33m\u001B[0m\u001B[1;33m\u001B[0m\u001B[0m\n\u001B[0m\u001B[0;32m    223\u001B[0m \u001B[1;33m\u001B[0m\u001B[0m\n\u001B[0;32m    224\u001B[0m     \u001B[1;32mreturn\u001B[0m \u001B[0mres_values\u001B[0m\u001B[1;33m\u001B[0m\u001B[1;33m\u001B[0m\u001B[0m\n",
      "\u001B[1;32m~\\anaconda3\\lib\\site-packages\\pandas\\core\\ops\\array_ops.py\u001B[0m in \u001B[0;36m_na_arithmetic_op\u001B[1;34m(left, right, op, is_cmp)\u001B[0m\n\u001B[0;32m    161\u001B[0m \u001B[1;33m\u001B[0m\u001B[0m\n\u001B[0;32m    162\u001B[0m     \u001B[1;32mtry\u001B[0m\u001B[1;33m:\u001B[0m\u001B[1;33m\u001B[0m\u001B[1;33m\u001B[0m\u001B[0m\n\u001B[1;32m--> 163\u001B[1;33m         \u001B[0mresult\u001B[0m \u001B[1;33m=\u001B[0m \u001B[0mfunc\u001B[0m\u001B[1;33m(\u001B[0m\u001B[0mleft\u001B[0m\u001B[1;33m,\u001B[0m \u001B[0mright\u001B[0m\u001B[1;33m)\u001B[0m\u001B[1;33m\u001B[0m\u001B[1;33m\u001B[0m\u001B[0m\n\u001B[0m\u001B[0;32m    164\u001B[0m     \u001B[1;32mexcept\u001B[0m \u001B[0mTypeError\u001B[0m\u001B[1;33m:\u001B[0m\u001B[1;33m\u001B[0m\u001B[1;33m\u001B[0m\u001B[0m\n\u001B[0;32m    165\u001B[0m         \u001B[1;32mif\u001B[0m \u001B[1;32mnot\u001B[0m \u001B[0mis_cmp\u001B[0m \u001B[1;32mand\u001B[0m \u001B[1;33m(\u001B[0m\u001B[0mis_object_dtype\u001B[0m\u001B[1;33m(\u001B[0m\u001B[0mleft\u001B[0m\u001B[1;33m.\u001B[0m\u001B[0mdtype\u001B[0m\u001B[1;33m)\u001B[0m \u001B[1;32mor\u001B[0m \u001B[0mis_object_dtype\u001B[0m\u001B[1;33m(\u001B[0m\u001B[0mright\u001B[0m\u001B[1;33m)\u001B[0m\u001B[1;33m)\u001B[0m\u001B[1;33m:\u001B[0m\u001B[1;33m\u001B[0m\u001B[1;33m\u001B[0m\u001B[0m\n",
      "\u001B[1;32m~\\anaconda3\\lib\\site-packages\\pandas\\core\\computation\\expressions.py\u001B[0m in \u001B[0;36mevaluate\u001B[1;34m(op, a, b, use_numexpr)\u001B[0m\n\u001B[0;32m    237\u001B[0m         \u001B[1;32mif\u001B[0m \u001B[0muse_numexpr\u001B[0m\u001B[1;33m:\u001B[0m\u001B[1;33m\u001B[0m\u001B[1;33m\u001B[0m\u001B[0m\n\u001B[0;32m    238\u001B[0m             \u001B[1;31m# error: \"None\" not callable\u001B[0m\u001B[1;33m\u001B[0m\u001B[1;33m\u001B[0m\u001B[0m\n\u001B[1;32m--> 239\u001B[1;33m             \u001B[1;32mreturn\u001B[0m \u001B[0m_evaluate\u001B[0m\u001B[1;33m(\u001B[0m\u001B[0mop\u001B[0m\u001B[1;33m,\u001B[0m \u001B[0mop_str\u001B[0m\u001B[1;33m,\u001B[0m \u001B[0ma\u001B[0m\u001B[1;33m,\u001B[0m \u001B[0mb\u001B[0m\u001B[1;33m)\u001B[0m  \u001B[1;31m# type: ignore[misc]\u001B[0m\u001B[1;33m\u001B[0m\u001B[1;33m\u001B[0m\u001B[0m\n\u001B[0m\u001B[0;32m    240\u001B[0m     \u001B[1;32mreturn\u001B[0m \u001B[0m_evaluate_standard\u001B[0m\u001B[1;33m(\u001B[0m\u001B[0mop\u001B[0m\u001B[1;33m,\u001B[0m \u001B[0mop_str\u001B[0m\u001B[1;33m,\u001B[0m \u001B[0ma\u001B[0m\u001B[1;33m,\u001B[0m \u001B[0mb\u001B[0m\u001B[1;33m)\u001B[0m\u001B[1;33m\u001B[0m\u001B[1;33m\u001B[0m\u001B[0m\n\u001B[0;32m    241\u001B[0m \u001B[1;33m\u001B[0m\u001B[0m\n",
      "\u001B[1;32m~\\anaconda3\\lib\\site-packages\\pandas\\core\\computation\\expressions.py\u001B[0m in \u001B[0;36m_evaluate_numexpr\u001B[1;34m(op, op_str, a, b)\u001B[0m\n\u001B[0;32m    126\u001B[0m \u001B[1;33m\u001B[0m\u001B[0m\n\u001B[0;32m    127\u001B[0m     \u001B[1;32mif\u001B[0m \u001B[0mresult\u001B[0m \u001B[1;32mis\u001B[0m \u001B[1;32mNone\u001B[0m\u001B[1;33m:\u001B[0m\u001B[1;33m\u001B[0m\u001B[1;33m\u001B[0m\u001B[0m\n\u001B[1;32m--> 128\u001B[1;33m         \u001B[0mresult\u001B[0m \u001B[1;33m=\u001B[0m \u001B[0m_evaluate_standard\u001B[0m\u001B[1;33m(\u001B[0m\u001B[0mop\u001B[0m\u001B[1;33m,\u001B[0m \u001B[0mop_str\u001B[0m\u001B[1;33m,\u001B[0m \u001B[0ma\u001B[0m\u001B[1;33m,\u001B[0m \u001B[0mb\u001B[0m\u001B[1;33m)\u001B[0m\u001B[1;33m\u001B[0m\u001B[1;33m\u001B[0m\u001B[0m\n\u001B[0m\u001B[0;32m    129\u001B[0m \u001B[1;33m\u001B[0m\u001B[0m\n\u001B[0;32m    130\u001B[0m     \u001B[1;32mreturn\u001B[0m \u001B[0mresult\u001B[0m\u001B[1;33m\u001B[0m\u001B[1;33m\u001B[0m\u001B[0m\n",
      "\u001B[1;32m~\\anaconda3\\lib\\site-packages\\pandas\\core\\computation\\expressions.py\u001B[0m in \u001B[0;36m_evaluate_standard\u001B[1;34m(op, op_str, a, b)\u001B[0m\n\u001B[0;32m     67\u001B[0m     \u001B[1;32mif\u001B[0m \u001B[0m_TEST_MODE\u001B[0m\u001B[1;33m:\u001B[0m\u001B[1;33m\u001B[0m\u001B[1;33m\u001B[0m\u001B[0m\n\u001B[0;32m     68\u001B[0m         \u001B[0m_store_test_result\u001B[0m\u001B[1;33m(\u001B[0m\u001B[1;32mFalse\u001B[0m\u001B[1;33m)\u001B[0m\u001B[1;33m\u001B[0m\u001B[1;33m\u001B[0m\u001B[0m\n\u001B[1;32m---> 69\u001B[1;33m     \u001B[1;32mreturn\u001B[0m \u001B[0mop\u001B[0m\u001B[1;33m(\u001B[0m\u001B[0ma\u001B[0m\u001B[1;33m,\u001B[0m \u001B[0mb\u001B[0m\u001B[1;33m)\u001B[0m\u001B[1;33m\u001B[0m\u001B[1;33m\u001B[0m\u001B[0m\n\u001B[0m\u001B[0;32m     70\u001B[0m \u001B[1;33m\u001B[0m\u001B[0m\n\u001B[0;32m     71\u001B[0m \u001B[1;33m\u001B[0m\u001B[0m\n",
      "\u001B[1;32m~\\anaconda3\\lib\\site-packages\\pandas\\core\\roperator.py\u001B[0m in \u001B[0;36mrmul\u001B[1;34m(left, right)\u001B[0m\n\u001B[0;32m     15\u001B[0m \u001B[1;33m\u001B[0m\u001B[0m\n\u001B[0;32m     16\u001B[0m \u001B[1;32mdef\u001B[0m \u001B[0mrmul\u001B[0m\u001B[1;33m(\u001B[0m\u001B[0mleft\u001B[0m\u001B[1;33m,\u001B[0m \u001B[0mright\u001B[0m\u001B[1;33m)\u001B[0m\u001B[1;33m:\u001B[0m\u001B[1;33m\u001B[0m\u001B[1;33m\u001B[0m\u001B[0m\n\u001B[1;32m---> 17\u001B[1;33m     \u001B[1;32mreturn\u001B[0m \u001B[0mright\u001B[0m \u001B[1;33m*\u001B[0m \u001B[0mleft\u001B[0m\u001B[1;33m\u001B[0m\u001B[1;33m\u001B[0m\u001B[0m\n\u001B[0m\u001B[0;32m     18\u001B[0m \u001B[1;33m\u001B[0m\u001B[0m\n\u001B[0;32m     19\u001B[0m \u001B[1;33m\u001B[0m\u001B[0m\n",
      "\u001B[1;31mKeyboardInterrupt\u001B[0m: "
     ]
    }
   ],
   "source": [
    "plt.plot(Loss)\n",
    "plt.show()"
   ]
  },
  {
   "cell_type": "markdown",
   "metadata": {},
   "source": [
    "## Questions\n",
    "L'objectif dec cette partie est d'évaluer l'impact du taux d'apprentissage (learning_rate). \n",
    "- 1. Reprendre l'algorithme d'apprentissage, mettre en place un learning_rate dynamique, qui est mis à jour chaque fois que l'iteration, $t$ (qui correspond à l'indice $i$ dans le programme principal) prend une valeur multiple de $10$, $100$, vous pourrez utiliser la forme suivante : $\\alpha=\\frac{\\alpha}{\\sqrt(t+1)}$, t étant l'itération. \n",
    "- 2. Comparer les courbes des Loss obtenues pour chacun de ces cas (learning_rate constant et learning_rate dynamique avec $t$ aleur multiple de $10$, $100$).\n",
    "- 3. On souhaite arrêter l'apprentissage soit quand l'erreur est inférieure à 0.1 ou quand on atteint le nombre diitérations max, rajouter cette contrainte à l'algortime   \n",
    "- 4. Refaire l'exercice en prenant les données du fichier smoking (du contôle). Le dataset est dans la cellule ci dessous. \n"
   ]
  },
  {
   "cell_type": "code",
   "execution_count": null,
   "metadata": {
    "tags": [],
    "ExecuteTime": {
     "end_time": "2023-11-30T08:43:55.719427600Z",
     "start_time": "2023-11-30T08:43:55.713038600Z"
    }
   },
   "outputs": [],
   "source": [
    "# Lecture du dataset n permet de limiter le nombre de lignes à lire\n",
    "# Pour faciliter les tests\n",
    "import pandas as pd \n",
    "def load_data(n):\n",
    "    data = pd.read_csv('../../data/train.csv')\n",
    "    return data[0:n]\n",
    "\n",
    "# le -1 du load_data(-1) veut dire on prend toutes les lignes \n",
    "data=load_data(-1)\n",
    "data.dropna(axis=0, inplace=True)\n",
    "y = data['smoking'] # récupérer la colonne survived et la mettre dans y\n",
    "# récuperer le reste des données dans X utiliser la fonction titanic.drop ???, ??? )\n",
    "X = data.drop('smoking', axis=1)"
   ]
  },
  {
   "cell_type": "code",
   "execution_count": null,
   "metadata": {
    "ExecuteTime": {
     "start_time": "2023-11-30T08:43:55.715038500Z"
    }
   },
   "outputs": [],
   "source": []
  }
 ],
 "metadata": {
  "kernelspec": {
   "display_name": "Python 3 (ipykernel)",
   "language": "python",
   "name": "python3"
  },
  "language_info": {
   "codemirror_mode": {
    "name": "ipython",
    "version": 3
   },
   "file_extension": ".py",
   "mimetype": "text/x-python",
   "name": "python",
   "nbconvert_exporter": "python",
   "pygments_lexer": "ipython3",
   "version": "3.11.4"
  }
 },
 "nbformat": 4,
 "nbformat_minor": 4
}
