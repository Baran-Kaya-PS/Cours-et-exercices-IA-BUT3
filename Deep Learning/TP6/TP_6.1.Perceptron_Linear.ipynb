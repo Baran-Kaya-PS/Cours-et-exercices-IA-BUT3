{
 "cells": [
  {
   "cell_type": "markdown",
   "metadata": {
    "tags": []
   },
   "source": [
    " # TP6: Apprentissage profond(Deep learning)\n",
    " ## TP6.1 Le Perceptron : Régression linéaire  \n",
    " Dans ce TP, nous explorerons le fonctionnement interne des neurones/unités et des couches.\n",
    "L'objecif est double, tout d'abord se familiariser avec les bibliothèques (librairies) tensorflow et keras, puis comparer différentes architectures de réseaux de nruones.\n"
   ]
  },
  {
   "cell_type": "markdown",
   "metadata": {},
   "source": [
    "## Librairies (Bibliothèques)\n",
    "**Tensorflow et Keras**  \n",
    "Tensorflow est un logiciel d'apprentissage automatique développé par Google. En 2019, Google a intégré Keras dans Tensorflow et a publié Tensorflow 2.0. Keras est un framework développé indépendamment par François Chollet qui crée une interface simple et centrée sur les couches de Tensorflow. Ce cours utilisera l'interface Keras. \n"
   ]
  },
  {
   "cell_type": "markdown",
   "metadata": {},
   "source": [
    "#### Travail demandé :\n",
    "Objectif  comparer les performances \n",
    "- d'un réseau de neurones simple (un Perceptrion, 1 seul neurone de sortie) (TP6.1)\n",
    "- et un réseau plus dense avec une couche cachée et une couche de sortie composée d'un seul neurone (TP6.2). \n",
    "\n",
    "On travaille sur le Dataset houses,  4 variables et 100 exemples.\n",
    "<span style=\"color:green\">  L'architecture du réseau à un réel impact sur les résultats </span>"
   ]
  },
  {
   "cell_type": "code",
   "execution_count": 37,
   "metadata": {
    "tags": [],
    "ExecuteTime": {
     "end_time": "2023-12-06T07:36:02.205796500Z",
     "start_time": "2023-12-06T07:36:01.890674900Z"
    }
   },
   "outputs": [],
   "source": [
    "import numpy as np\n",
    "import pandas as pd\n",
    "import matplotlib.pyplot as plt\n",
    "\n",
    "import tensorflow as tf\n",
    "\n",
    "from sklearn.preprocessing import RobustScaler\n",
    "from sklearn.model_selection import train_test_split\n"
   ]
  },
  {
   "cell_type": "code",
   "execution_count": 38,
   "metadata": {
    "tags": [],
    "ExecuteTime": {
     "end_time": "2023-12-06T07:36:02.209898700Z",
     "start_time": "2023-12-06T07:36:01.913698400Z"
    }
   },
   "outputs": [],
   "source": [
    "#fonction utile pour calculer le R2 score\n",
    "from keras import backend as K\n",
    "\n",
    "def r2_score(y_true, y_pred):\n",
    "    SS_res =  K.sum(K.square( y_true-y_pred )) \n",
    "    SS_tot = K.sum(K.square( y_true - K.mean(y_true) ) ) \n",
    "    return ( 1 - SS_res/(SS_tot + K.epsilon()) )"
   ]
  },
  {
   "cell_type": "markdown",
   "metadata": {
    "tags": []
   },
   "source": [
    "## Neurone sans activation - Régression linéaire"
   ]
  },
  {
   "cell_type": "markdown",
   "metadata": {
    "tags": []
   },
   "source": [
    "### 1. Sélection des données \n",
    "On utilisera les données houses.\n",
    "On comence tout d'abord par le petit  (Samll) Dataset puis on regait le process en prenant le Large dataset."
   ]
  },
  {
   "cell_type": "markdown",
   "metadata": {},
   "source": [
    "#### Small dataset"
   ]
  },
  {
   "cell_type": "code",
   "execution_count": 39,
   "metadata": {
    "tags": [],
    "ExecuteTime": {
     "end_time": "2023-12-06T07:36:02.286812100Z",
     "start_time": "2023-12-06T07:36:01.925328200Z"
    }
   },
   "outputs": [
    {
     "data": {
      "text/plain": "     Surf  Nbpieces  nbEtage   Age   Prix\n0   952.0       2.0      1.0  65.0  271.5\n1  1244.0       3.0      1.0  64.0  300.0\n2  1947.0       3.0      2.0  17.0  509.8",
      "text/html": "<div>\n<style scoped>\n    .dataframe tbody tr th:only-of-type {\n        vertical-align: middle;\n    }\n\n    .dataframe tbody tr th {\n        vertical-align: top;\n    }\n\n    .dataframe thead th {\n        text-align: right;\n    }\n</style>\n<table border=\"1\" class=\"dataframe\">\n  <thead>\n    <tr style=\"text-align: right;\">\n      <th></th>\n      <th>Surf</th>\n      <th>Nbpieces</th>\n      <th>nbEtage</th>\n      <th>Age</th>\n      <th>Prix</th>\n    </tr>\n  </thead>\n  <tbody>\n    <tr>\n      <th>0</th>\n      <td>952.0</td>\n      <td>2.0</td>\n      <td>1.0</td>\n      <td>65.0</td>\n      <td>271.5</td>\n    </tr>\n    <tr>\n      <th>1</th>\n      <td>1244.0</td>\n      <td>3.0</td>\n      <td>1.0</td>\n      <td>64.0</td>\n      <td>300.0</td>\n    </tr>\n    <tr>\n      <th>2</th>\n      <td>1947.0</td>\n      <td>3.0</td>\n      <td>2.0</td>\n      <td>17.0</td>\n      <td>509.8</td>\n    </tr>\n  </tbody>\n</table>\n</div>"
     },
     "execution_count": 39,
     "metadata": {},
     "output_type": "execute_result"
    }
   ],
   "source": [
    "# lecture du fichier texte.\n",
    "data=pd.read_csv(\"../../data/houses.txt\", header=None)\n",
    "data = data.rename(columns={0: 'Surf', 1: 'Nbpieces', 2: 'nbEtage', 3: 'Age', 4:'Prix'})\n",
    "X= data.drop('Prix',  axis=1)\n",
    "y=data['Prix']\n",
    "data.head(3)\n"
   ]
  },
  {
   "cell_type": "markdown",
   "metadata": {},
   "source": [
    "## 2 Préparation des données"
   ]
  },
  {
   "cell_type": "markdown",
   "metadata": {
    "tags": []
   },
   "source": [
    "#### Split des données "
   ]
  },
  {
   "cell_type": "code",
   "execution_count": 40,
   "metadata": {
    "tags": [],
    "ExecuteTime": {
     "end_time": "2023-12-06T07:36:02.312608Z",
     "start_time": "2023-12-06T07:36:01.956545300Z"
    }
   },
   "outputs": [],
   "source": [
    "from sklearn.model_selection import train_test_split\n",
    "X_train, X_test, y_train, y_test = train_test_split(X, y, test_size=0.3, random_state=42)\n"
   ]
  },
  {
   "cell_type": "markdown",
   "metadata": {},
   "source": [
    "#### 2.1  Normalisation des données\n",
    "Rappel : Il est primordial de normaliser les données. Vous pourrez vérifier les performances de vos modèles avec et sans données normalisées\n",
    "- Deux options : on utilise soit, notre propre normalisation ou une normalisation proposée dans sklearn."
   ]
  },
  {
   "cell_type": "markdown",
   "metadata": {},
   "source": [
    "#### Option 1"
   ]
  },
  {
   "cell_type": "code",
   "execution_count": 41,
   "metadata": {
    "tags": [],
    "ExecuteTime": {
     "end_time": "2023-12-06T07:36:02.317447400Z",
     "start_time": "2023-12-06T07:36:01.971048200Z"
    }
   },
   "outputs": [
    {
     "data": {
      "text/plain": "        Surf  Nbpieces   nbEtage       Age\n11 -0.516450 -1.044218  1.374513 -0.827154\n47  0.571521  0.417687 -0.717137 -0.867757\n85  0.406756  0.417687  1.374513 -0.867757",
      "text/html": "<div>\n<style scoped>\n    .dataframe tbody tr th:only-of-type {\n        vertical-align: middle;\n    }\n\n    .dataframe tbody tr th {\n        vertical-align: top;\n    }\n\n    .dataframe thead th {\n        text-align: right;\n    }\n</style>\n<table border=\"1\" class=\"dataframe\">\n  <thead>\n    <tr style=\"text-align: right;\">\n      <th></th>\n      <th>Surf</th>\n      <th>Nbpieces</th>\n      <th>nbEtage</th>\n      <th>Age</th>\n    </tr>\n  </thead>\n  <tbody>\n    <tr>\n      <th>11</th>\n      <td>-0.516450</td>\n      <td>-1.044218</td>\n      <td>1.374513</td>\n      <td>-0.827154</td>\n    </tr>\n    <tr>\n      <th>47</th>\n      <td>0.571521</td>\n      <td>0.417687</td>\n      <td>-0.717137</td>\n      <td>-0.867757</td>\n    </tr>\n    <tr>\n      <th>85</th>\n      <td>0.406756</td>\n      <td>0.417687</td>\n      <td>1.374513</td>\n      <td>-0.867757</td>\n    </tr>\n  </tbody>\n</table>\n</div>"
     },
     "execution_count": 41,
     "metadata": {},
     "output_type": "execute_result"
    }
   ],
   "source": [
    "## On peut utiliser une simple normalisation (X - moyenne)/ecart type)\n",
    "# C'est une standardisation la même que StandardScaler de scikit learn\n",
    " \n",
    "mean = X_train.mean()\n",
    "std  = X_train.std()\n",
    "X_train = (X_train - mean) / std\n",
    "\n",
    "# Normalisation des données de test\n",
    "X_test  = (X_test  - mean) / std\n",
    "\n",
    "X_train.head(3)"
   ]
  },
  {
   "cell_type": "markdown",
   "metadata": {},
   "source": [
    "#### Option 2:\n",
    "Une autre façon de normaliser ( utilisation d'un encoder fourni par sklearn)"
   ]
  },
  {
   "cell_type": "code",
   "execution_count": 42,
   "metadata": {
    "tags": [],
    "ExecuteTime": {
     "end_time": "2023-12-06T07:36:02.332896800Z",
     "start_time": "2023-12-06T07:36:01.985303300Z"
    }
   },
   "outputs": [],
   "source": [
    "### Option 2 :  Attention Une seule normalisation\n",
    "encoder=RobustScaler()\n",
    "X_train = encoder.fit_transform(X_train)\n",
    "\n",
    "X_test = encoder.transform(X_test)\n"
   ]
  },
  {
   "cell_type": "markdown",
   "metadata": {},
   "source": [
    "### 3. Construction (définition) du modèle \n",
    "On construite un modèle de régression linéaire. La fonction mise en œuvre par un neurone sans activation est la même que la régression linéaire du chapire 2.:\n",
    "<figure>\n",
    "    <img src=\"../images/perceptron.png\"  style=\"width:440px;height:200px;\" >\n",
    "</figure>\n",
    "\n",
    "$$ f_{\\mathbf{w},b}(x^{(i)}) = \\mathbf{w}\\cdot x^{(i)} + b \\tag{1}$$\n",
    "\n",
    "La définition d'un modèle exige le choix d'un certains nombre d'options (paramètres):  \n",
    "1- Une architecture :\n",
    "- combien de couches; combien de neurones par couche; quelles fonctions d'activation par couche\n",
    "\n",
    "2- Des paramètres relatifs au modèle (compile)\n",
    "- optimize, la loss, les metrics, ...\n",
    "\n",
    "3- Des paramètres relatifs à la phase d'entrainement  (fit)\n",
    "- les données d'entrainement, le nombre d'époques, la taille du lot (batch), les données de test\n",
    "\n",
    "Vous trouverez dans ce qui suit les liens vous permettant de choisir les diférentes options (paramètres) du modèle. \n",
    "- [Optimizer:](https://www.tensorflow.org/api_docs/python/tf/keras/optimizers ) C'est l'algorithme d'apprentissage utilisé pour trouver les bons paramètres\n",
    "- [Activation:](https://www.tensorflow.org/api_docs/python/tf/keras/activations): `sigmoid`, `linear`, `relu`, ...\n",
    "- [Loss :](https://www.tensorflow.org/api_docs/python/tf/keras/losses) fonctions d'erreurs, `mse`, `BinaryCrossentropy`, `CategoricalCrossentropy`, ...\n",
    "- [Metrics :](https://www.tensorflow.org/api_docs/python/tf/keras/metrics) `Accuracy`, `F1Score`,`mae`, `mse`...\n",
    "\n",
    "3\n",
    "\n"
   ]
  },
  {
   "cell_type": "markdown",
   "metadata": {},
   "source": [
    "### 3.1 Un réseau de neurone à 1 neurone. \n",
    "\n",
    "Ecire le modèle de réseau 1 neurone (une simple régression linéaire)"
   ]
  },
  {
   "cell_type": "code",
   "execution_count": 43,
   "metadata": {
    "tags": [],
    "ExecuteTime": {
     "end_time": "2023-12-06T07:36:02.368324400Z",
     "start_time": "2023-12-06T07:36:02.001693700Z"
    }
   },
   "outputs": [],
   "source": [
    "# Défintion du modèle \n",
    "m = X_train.shape[1]\n",
    "model = tf.keras.Sequential ([\n",
    "    tf.keras.layers.Input(m, name=\"InputLayer\"),\n",
    "    tf.keras.layers.Dense(units=1, activation = 'linear',name='output')\n",
    "])\n",
    "    "
   ]
  },
  {
   "cell_type": "code",
   "execution_count": 44,
   "metadata": {
    "ExecuteTime": {
     "end_time": "2023-12-06T07:36:02.385634800Z",
     "start_time": "2023-12-06T07:36:02.034313Z"
    }
   },
   "outputs": [],
   "source": [
    "#Compilation du modèle pour la phase d'apprentissage\n",
    "model.compile(optimizer='adam',\n",
    "              loss= 'mse',\n",
    "               metrics=['mae',r2_score])\n"
   ]
  },
  {
   "cell_type": "markdown",
   "metadata": {},
   "source": [
    "### Questions ;\n",
    "- Combien de paramètres possède ce modèle. Justifier votre réponse, indiquer à quoi ils correspodent exactement ?"
   ]
  },
  {
   "cell_type": "code",
   "execution_count": 45,
   "metadata": {
    "tags": [],
    "ExecuteTime": {
     "end_time": "2023-12-06T07:36:02.403457200Z",
     "start_time": "2023-12-06T07:36:02.050879500Z"
    }
   },
   "outputs": [
    {
     "name": "stdout",
     "output_type": "stream",
     "text": [
      "Model: \"sequential_2\"\n",
      "_________________________________________________________________\n",
      " Layer (type)                Output Shape              Param #   \n",
      "=================================================================\n",
      " output (Dense)              (None, 1)                 5         \n",
      "                                                                 \n",
      "=================================================================\n",
      "Total params: 5 (20.00 Byte)\n",
      "Trainable params: 5 (20.00 Byte)\n",
      "Non-trainable params: 0 (0.00 Byte)\n",
      "_________________________________________________________________\n"
     ]
    }
   ],
   "source": [
    "# Affichage de l'architecture du modèle \n",
    "model.summary()"
   ]
  },
  {
   "cell_type": "markdown",
   "metadata": {},
   "source": [
    "#### On peut visualiser les paramètres du réseau"
   ]
  },
  {
   "cell_type": "code",
   "execution_count": 46,
   "metadata": {
    "tags": [],
    "ExecuteTime": {
     "end_time": "2023-12-06T07:36:02.404470900Z",
     "start_time": "2023-12-06T07:36:02.064302900Z"
    }
   },
   "outputs": [
    {
     "name": "stdout",
     "output_type": "stream",
     "text": [
      "W1(4, 1):\n",
      " [[-0.44479162]\n",
      " [-0.344936  ]\n",
      " [ 0.23426592]\n",
      " [ 0.43667877]] \n",
      "b1(1,): [0.]\n"
     ]
    }
   ],
   "source": [
    "W1, b1 = model.get_layer(\"output\").get_weights()\n",
    "print(f\"W1{W1.shape}:\\n\", W1, f\"\\nb1{b1.shape}:\", b1)\n"
   ]
  },
  {
   "cell_type": "markdown",
   "metadata": {},
   "source": [
    "### 4. Entrainement du modèle (Model training)"
   ]
  },
  {
   "cell_type": "code",
   "execution_count": 47,
   "metadata": {
    "tags": [],
    "ExecuteTime": {
     "end_time": "2023-12-06T07:36:06.619067800Z",
     "start_time": "2023-12-06T07:36:02.077871Z"
    }
   },
   "outputs": [],
   "source": [
    "# Entrainement du modele\n",
    "history  = model.fit(X_train, \n",
    "                     y_train, \n",
    "                     epochs=100, \n",
    "                     batch_size= 10, \n",
    "                     verbose=False,\n",
    "                     validation_data = (X_test, y_test))\n",
    "#model.metrics_names"
   ]
  },
  {
   "cell_type": "markdown",
   "metadata": {},
   "source": [
    "#### Visualiser les patramètres appris"
   ]
  },
  {
   "cell_type": "code",
   "execution_count": 48,
   "metadata": {
    "tags": [],
    "ExecuteTime": {
     "end_time": "2023-12-06T07:36:06.636278100Z",
     "start_time": "2023-12-06T07:36:06.620078Z"
    }
   },
   "outputs": [
    {
     "data": {
      "text/plain": "[array([[ 0.02006974],\n        [-0.8409447 ],\n        [ 0.8830528 ],\n        [ 1.0219662 ]], dtype=float32),\n array([0.69729435], dtype=float32)]"
     },
     "execution_count": 48,
     "metadata": {},
     "output_type": "execute_result"
    }
   ],
   "source": [
    "model.get_weights()"
   ]
  },
  {
   "cell_type": "markdown",
   "metadata": {},
   "source": [
    "### 5. Evaluation des performances du modèle \n",
    "Les scores (métrqiues) de performances sont définis dans le paramètres `metrics` du modèle. \n"
   ]
  },
  {
   "cell_type": "code",
   "execution_count": 49,
   "metadata": {
    "ExecuteTime": {
     "end_time": "2023-12-06T07:36:06.832032200Z",
     "start_time": "2023-12-06T07:36:06.637686400Z"
    }
   },
   "outputs": [
    {
     "name": "stdout",
     "output_type": "stream",
     "text": [
      "x_test / loss      : 144884.9375\n",
      "x_test / mae       : 362.1935\n",
      "x_test / mse       : -9.6542\n"
     ]
    }
   ],
   "source": [
    "score = model.evaluate(X_test, y_test, verbose=0)\n",
    "\n",
    "print('x_test / loss      : {:5.4f}'.format(score[0]))\n",
    "print('x_test / mae       : {:5.4f}'.format(score[1]))\n",
    "print('x_test / mse       : {:5.4f}'.format(score[2]))\n",
    "#print('x_test / r2_score  : {:5.4f}'.format(score[3]))\n"
   ]
  },
  {
   "cell_type": "markdown",
   "metadata": {},
   "source": [
    "### Historique du training (training history)\n",
    "On peut afficher l'historique de l'apprentissge. \n",
    "`history` est un dictionnaire, on peut afficher ses paramètres mais surtout tous les scores de performanes  du modèle sur le traning et le validation data.  `history.history.keys()` renvoie les clés des données sauvegardées. "
   ]
  },
  {
   "cell_type": "code",
   "execution_count": 50,
   "metadata": {
    "tags": [],
    "ExecuteTime": {
     "end_time": "2023-12-06T07:36:06.849213800Z",
     "start_time": "2023-12-06T07:36:06.824675600Z"
    }
   },
   "outputs": [
    {
     "name": "stdout",
     "output_type": "stream",
     "text": [
      "{'verbose': False, 'epochs': 100, 'steps': 7}\n",
      "dict_keys(['loss', 'mae', 'r2_score', 'val_loss', 'val_mae', 'val_r2_score'])\n"
     ]
    }
   ],
   "source": [
    "print(history.params)\n",
    "print(history.history.keys())\n",
    "#print(history.history['loss'])"
   ]
  },
  {
   "cell_type": "markdown",
   "metadata": {},
   "source": [
    "#### On peut afficher tout l'historique des calculs de cout"
   ]
  },
  {
   "cell_type": "code",
   "execution_count": 51,
   "metadata": {
    "tags": [],
    "ExecuteTime": {
     "end_time": "2023-12-06T07:36:06.919045700Z",
     "start_time": "2023-12-06T07:36:06.840194300Z"
    }
   },
   "outputs": [
    {
     "data": {
      "text/plain": "            loss         mae   r2_score       val_loss     val_mae  \\\n0  140158.109375  361.148773 -17.113470  145978.203125  363.667053   \n1  140148.406250  361.135590 -17.365126  145967.171875  363.652008   \n2  140139.078125  361.122559 -18.623964  145955.828125  363.636993   \n3  140129.687500  361.109589 -19.965559  145944.593750  363.621857   \n4  140120.046875  361.096436 -21.323046  145933.500000  363.606903   \n\n   val_r2_score  \n0     -9.928077  \n1     -9.927260  \n2     -9.926423  \n3     -9.925593  \n4     -9.924771  ",
      "text/html": "<div>\n<style scoped>\n    .dataframe tbody tr th:only-of-type {\n        vertical-align: middle;\n    }\n\n    .dataframe tbody tr th {\n        vertical-align: top;\n    }\n\n    .dataframe thead th {\n        text-align: right;\n    }\n</style>\n<table border=\"1\" class=\"dataframe\">\n  <thead>\n    <tr style=\"text-align: right;\">\n      <th></th>\n      <th>loss</th>\n      <th>mae</th>\n      <th>r2_score</th>\n      <th>val_loss</th>\n      <th>val_mae</th>\n      <th>val_r2_score</th>\n    </tr>\n  </thead>\n  <tbody>\n    <tr>\n      <th>0</th>\n      <td>140158.109375</td>\n      <td>361.148773</td>\n      <td>-17.113470</td>\n      <td>145978.203125</td>\n      <td>363.667053</td>\n      <td>-9.928077</td>\n    </tr>\n    <tr>\n      <th>1</th>\n      <td>140148.406250</td>\n      <td>361.135590</td>\n      <td>-17.365126</td>\n      <td>145967.171875</td>\n      <td>363.652008</td>\n      <td>-9.927260</td>\n    </tr>\n    <tr>\n      <th>2</th>\n      <td>140139.078125</td>\n      <td>361.122559</td>\n      <td>-18.623964</td>\n      <td>145955.828125</td>\n      <td>363.636993</td>\n      <td>-9.926423</td>\n    </tr>\n    <tr>\n      <th>3</th>\n      <td>140129.687500</td>\n      <td>361.109589</td>\n      <td>-19.965559</td>\n      <td>145944.593750</td>\n      <td>363.621857</td>\n      <td>-9.925593</td>\n    </tr>\n    <tr>\n      <th>4</th>\n      <td>140120.046875</td>\n      <td>361.096436</td>\n      <td>-21.323046</td>\n      <td>145933.500000</td>\n      <td>363.606903</td>\n      <td>-9.924771</td>\n    </tr>\n  </tbody>\n</table>\n</div>"
     },
     "execution_count": 51,
     "metadata": {},
     "output_type": "execute_result"
    }
   ],
   "source": [
    "import pandas as pd \n",
    "df=pd.DataFrame(data=history.history)\n",
    "df.head(5)"
   ]
  },
  {
   "cell_type": "code",
   "execution_count": 52,
   "metadata": {
    "tags": [],
    "ExecuteTime": {
     "end_time": "2023-12-06T07:36:07.095049200Z",
     "start_time": "2023-12-06T07:36:06.857548800Z"
    }
   },
   "outputs": [
    {
     "data": {
      "text/plain": "Text(0.5, 1.0, 'Loss Curves')"
     },
     "execution_count": 52,
     "metadata": {},
     "output_type": "execute_result"
    },
    {
     "data": {
      "text/plain": "<Figure size 600x400 with 1 Axes>",
      "image/png": "[encoded data removed]"
     },
     "metadata": {},
     "output_type": "display_data"
    }
   ],
   "source": [
    "import matplotlib.pyplot as plt\n",
    "\n",
    "# Plotting the loss curve\n",
    "plt.figure(figsize=[6,4])\n",
    "plt.plot(history.history['loss'], 'black', linewidth=2.0)\n",
    "plt.plot(history.history['val_loss'], 'blue', linewidth=2.0)\n",
    "plt.legend(['Training Loss', 'Validation Loss'], fontsize=14)\n",
    "plt.xlabel('Epochs', fontsize=10)\n",
    "plt.ylabel('Loss', fontsize=10)\n",
    "plt.title('Loss Curves', fontsize=12)\n"
   ]
  },
  {
   "cell_type": "markdown",
   "metadata": {},
   "source": [
    "### Sauvegarder l'historique (Save History and model)"
   ]
  },
  {
   "cell_type": "code",
   "execution_count": 53,
   "metadata": {
    "ExecuteTime": {
     "end_time": "2023-12-06T07:36:07.129176Z",
     "start_time": "2023-12-06T07:36:06.993608Z"
    }
   },
   "outputs": [],
   "source": [
    "#Saving:\n",
    "\n",
    "np.save('my_history_sd_1n.npy',history.history)\n",
    "#np.save('my_history_sd_MLP.npy',history.history)\n",
    "#np.save('my_history_Ld_1n.npy',history.history)\n",
    "#np.save('my_history_Ld_MLP.npy',history.history)"
   ]
  },
  {
   "cell_type": "code",
   "execution_count": 54,
   "metadata": {
    "ExecuteTime": {
     "end_time": "2023-12-06T07:36:07.134557Z",
     "start_time": "2023-12-06T07:36:07.009267800Z"
    }
   },
   "outputs": [
    {
     "ename": "FileNotFoundError",
     "evalue": "[Errno 2] No such file or directory: 'my_history.sd_1n.npy'",
     "output_type": "error",
     "traceback": [
      "\u001B[1;31m---------------------------------------------------------------------------\u001B[0m",
      "\u001B[1;31mFileNotFoundError\u001B[0m                         Traceback (most recent call last)",
      "\u001B[1;32m~\\AppData\\Local\\Temp\\ipykernel_4840\\108945141.py\u001B[0m in \u001B[0;36m<module>\u001B[1;34m\u001B[0m\n\u001B[0;32m      1\u001B[0m \u001B[1;31m#Loading:\u001B[0m\u001B[1;33m\u001B[0m\u001B[1;33m\u001B[0m\u001B[0m\n\u001B[1;32m----> 2\u001B[1;33m \u001B[0mhistory\u001B[0m\u001B[1;33m=\u001B[0m\u001B[0mnp\u001B[0m\u001B[1;33m.\u001B[0m\u001B[0mload\u001B[0m\u001B[1;33m(\u001B[0m\u001B[1;34m'my_history.sd_1n.npy'\u001B[0m\u001B[1;33m,\u001B[0m\u001B[0mallow_pickle\u001B[0m\u001B[1;33m=\u001B[0m\u001B[1;34m'TRUE'\u001B[0m\u001B[1;33m)\u001B[0m\u001B[1;33m.\u001B[0m\u001B[0mitem\u001B[0m\u001B[1;33m(\u001B[0m\u001B[1;33m)\u001B[0m\u001B[1;33m\u001B[0m\u001B[1;33m\u001B[0m\u001B[0m\n\u001B[0m\u001B[0;32m      3\u001B[0m \u001B[1;33m\u001B[0m\u001B[0m\n",
      "\u001B[1;32m~\\anaconda3\\lib\\site-packages\\numpy\\lib\\npyio.py\u001B[0m in \u001B[0;36mload\u001B[1;34m(file, mmap_mode, allow_pickle, fix_imports, encoding, max_header_size)\u001B[0m\n\u001B[0;32m    425\u001B[0m             \u001B[1;31m# .npy file\u001B[0m\u001B[1;33m\u001B[0m\u001B[1;33m\u001B[0m\u001B[0m\n\u001B[0;32m    426\u001B[0m             \u001B[1;32mif\u001B[0m \u001B[0mmmap_mode\u001B[0m\u001B[1;33m:\u001B[0m\u001B[1;33m\u001B[0m\u001B[1;33m\u001B[0m\u001B[0m\n\u001B[1;32m--> 427\u001B[1;33m                 \u001B[1;32mif\u001B[0m \u001B[0mallow_pickle\u001B[0m\u001B[1;33m:\u001B[0m\u001B[1;33m\u001B[0m\u001B[1;33m\u001B[0m\u001B[0m\n\u001B[0m\u001B[0;32m    428\u001B[0m                     \u001B[0mmax_header_size\u001B[0m \u001B[1;33m=\u001B[0m \u001B[1;36m2\u001B[0m\u001B[1;33m**\u001B[0m\u001B[1;36m64\u001B[0m\u001B[1;33m\u001B[0m\u001B[1;33m\u001B[0m\u001B[0m\n\u001B[0;32m    429\u001B[0m                 return format.open_memmap(file, mode=mmap_mode,\n",
      "\u001B[1;31mFileNotFoundError\u001B[0m: [Errno 2] No such file or directory: 'my_history.sd_1n.npy'"
     ]
    }
   ],
   "source": [
    "#Loading:\n",
    "history=np.load('my_history.sd_1n.npy',allow_pickle='TRUE').item()\n"
   ]
  },
  {
   "cell_type": "markdown",
   "metadata": {},
   "source": [
    "### 6. Faire des prédictions"
   ]
  },
  {
   "cell_type": "code",
   "execution_count": 56,
   "metadata": {
    "tags": [],
    "ExecuteTime": {
     "end_time": "2023-12-06T07:38:58.028297700Z",
     "start_time": "2023-12-06T07:38:58.003297300Z"
    }
   },
   "outputs": [],
   "source": [
    "#Small Sata set\n",
    "my_data = [ 0.126918, 0.417687, 1.374513, -0.502325 ]\n",
    "real_price = 350.00\n",
    "my_data=np.array(my_data).reshape(1,4)\n"
   ]
  },
  {
   "cell_type": "code",
   "execution_count": 58,
   "metadata": {
    "tags": [],
    "ExecuteTime": {
     "end_time": "2023-12-06T07:39:06.506879800Z",
     "start_time": "2023-12-06T07:39:06.349264800Z"
    }
   },
   "outputs": [
    {
     "name": "stdout",
     "output_type": "stream",
     "text": [
      "1/1 [==============================] - 0s 36ms/step\n",
      "Prediction : 1.05 K$\n",
      "Reality    : 350.00 K$\n"
     ]
    }
   ],
   "source": [
    "predictions = model.predict( my_data )\n",
    "print(\"Prediction : {:.2f} K$\".format(predictions[0][0]))\n",
    "print(\"Reality    : {:.2f} K$\".format(real_price))\n"
   ]
  },
  {
   "cell_type": "markdown",
   "metadata": {},
   "source": [
    "#### Question :\n",
    "Au regard des performances  et du résultat de prédiction du modèle, quelle est votre conclusion (avis) sur les performances de ce modèle. \n"
   ]
  },
  {
   "cell_type": "code",
   "execution_count": null,
   "metadata": {
    "ExecuteTime": {
     "start_time": "2023-12-06T07:36:07.044322900Z"
    }
   },
   "outputs": [],
   "source": [
    "# réponse a la question, prediction = 1.05, realitée = 350.00, le modèle est mauvais"
   ]
  }
 ],
 "metadata": {
  "kernelspec": {
   "display_name": "Python 3 (ipykernel)",
   "language": "python",
   "name": "python3"
  },
  "language_info": {
   "codemirror_mode": {
    "name": "ipython",
    "version": 3
   },
   "file_extension": ".py",
   "mimetype": "text/x-python",
   "name": "python",
   "nbconvert_exporter": "python",
   "pygments_lexer": "ipython3",
   "version": "3.11.4"
  }
 },
 "nbformat": 4,
 "nbformat_minor": 4
}
