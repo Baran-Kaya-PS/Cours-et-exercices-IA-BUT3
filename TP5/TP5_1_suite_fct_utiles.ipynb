{
 "cells": [
  {
   "cell_type": "markdown",
   "metadata": {
    "colab_type": "text",
    "id": "view-in-github"
   },
   "source": [
    "<a href=\"https://colab.research.google.com/github/MachineLearnia/Python-Machine-Learning/blob/master/Bonus%20%3A%20Sklearn%20Imputers.ipynb\" target=\"_parent\"><img src=\"https://colab.research.google.com/assets/colab-badge.svg\" alt=\"Open In Colab\"/></a>"
   ]
  },
  {
   "cell_type": "markdown",
   "metadata": {
    "colab_type": "text",
    "id": "Fb9USP_k-rxl"
   },
   "source": [
    "# TP5.1 (Suite) Préparation des données (rien de particuier à faire)"
   ]
  },
  {
   "cell_type": "markdown",
   "metadata": {
    "colab_type": "text",
    "id": "lMpfKgv5_WSH"
   },
   "source": [
    "## Quelques fonctions utiles"
   ]
  },
  {
   "cell_type": "markdown",
   "metadata": {},
   "source": [
    "#### Préparation des données"
   ]
  },
  {
   "cell_type": "code",
   "execution_count": 1,
   "metadata": {
    "colab": {},
    "colab_type": "code",
    "id": "DHHZ8lZ3_Pxo",
    "ExecuteTime": {
     "end_time": "2023-11-15T09:09:14.792305300Z",
     "start_time": "2023-11-15T09:09:14.481289200Z"
    }
   },
   "outputs": [],
   "source": [
    "from sklearn.model_selection import train_test_split\n",
    "from sklearn.preprocessing import  OrdinalEncoder, StandardScaler, RobustScaler\n",
    "from sklearn.impute import KNNImputer\n",
    "import pandas as pd"
   ]
  },
  {
   "cell_type": "markdown",
   "metadata": {
    "tags": []
   },
   "source": [
    "### Afficher la liste des colonnes catégorielles"
   ]
  },
  {
   "cell_type": "code",
   "execution_count": 2,
   "metadata": {
    "tags": [],
    "ExecuteTime": {
     "end_time": "2023-11-15T09:09:15.104630200Z",
     "start_time": "2023-11-15T09:09:14.792305300Z"
    }
   },
   "outputs": [
    {
     "ename": "NameError",
     "evalue": "name 'data' is not defined",
     "output_type": "error",
     "traceback": [
      "\u001B[1;31m---------------------------------------------------------------------------\u001B[0m",
      "\u001B[1;31mNameError\u001B[0m                                 Traceback (most recent call last)",
      "\u001B[1;32m~\\AppData\\Local\\Temp\\ipykernel_6516\\700284814.py\u001B[0m in \u001B[0;36m<module>\u001B[1;34m\u001B[0m\n\u001B[0;32m      1\u001B[0m \u001B[1;32mfrom\u001B[0m \u001B[0msklearn\u001B[0m\u001B[1;33m.\u001B[0m\u001B[0mcompose\u001B[0m \u001B[1;32mimport\u001B[0m \u001B[0mmake_column_selector\u001B[0m \u001B[1;32mas\u001B[0m \u001B[0mselector\u001B[0m\u001B[1;33m\u001B[0m\u001B[1;33m\u001B[0m\u001B[0m\n\u001B[0;32m      2\u001B[0m \u001B[0mcategorical_columns_selector\u001B[0m \u001B[1;33m=\u001B[0m \u001B[0mselector\u001B[0m\u001B[1;33m(\u001B[0m\u001B[0mdtype_include\u001B[0m\u001B[1;33m=\u001B[0m\u001B[0mobject\u001B[0m\u001B[1;33m)\u001B[0m\u001B[1;33m\u001B[0m\u001B[1;33m\u001B[0m\u001B[0m\n\u001B[1;32m----> 3\u001B[1;33m \u001B[0mcategorical_columns\u001B[0m \u001B[1;33m=\u001B[0m \u001B[0mcategorical_columns_selector\u001B[0m\u001B[1;33m(\u001B[0m\u001B[0mdata\u001B[0m\u001B[1;33m)\u001B[0m\u001B[1;33m\u001B[0m\u001B[1;33m\u001B[0m\u001B[0m\n\u001B[0m\u001B[0;32m      4\u001B[0m \u001B[0mcategorical_columns\u001B[0m\u001B[1;33m\u001B[0m\u001B[1;33m\u001B[0m\u001B[0m\n",
      "\u001B[1;31mNameError\u001B[0m: name 'data' is not defined"
     ]
    }
   ],
   "source": [
    "# data = titanic\n",
    "data = pd.read_csv('https://raw.githubusercontent.com/MachineLearnia/Python-Machine-Learning/master/Dataset/titanic.csv')\n",
    "from sklearn.compose import make_column_selector as selector\n",
    "categorical_columns_selector = selector(dtype_include=object)\n",
    "categorical_columns = categorical_columns_selector(data)\n",
    "categorical_columns"
   ]
  },
  {
   "cell_type": "markdown",
   "metadata": {
    "tags": []
   },
   "source": [
    "### Combien de valeurs manquantes \n",
    "(selon l'objet renvoyé, pandas ou numpy), pensez à vérifier le type de l'objet manipulé."
   ]
  },
  {
   "cell_type": "code",
   "execution_count": null,
   "metadata": {
    "tags": [],
    "ExecuteTime": {
     "start_time": "2023-11-15T09:09:15.089120500Z"
    }
   },
   "outputs": [],
   "source": [
    "## En Pandas\n",
    "#vérifier s'il y a des valeurs null (manquantes)\n",
    "data.isnull().values.any()\n",
    "\n",
    "# afficher le nombre de vaeurs manquantes par colonnes\n",
    "print('Features manquants: ', data.isnull().sum())"
   ]
  },
  {
   "cell_type": "code",
   "execution_count": null,
   "metadata": {
    "tags": [],
    "ExecuteTime": {
     "start_time": "2023-11-15T09:09:15.090120Z"
    }
   },
   "outputs": [],
   "source": [
    "import numpy as np\n",
    "\n",
    "## Numpy\n",
    "#,-Nb valeurs manquantes sur X_train \n",
    "np.count_nonzero(np.isnan(X_train))\n",
    "\n",
    "#Nb valeurs manquantes sur l'ensemble des données X\n",
    "np.count_nonzero(np.isnan(X))\n",
    "\n",
    "print(\"valeurs manquantes sur X_train: \",np.count_nonzero(np.isnan(X_train)), \n",
    "       \"sur X_test: \", np.count_nonzero(np.isnan(X_test)))"
   ]
  },
  {
   "cell_type": "code",
   "execution_count": null,
   "metadata": {
    "ExecuteTime": {
     "start_time": "2023-11-15T09:09:15.091164500Z"
    }
   },
   "outputs": [],
   "source": []
  },
  {
   "cell_type": "code",
   "execution_count": null,
   "metadata": {
    "ExecuteTime": {
     "start_time": "2023-11-15T09:09:15.092858600Z"
    }
   },
   "outputs": [],
   "source": [
    "from sklearn.impute import SimpleImputer\n",
    "\n",
    "imputer = SimpleImputer(missing_values=np.nan,strategy='mean')\n",
    "X_train_corr=imputer.fit_transform(X_train)"
   ]
  },
  {
   "cell_type": "markdown",
   "metadata": {},
   "source": [
    "### Apprentissage"
   ]
  },
  {
   "cell_type": "markdown",
   "metadata": {},
   "source": [
    "#### Apprentissage sur les données corrigées\n",
    "*** ATTENTION n'oubiez pas de normaliser les données de test.** La normalisatin doit utiliser le même que celui utilisé dans la phase d'apprentissage ET SURTOUT la même échelle.<br>\n",
    "*** regarder la différence entre fit_tranformer ET transform SEUL????\n",
    "\n",
    "De plus, les algos d'apprentissage, de manière générale, n'acceptent pas les valeurs nulles. \n",
    "Pensez aussi à traiter le pb des valeurs nulles sur les données de test, si cela n'a pas été déjà fait.\n"
   ]
  }
 ],
 "metadata": {
  "colab": {
   "authorship_tag": "ABX9TyP1BN6pc/YRZSMbpLSGzw6t",
   "include_colab_link": true,
   "name": "Untitled20.ipynb",
   "provenance": []
  },
  "kernelspec": {
   "display_name": "Python 3 (ipykernel)",
   "language": "python",
   "name": "python3"
  },
  "language_info": {
   "codemirror_mode": {
    "name": "ipython",
    "version": 3
   },
   "file_extension": ".py",
   "mimetype": "text/x-python",
   "name": "python",
   "nbconvert_exporter": "python",
   "pygments_lexer": "ipython3",
   "version": "3.11.4"
  }
 },
 "nbformat": 4,
 "nbformat_minor": 4
}
