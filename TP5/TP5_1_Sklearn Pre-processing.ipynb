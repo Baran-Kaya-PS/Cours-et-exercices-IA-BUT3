{
 "cells": [
  {
   "cell_type": "markdown",
   "metadata": {
    "colab_type": "text",
    "id": "view-in-github"
   },
   "source": [
    "<a href=\"https://colab.research.google.com/github/MachineLearnia/Python-Machine-Learning/blob/master/22%20-%20Sklearn%20Pre-processing.ipynb\" target=\"_parent\"><img src=\"https://colab.research.google.com/assets/colab-badge.svg\" alt=\"Open In Colab\"/></a>"
   ]
  },
  {
   "cell_type": "markdown",
   "metadata": {
    "colab_type": "text",
    "id": "nyias9X7k_Rj"
   },
   "source": [
    "# TP 5.1 Traitement des données : Pre-processing\n",
    "\n",
    "**Rappel du cours** (chapitre 5 : partie préparation des données)<br>\n",
    "Avant de se lancer dans la mise en place d'un modèle d'apprentissage, il est nécessaire de comprendre le contenu du dataset et bien préparer les données : \n",
    "- *Anayse des données* :\n",
    "  - Analyse de la forme : quelles sont les variables, les labels, taille du dataset, types de vriables, valeurs manquantes\n",
    "  - Analyse du fond : visualiser quelques contenus, liens entre les variables, choix des variables, ...\n",
    "  \n",
    "- *Préparation des données* :\n",
    "  - les algos d'apprentissage ne traitent que des valeurs numériques, sinon il fant encoder toutes les données non numériques vers des données numériques --> **encodage**\n",
    "  - Les données peuvent avoir des échelles différentes, la phase de normalisation, ramener les valeurs entre 0 et 1 données doievt être numérique. --> **Normalisation**\n",
    "  - le Dataset peut contenir des colnnes avec des valeurs inconnues (vides), il faut réparer --> **Imputation**  \n"
   ]
  },
  {
   "cell_type": "markdown",
   "metadata": {
    "colab_type": "text",
    "id": "9tPP2Aevle21"
   },
   "source": [
    "## 1. Encodage\n",
    "L'encodage est une phase importante dans la préparation des données. \n",
    "SkLearn sépare l'encodage des labels de celui des features: \n",
    "- LabelEncoder, LabelBinarizer pour les labels \n",
    "- et  plusieurs autres, dont OrdinalEncoder, OneHotEncoder, pour les fatutes.<br>\n",
    "\n",
    "Les encodeurs sont proposés dans le Module  <span style=\"color:green;\"> from sklearn.preprocessing</span> \n",
    "```\n",
    "from sklearn.preprocessing import LabelEncoder, LabelBinarizer, OrdinalEncoder, OneHotEncoder\n",
    "```\n",
    "\n",
    "Utilisation assez simple :\n",
    "- 1- choisir l'encodeur : ```encoder = LabelEncoder() ou / OrdinalEncoder()``` en fonction de X ou y\n",
    "- 2- appeler le transformer :  ```encoder.fit_transform(y)```\n"
   ]
  },
  {
   "cell_type": "code",
   "execution_count": 28,
   "metadata": {
    "colab": {},
    "colab_type": "code",
    "id": "eFsM1ZAWkdIu",
    "ExecuteTime": {
     "end_time": "2023-11-15T07:32:47.245332600Z",
     "start_time": "2023-11-15T07:32:47.080725Z"
    }
   },
   "outputs": [],
   "source": [
    "## Import de tous les modules utilees pour le préprocessing des données\n",
    "import numpy as np\n",
    "import matplotlib.pyplot as plt\n",
    "import seaborn as sns\n",
    "from sklearn.preprocessing import LabelEncoder, LabelBinarizer, OrdinalEncoder, OneHotEncoder"
   ]
  },
  {
   "cell_type": "markdown",
   "metadata": {},
   "source": [
    "### Encodage de Labels : LabelEncoder et  LabelBinarizer\n"
   ]
  },
  {
   "cell_type": "code",
   "execution_count": 29,
   "metadata": {
    "colab": {
     "base_uri": "https://localhost:8080/",
     "height": 34
    },
    "colab_type": "code",
    "id": "SjxLoV7Bll8h",
    "outputId": "67529cf8-830b-4508-ed80-dbe18fb2e662",
    "ExecuteTime": {
     "end_time": "2023-11-15T07:32:47.337976400Z",
     "start_time": "2023-11-15T07:32:47.095264700Z"
    }
   },
   "outputs": [
    {
     "data": {
      "text/plain": "array([0, 1, 0, 2], dtype=int64)"
     },
     "execution_count": 29,
     "metadata": {},
     "output_type": "execute_result"
    }
   ],
   "source": [
    "# Le label encoder est spécfique au label, ne jamais utiliser pour les X.\n",
    "y = np.array(['chat', 'chien', 'chat', 'oiseau'])\n",
    "\n",
    "encoder = LabelEncoder()\n",
    "encoder.fit_transform(y)"
   ]
  },
  {
   "cell_type": "code",
   "execution_count": 30,
   "metadata": {
    "colab": {
     "base_uri": "https://localhost:8080/",
     "height": 34
    },
    "colab_type": "code",
    "id": "IP2lgap-mYwS",
    "outputId": "08a0b6f3-c271-4a50-ab19-b1f35d4efc30",
    "ExecuteTime": {
     "end_time": "2023-11-15T07:32:47.347532200Z",
     "start_time": "2023-11-15T07:32:47.108829600Z"
    }
   },
   "outputs": [
    {
     "data": {
      "text/plain": "array(['chat', 'chat', 'oiseau'], dtype='<U6')"
     },
     "execution_count": 30,
     "metadata": {},
     "output_type": "execute_result"
    }
   ],
   "source": [
    "# On peut passer des valeurs vers les vrais labels.\n",
    "encoder.inverse_transform(np.array([0, 0, 2]))"
   ]
  },
  {
   "cell_type": "code",
   "execution_count": 31,
   "metadata": {
    "colab": {
     "base_uri": "https://localhost:8080/",
     "height": 85
    },
    "colab_type": "code",
    "id": "5--7T3R6nOem",
    "outputId": "45c0f84b-e6a3-4fed-816e-86ea8efcb13a",
    "ExecuteTime": {
     "end_time": "2023-11-15T07:32:47.355531900Z",
     "start_time": "2023-11-15T07:32:47.126940100Z"
    }
   },
   "outputs": [
    {
     "data": {
      "text/plain": "array([[1, 0, 0],\n       [0, 1, 0],\n       [1, 0, 0],\n       [0, 0, 1]])"
     },
     "execution_count": 31,
     "metadata": {},
     "output_type": "execute_result"
    }
   ],
   "source": [
    "# représentation binaire des labels \n",
    "encoder = LabelBinarizer()\n",
    "encoder.fit_transform(y)"
   ]
  },
  {
   "cell_type": "markdown",
   "metadata": {
    "colab_type": "text",
    "id": "2Yy4VrRpnc9y"
   },
   "source": [
    "### Encodage Ordinal et Encodage OneHot\n",
    "Associe des entiers à des strings."
   ]
  },
  {
   "cell_type": "code",
   "execution_count": 32,
   "metadata": {
    "colab": {
     "base_uri": "https://localhost:8080/",
     "height": 85
    },
    "colab_type": "code",
    "id": "hzhb6bmemf6m",
    "outputId": "8a0232c8-17ed-4f7a-cf68-27142c666253",
    "ExecuteTime": {
     "end_time": "2023-11-15T07:32:47.359556Z",
     "start_time": "2023-11-15T07:32:47.140116500Z"
    }
   },
   "outputs": [
    {
     "data": {
      "text/plain": "array([[0., 1.],\n       [1., 1.],\n       [0., 1.],\n       [2., 0.]])"
     },
     "execution_count": 32,
     "metadata": {},
     "output_type": "execute_result"
    }
   ],
   "source": [
    "X = np.array([['chat', 'poils'],\n",
    "              ['chien', 'poils'],\n",
    "              ['chat', 'poils'],\n",
    "              ['oiseau', 'plumes']])\n",
    "\n",
    "encoder = OrdinalEncoder()\n",
    "encoder.fit_transform(X)"
   ]
  },
  {
   "cell_type": "markdown",
   "metadata": {},
   "source": [
    "La représentation oneHot (on la verra plus en détail dans le cours sur le deep learning) consiste à représenter les données sous forme vectorielle dans l'espace vectoriel engendré par tout le vocbulaire du \"feature\" concerné.\n",
    "Par exemple si un feature comporte 10 mots (données) différents, chaque mot du vocabulaire représente une coordonnée dans l'espace vectoriel."
   ]
  },
  {
   "cell_type": "code",
   "execution_count": 33,
   "metadata": {
    "colab": {
     "base_uri": "https://localhost:8080/",
     "height": 85
    },
    "colab_type": "code",
    "id": "DN76sqsjm97-",
    "outputId": "0f915809-779a-4fbb-878b-5ad1077d8e05",
    "ExecuteTime": {
     "end_time": "2023-11-15T07:32:47.390858200Z",
     "start_time": "2023-11-15T07:32:47.154702300Z"
    }
   },
   "outputs": [
    {
     "name": "stderr",
     "output_type": "stream",
     "text": [
      "C:\\Users\\Baran\\anaconda3\\lib\\site-packages\\sklearn\\preprocessing\\_encoders.py:828: FutureWarning: `sparse` was renamed to `sparse_output` in version 1.2 and will be removed in 1.4. `sparse_output` is ignored unless you leave `sparse` to its default value.\n",
      "  warnings.warn(\n"
     ]
    },
    {
     "data": {
      "text/plain": "array([[1., 0., 0., 0., 1.],\n       [0., 1., 0., 0., 1.],\n       [1., 0., 0., 0., 1.],\n       [0., 0., 1., 1., 0.]])"
     },
     "execution_count": 33,
     "metadata": {},
     "output_type": "execute_result"
    }
   ],
   "source": [
    "### Voici un exemple de OneHot\n",
    "encoder = OneHotEncoder(sparse=False)\n",
    "encoder.fit_transform(X)"
   ]
  },
  {
   "cell_type": "markdown",
   "metadata": {},
   "source": [
    "## Encodage Données ?\n",
    "Ecrire le code qui permet d'encoder la colonne Sex du fichier Titanic.\n",
    "Et les labels du dataset iris."
   ]
  },
  {
   "cell_type": "code",
   "execution_count": 34,
   "outputs": [],
   "source": [
    "import pandas as pd"
   ],
   "metadata": {
    "collapsed": false,
    "ExecuteTime": {
     "end_time": "2023-11-15T07:32:47.407511600Z",
     "start_time": "2023-11-15T07:32:47.169708400Z"
    }
   }
  },
  {
   "cell_type": "code",
   "execution_count": 56,
   "outputs": [
    {
     "name": "stdout",
     "output_type": "stream",
     "text": [
      "[0 1 2]\n"
     ]
    }
   ],
   "source": [
    "## Encodage Données ?\n",
    "#Ecrire le code qui permet d'encoder la colonne Sex du fichier Titanic.\n",
    "#Et les labels du dataset iris.\n",
    "\n",
    "titanic = pd.read_csv(\"https://github.com/datasciencedojo/datasets/blob/master/titanic.csv?raw=true\") # raw signifie que l'on veut le fichier brut\n",
    "#titanic.head()\n",
    "\n",
    "iris = pd.read_csv(\"https://gist.githubusercontent.com/netj/8836201/raw/6f9306ad21398ea43cba4f7d537619d0e07d5ae3/iris.csv?raw=true\")\n",
    "#encodage colonne sex de titanic\n",
    "encoder = LabelEncoder()\n",
    "titanic[\"Sex\"] = encoder.fit_transform(titanic[\"Sex\"])\n",
    "\n",
    "iris[\"variety\"] = encoder.fit_transform(iris[\"variety\"])\n",
    "print(iris[\"variety\"].unique())\n"
   ],
   "metadata": {
    "collapsed": false,
    "ExecuteTime": {
     "end_time": "2023-11-15T08:13:19.669134100Z",
     "start_time": "2023-11-15T08:13:17.548630Z"
    }
   }
  },
  {
   "cell_type": "markdown",
   "metadata": {
    "colab_type": "text",
    "id": "ADFisPk-ntrs",
    "tags": []
   },
   "source": [
    "\n",
    "## 2. Normalisation\n",
    "La normalisation est fondamentale en machine learning.\n",
    "**from sklearn.preprocessing** propose plusieurs classes (**MinMaxScaler, StandardScaler, RobustScaler**).\n",
    " La normalisation, d'ailleurs comme l'encodage,  s'effectuer en appelant la méthode **fit_transform()** de la classe choisie."
   ]
  },
  {
   "cell_type": "code",
   "execution_count": 36,
   "metadata": {
    "colab": {},
    "colab_type": "code",
    "id": "hDJ463bmoD82",
    "ExecuteTime": {
     "end_time": "2023-11-15T07:32:53.086913400Z",
     "start_time": "2023-11-15T07:32:53.063252900Z"
    }
   },
   "outputs": [],
   "source": [
    "# Appel des trois classes de normalisation que nous allons exploiter.\n",
    "from sklearn.preprocessing import MinMaxScaler, StandardScaler, RobustScaler"
   ]
  },
  {
   "cell_type": "code",
   "execution_count": 61,
   "outputs": [
    {
     "name": "stdout",
     "output_type": "stream",
     "text": [
      "[[-0.89443562]\n",
      " [-1.2707354 ]\n",
      " [ 0.95811712]\n",
      " [-0.02605152]\n",
      " [-0.9523279 ]\n",
      " [ 1.21863235]\n",
      " [-0.4023513 ]\n",
      " [ 1.18968622]\n",
      " [ 1.24757849]\n",
      " [-1.06811244]]\n",
      "[8] 8\n"
     ]
    }
   ],
   "source": [
    "X = np.random.randint(0, 100, [10, 1]) # \n",
    "#normaliser les données avec la fonction MinMaxScaler\n",
    "#normaliser les données\n",
    "\n",
    "mean = X.mean()\n",
    "std = X.std()\n",
    "X_norm = (X - mean) / std\n",
    "print(X_norm)\n",
    "\n",
    "#calcul du min manuelement\n",
    "xmin = -1\n",
    "for (i, x) in enumerate(X):\n",
    "    if i == 0:\n",
    "        xmin = x\n",
    "    else:\n",
    "        if x < xmin:\n",
    "            xmin = x\n",
    "\n",
    "print(xmin,X.min())\n",
    "\n",
    "    "
   ],
   "metadata": {
    "collapsed": false,
    "ExecuteTime": {
     "end_time": "2023-11-15T08:22:41.558413Z",
     "start_time": "2023-11-15T08:22:41.525401Z"
    }
   }
  },
  {
   "cell_type": "markdown",
   "source": [
    "#### MinMaxScaler\n"
   ],
   "metadata": {
    "collapsed": false
   }
  },
  {
   "cell_type": "code",
   "execution_count": 62,
   "metadata": {
    "ExecuteTime": {
     "end_time": "2023-11-15T08:28:46.221705900Z",
     "start_time": "2023-11-15T08:28:46.102636200Z"
    }
   },
   "outputs": [
    {
     "data": {
      "text/plain": "<matplotlib.collections.PathCollection at 0x1742fa4f9d0>"
     },
     "execution_count": 62,
     "metadata": {},
     "output_type": "execute_result"
    },
    {
     "data": {
      "text/plain": "<Figure size 640x480 with 1 Axes>",
      "image/png": "[encoded data removed]"
     },
     "metadata": {},
     "output_type": "display_data"
    }
   ],
   "source": [
    "X_minmax = MinMaxScaler().fit_transform(X)\n",
    "# minmax scaler sert a normaliser les données \n",
    "#la méthode c'est de soustraire la valeur min et diviser par la différence entre max et min soit (x - min) / (max - min)\n",
    "plt.scatter(range(len(X)), X)\n",
    "plt.scatter(range(len(X)), X_minmax , c=\"red\")"
   ]
  },
  {
   "cell_type": "markdown",
   "metadata": {},
   "source": [
    "#### StandardScaler"
   ]
  },
  {
   "cell_type": "code",
   "execution_count": 63,
   "metadata": {
    "ExecuteTime": {
     "end_time": "2023-11-15T08:28:59.783426100Z",
     "start_time": "2023-11-15T08:28:59.655762800Z"
    }
   },
   "outputs": [
    {
     "data": {
      "text/plain": "<matplotlib.collections.PathCollection at 0x1742f9fc160>"
     },
     "execution_count": 63,
     "metadata": {},
     "output_type": "execute_result"
    },
    {
     "data": {
      "text/plain": "<Figure size 640x480 with 1 Axes>",
      "image/png": "[encoded data removed]"
     },
     "metadata": {},
     "output_type": "display_data"
    }
   ],
   "source": [
    "X_stdscl = StandardScaler().fit_transform(X)\n",
    "#standard scaler sert a normaliser les données\n",
    "plt.scatter(range(len(X)), X)\n",
    "plt.scatter(range(len(X)), X_stdscl , c=\"red\")\n",
    "     \n",
    "#plt.scatter(X[:, 2], X[:, 3])\n",
    "#plt.scatter(X_stdscl[:, 2], X_stdscl[:, 3], c=\"red\")"
   ]
  },
  {
   "cell_type": "markdown",
   "metadata": {},
   "source": [
    "#### RobustScaler\n",
    "très êu sensible aux outliers "
   ]
  },
  {
   "cell_type": "code",
   "execution_count": 40,
   "metadata": {
    "ExecuteTime": {
     "end_time": "2023-11-15T07:32:53.459901300Z",
     "start_time": "2023-11-15T07:32:53.335748400Z"
    }
   },
   "outputs": [
    {
     "data": {
      "text/plain": "<matplotlib.collections.PathCollection at 0x1742dd74910>"
     },
     "execution_count": 40,
     "metadata": {},
     "output_type": "execute_result"
    },
    {
     "data": {
      "text/plain": "<Figure size 640x480 with 1 Axes>",
      "image/png": "[encoded data removed]"
     },
     "metadata": {},
     "output_type": "display_data"
    }
   ],
   "source": [
    "X_robust = RobustScaler().fit_transform(X)\n",
    "plt.scatter(range(len(X)), X)\n",
    "plt.scatter(range(len(X)), X_robust , c=\"red\")\n",
    "# robust scaler sert a normaliser les données\n",
    "# la méthode de robustscaler est de soustraire la médiane et diviser par l'écart interquartile soit (x - médiane) / (Q3 - Q1)\n",
    "#plt.scatter(X[:, 2], X[:, 3])\n",
    "#plt.scatter(X_robust[:, 2], X_robust[:, 3], c=\"red\")"
   ]
  },
  {
   "cell_type": "markdown",
   "metadata": {},
   "source": [
    "#### Question :\n",
    "Ecrire vos propres fonctions qui permettent de coder les deux normalisations : Minmax et la Satndardisation (Utiliser, les fonctions min, max, ecart type et variance) de numpy. "
   ]
  },
  {
   "cell_type": "markdown",
   "metadata": {
    "colab_type": "text",
    "id": "6Gby2B53qIyM"
   },
   "source": [
    "## 3. Discretisation\n",
    "Ce tranformer permet de discrétiser (convertir/découper) une liste de valeurs vers une liste de catégories. Il existe deux transformers : \n",
    "- Binarizer (binarisation) deux valeurs possibles 1 ou 0: il convertit une liste valeurs vers $0$ ou $1$ en fonction d'un seuil. \n",
    "    - Exemple : 5 valeurs, 1,3,5,6,7, à partager dans deux catéories $0$ ou $1$, avec un seuil de $4$. $ toutes celles qui sont inéfereures $<seuil$ (soient 1 et 3) auront 0 et les autres 1 \n",
    "- KBinsDiscretizer : permet de faire la même chose, mais la liste est découpée en plusieurs catégories **KBinsDiscretizer(n_bins=6)**"
   ]
  },
  {
   "cell_type": "code",
   "execution_count": 64,
   "metadata": {
    "colab": {},
    "colab_type": "code",
    "id": "VphiFHiDp_3P",
    "ExecuteTime": {
     "end_time": "2023-11-15T09:06:13.691290500Z",
     "start_time": "2023-11-15T09:06:13.686009100Z"
    }
   },
   "outputs": [],
   "source": [
    "from sklearn.preprocessing import Binarizer, KBinsDiscretizer"
   ]
  },
  {
   "cell_type": "code",
   "execution_count": 65,
   "metadata": {
    "colab": {},
    "colab_type": "code",
    "id": "D7ys9gBkqWJg",
    "ExecuteTime": {
     "end_time": "2023-11-15T09:06:14.254593Z",
     "start_time": "2023-11-15T09:06:14.231943600Z"
    }
   },
   "outputs": [],
   "source": [
    "X = np.linspace(0, 5, 10).reshape((10, 1))"
   ]
  },
  {
   "cell_type": "code",
   "execution_count": 66,
   "metadata": {
    "colab": {
     "base_uri": "https://localhost:8080/",
     "height": 187
    },
    "colab_type": "code",
    "id": "dO8OgPA6qaOv",
    "outputId": "a2772f99-a635-4a30-ae3f-ffb2a3a2dc95",
    "ExecuteTime": {
     "end_time": "2023-11-15T09:06:14.851268700Z",
     "start_time": "2023-11-15T09:06:14.801044200Z"
    }
   },
   "outputs": [
    {
     "data": {
      "text/plain": "array([[0.],\n       [0.],\n       [0.],\n       [0.],\n       [0.],\n       [0.],\n       [1.],\n       [1.],\n       [1.],\n       [1.]])"
     },
     "execution_count": 66,
     "metadata": {},
     "output_type": "execute_result"
    }
   ],
   "source": [
    "Binarizer(threshold=3).fit_transform(X)"
   ]
  },
  {
   "cell_type": "code",
   "execution_count": 67,
   "metadata": {
    "ExecuteTime": {
     "end_time": "2023-11-15T09:06:18.594965300Z",
     "start_time": "2023-11-15T09:06:18.573690Z"
    }
   },
   "outputs": [
    {
     "data": {
      "text/plain": "array([[0.        , 0.        ],\n       [0.55555556, 0.        ],\n       [1.11111111, 0.        ],\n       [1.66666667, 0.        ],\n       [2.22222222, 0.        ],\n       [2.77777778, 0.        ],\n       [3.33333333, 1.        ],\n       [3.88888889, 1.        ],\n       [4.44444444, 1.        ],\n       [5.        , 1.        ]])"
     },
     "execution_count": 67,
     "metadata": {},
     "output_type": "execute_result"
    }
   ],
   "source": [
    "np.hstack((X, Binarizer(threshold=3).fit_transform(X)))"
   ]
  },
  {
   "cell_type": "code",
   "execution_count": 45,
   "metadata": {
    "colab": {
     "base_uri": "https://localhost:8080/",
     "height": 187
    },
    "colab_type": "code",
    "id": "e7sIGJizqihx",
    "outputId": "ae461672-e4b8-4393-e865-aef7f48bcf4b",
    "ExecuteTime": {
     "end_time": "2023-11-15T07:32:53.528743300Z",
     "start_time": "2023-11-15T07:32:53.514235700Z"
    }
   },
   "outputs": [
    {
     "data": {
      "text/plain": "array([[1., 0., 0., 0., 0., 0.],\n       [1., 0., 0., 0., 0., 0.],\n       [0., 1., 0., 0., 0., 0.],\n       [0., 1., 0., 0., 0., 0.],\n       [0., 0., 1., 0., 0., 0.],\n       [0., 0., 0., 1., 0., 0.],\n       [0., 0., 0., 1., 0., 0.],\n       [0., 0., 0., 0., 1., 0.],\n       [0., 0., 0., 0., 0., 1.],\n       [0., 0., 0., 0., 0., 1.]])"
     },
     "execution_count": 45,
     "metadata": {},
     "output_type": "execute_result"
    }
   ],
   "source": [
    "KBinsDiscretizer(n_bins=6).fit_transform(X).toarray()"
   ]
  },
  {
   "cell_type": "code",
   "execution_count": 46,
   "metadata": {
    "colab": {
     "base_uri": "https://localhost:8080/",
     "height": 51
    },
    "colab_type": "code",
    "id": "k0qEyE_h-bOI",
    "outputId": "7d3217ef-69ff-43c7-aa15-176f89c8209e",
    "ExecuteTime": {
     "end_time": "2023-11-15T07:32:53.547744100Z",
     "start_time": "2023-11-15T07:32:53.527743600Z"
    }
   },
   "outputs": [],
   "source": [
    "import numpy as np\n",
    "import matplotlib.pyplot as plt\n",
    "import pandas as pd\n",
    "from sklearn.linear_model import SGDClassifier, LogisticRegression"
   ]
  },
  {
   "cell_type": "markdown",
   "metadata": {
    "colab_type": "text",
    "id": "N-Hu2w2A-z-f"
   },
   "source": [
    "## 4. Traitement des valeurs manquantes"
   ]
  },
  {
   "cell_type": "markdown",
   "metadata": {},
   "source": [
    "#### SimpleImputer\n",
    "\n",
    "Permet de remplacer les valeurs manquantes, listées dans **missing_values**  par une autre valeur définie dans **strategy**.\n",
    "Il offre différentes stratégies, notamment le remplacement des valeurs manquantes par la moyenne, la médiane, la valeur fréquente ou une valeur constante. \n",
    "```missing values``` : permet d'indiquer les valeurs manquantes par exemple \"np.nan\", valeurs négatives.\n",
    "```srategy``` : choisir la stragétie pour remplacer ces valeurs.\n"
   ]
  },
  {
   "cell_type": "code",
   "execution_count": 68,
   "metadata": {
    "colab": {},
    "colab_type": "code",
    "id": "IEOHOX0z-vLg",
    "ExecuteTime": {
     "end_time": "2023-11-15T09:07:18.872530900Z",
     "start_time": "2023-11-15T09:07:18.856911900Z"
    }
   },
   "outputs": [],
   "source": [
    "from sklearn.impute import SimpleImputer"
   ]
  },
  {
   "cell_type": "code",
   "execution_count": 69,
   "metadata": {
    "colab": {
     "base_uri": "https://localhost:8080/",
     "height": 85
    },
    "colab_type": "code",
    "id": "sHpxOuJ7-26g",
    "outputId": "5edce2f9-a33c-48f2-f51a-763f8fbdecb8",
    "ExecuteTime": {
     "end_time": "2023-11-15T09:07:19.341926900Z",
     "start_time": "2023-11-15T09:07:19.325292400Z"
    }
   },
   "outputs": [
    {
     "data": {
      "text/plain": "array([[10.,  3.],\n       [ 0.,  4.],\n       [ 5.,  3.],\n       [ 5.,  3.]])"
     },
     "execution_count": 69,
     "metadata": {},
     "output_type": "execute_result"
    }
   ],
   "source": [
    "X = np.array([[10, 3],\n",
    "              [0, 4],\n",
    "              [5, 3],\n",
    "             [np.nan, 3]])\n",
    "\n",
    "# Définition d'un Imputer pour les valeurs qui manque : ici  nan, puis on définit une stratégie remplacer par la moyenne\n",
    "imputer = SimpleImputer(missing_values=np.nan,strategy='mean')\n",
    "\n",
    "imputer.fit_transform(X)"
   ]
  },
  {
   "cell_type": "code",
   "execution_count": 70,
   "metadata": {
    "colab": {
     "base_uri": "https://localhost:8080/",
     "height": 85
    },
    "colab_type": "code",
    "id": "DsqbBpis-53U",
    "outputId": "22a0b93d-7ce4-4f45-f7b1-630d4a7fb85a",
    "ExecuteTime": {
     "end_time": "2023-11-15T09:07:32.514648300Z",
     "start_time": "2023-11-15T09:07:32.490060400Z"
    }
   },
   "outputs": [
    {
     "data": {
      "text/plain": "array([[12.  ,  5.  ],\n       [40.  ,  2.  ],\n       [ 5.  ,  5.  ],\n       [ 5.  ,  3.25]])"
     },
     "execution_count": 70,
     "metadata": {},
     "output_type": "execute_result"
    }
   ],
   "source": [
    "X_test = np.array([[12, 5],\n",
    "                   [40, 2],\n",
    "                   [5, 5],\n",
    "                   [np.nan, np.nan]])\n",
    "imputer.transform(X_test)"
   ]
  },
  {
   "cell_type": "markdown",
   "metadata": {
    "colab_type": "text",
    "id": "WbLbVBAs-_DQ"
   },
   "source": [
    "#### KNNImputer\n",
    "Ramplace les valeurs manquantes par les valeurs du (ou des) voisins(s) le(s) plus proche"
   ]
  },
  {
   "cell_type": "code",
   "execution_count": 71,
   "metadata": {
    "colab": {},
    "colab_type": "code",
    "id": "0FrFu7JW-7Y_",
    "ExecuteTime": {
     "end_time": "2023-11-15T09:08:16.638982600Z",
     "start_time": "2023-11-15T09:08:16.626752Z"
    }
   },
   "outputs": [],
   "source": [
    "from sklearn.impute import KNNImputer"
   ]
  },
  {
   "cell_type": "code",
   "execution_count": 72,
   "metadata": {
    "colab": {
     "base_uri": "https://localhost:8080/",
     "height": 85
    },
    "colab_type": "code",
    "id": "EiGkCzvr_BcW",
    "outputId": "af93e8ac-c19c-456f-b360-b2fc5cb876c8",
    "ExecuteTime": {
     "end_time": "2023-11-15T09:08:18.130480400Z",
     "start_time": "2023-11-15T09:08:18.119191100Z"
    }
   },
   "outputs": [
    {
     "data": {
      "text/plain": "array([[  1., 100.],\n       [  2.,  30.],\n       [  3.,  15.],\n       [  3.,  20.]])"
     },
     "execution_count": 72,
     "metadata": {},
     "output_type": "execute_result"
    }
   ],
   "source": [
    "X = np.array([[1, 100],\n",
    "             [2, 30],\n",
    "             [3, 15],\n",
    "             [np.nan, 20]])\n",
    "\n",
    "imputer = KNNImputer(n_neighbors=1)\n",
    "imputer.fit_transform(X) #KNNImputer sert a remplacer les valeurs manquantes par les valeurs du (ou des) voisins(s) le(s) plus proche"
   ]
  },
  {
   "cell_type": "code",
   "execution_count": 73,
   "metadata": {
    "colab": {
     "base_uri": "https://localhost:8080/",
     "height": 34
    },
    "colab_type": "code",
    "id": "U4xbPUPN_DR4",
    "outputId": "99db28fd-47ff-4417-e505-bc343ba3e979",
    "ExecuteTime": {
     "end_time": "2023-11-15T09:08:43.535546200Z",
     "start_time": "2023-11-15T09:08:43.502682800Z"
    }
   },
   "outputs": [
    {
     "data": {
      "text/plain": "array([[ 2., 35.]])"
     },
     "execution_count": 73,
     "metadata": {},
     "output_type": "execute_result"
    }
   ],
   "source": [
    "X_test = np.array([[np.nan, 35]])\n",
    "imputer.transform(X_test)"
   ]
  },
  {
   "cell_type": "code",
   "execution_count": null,
   "outputs": [],
   "source": [],
   "metadata": {
    "collapsed": false
   }
  }
 ],
 "metadata": {
  "colab": {
   "authorship_tag": "ABX9TyOlOi/QHFRit1KCRCuq60Jp",
   "include_colab_link": true,
   "name": "Untitled18.ipynb",
   "provenance": []
  },
  "kernelspec": {
   "display_name": "Python 3 (ipykernel)",
   "language": "python",
   "name": "python3"
  },
  "language_info": {
   "codemirror_mode": {
    "name": "ipython",
    "version": 3
   },
   "file_extension": ".py",
   "mimetype": "text/x-python",
   "name": "python",
   "nbconvert_exporter": "python",
   "pygments_lexer": "ipython3",
   "version": "3.11.4"
  }
 },
 "nbformat": 4,
 "nbformat_minor": 4
}
